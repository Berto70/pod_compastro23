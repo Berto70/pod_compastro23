{
 "cells": [
  {
   "cell_type": "markdown",
   "id": "0d4072cc",
   "metadata": {},
   "source": [
    "<center><h1>Management and Analysis of Physics Dataset (MOD. B) </h1></center>\n",
    "<center><h2> Project 5 - Streaming processing of cosmic rays using Drift Tubes detectors</h2></center>\n",
    "<center><h2>Group 2305</h2></center>\n",
    "\n",
    "<center><style>\n",
    "    table {font-size: 24px;}\n",
    "</style></center>\n",
    "\n",
    "| Last Name        | First Name         |Student ID|\n",
    "|:----------------:|:------------------:|:--------------:|\n",
    "| Bertinelli       | Gabriele           |1219907 (tri)   |\n",
    "| Bhatti           | Roben              |2091187         |\n",
    "| Bonato           | Diego              |2091250         |\n",
    "| Cacciola         | Martina            |2097476         |\n",
    "\n",
    "<left><h2> Part 3 - Live Dashboard</h2></left>"
   ]
  },
  {
   "cell_type": "markdown",
   "id": "9c022957",
   "metadata": {},
   "source": [
    "### Import packages and modules "
   ]
  },
  {
   "cell_type": "code",
   "execution_count": 1,
   "id": "fd0d2602",
   "metadata": {},
   "outputs": [],
   "source": [
    "from bokeh.io import curdoc,show,output_notebook\n",
    "from bokeh.models import ColumnDataSource, DatetimeTickFormatter, Select, Div\n",
    "from bokeh.layouts import layout,gridplot,column,row\n",
    "from bokeh.plotting import figure\n",
    "from datetime import datetime\n",
    "from datetime import datetime\n",
    "from math import radians\n",
    "import numpy as np\n",
    "import json\n",
    "import random"
   ]
  },
  {
   "cell_type": "code",
   "execution_count": 2,
   "id": "d25aab71",
   "metadata": {},
   "outputs": [],
   "source": [
    "from bokeh.io import curdoc,show,output_notebook\n",
    "from bokeh.models import ColumnDataSource, DatetimeTickFormatter, Select, Div\n",
    "from bokeh.layouts import layout,gridplot,column,row\n",
    "from bokeh.plotting import figure\n",
    "from datetime import datetime\n",
    "from datetime import datetime\n",
    "from math import radians\n",
    "import numpy as np\n",
    "import json\n",
    "import random\n",
    "\n",
    "import kafka\n",
    "from kafka import KafkaProducer\n",
    "from kafka import KafkaConsumer\n",
    "from kafka.admin import KafkaAdminClient"
   ]
  },
  {
   "cell_type": "markdown",
   "id": "a960f875",
   "metadata": {},
   "source": [
    "### Consumer creation\n",
    "\n",
    "Subscribing to a topic establishes a connection between the consumer and the partitions of the subscribed topic hosted on the Kafka brokers. This connection allows the consumer to start *polling* for messages from those partitions."
   ]
  },
  {
   "cell_type": "code",
   "execution_count": 3,
   "id": "7bf6c200",
   "metadata": {},
   "outputs": [
    {
     "data": {
      "text/plain": [
       "['data_clean', 'test_clean_1', 'data_raw', '__consumer_offsets']"
      ]
     },
     "execution_count": 3,
     "metadata": {},
     "output_type": "execute_result"
    }
   ],
   "source": [
    "KAFKA_BOOTSTRAP_SERVER = '##'\n",
    "\n",
    "kafka_admin = KafkaAdminClient(bootstrap_servers = KAFKA_BOOTSTRAP_SERVER)\n",
    "kafka_admin.list_topics()"
   ]
  },
  {
   "cell_type": "code",
   "execution_count": 4,
   "id": "8f9aaa9d",
   "metadata": {},
   "outputs": [],
   "source": [
    "# Initialize Kafka consumer by subscribing to the topic\n",
    "consumer = KafkaConsumer('data_clean',\n",
    "                         bootstrap_servers = KAFKA_BOOTSTRAP_SERVER)\n",
    "                        "
   ]
  },
  {
   "cell_type": "markdown",
   "id": "84c34e0c",
   "metadata": {},
   "source": [
    "## Create figure"
   ]
  },
  {
   "cell_type": "code",
   "execution_count": 5,
   "id": "9625da6e",
   "metadata": {},
   "outputs": [
    {
     "data": {
      "text/html": [
       "<div style=\"display: table;\"><div style=\"display: table-row;\"><div style=\"display: table-cell;\"><b title=\"bokeh.models.renderers.glyph_renderer.GlyphRenderer\">GlyphRenderer</b>(</div><div style=\"display: table-cell;\">id&nbsp;=&nbsp;'p1752', <span id=\"p1756\" style=\"cursor: pointer;\">&hellip;)</span></div></div><div class=\"p1755\" style=\"display: none;\"><div style=\"display: table-cell;\"></div><div style=\"display: table-cell;\">coordinates&nbsp;=&nbsp;None,</div></div><div class=\"p1755\" style=\"display: none;\"><div style=\"display: table-cell;\"></div><div style=\"display: table-cell;\">data_source&nbsp;=&nbsp;ColumnDataSource(id='p1635', ...),</div></div><div class=\"p1755\" style=\"display: none;\"><div style=\"display: table-cell;\"></div><div style=\"display: table-cell;\">glyph&nbsp;=&nbsp;Quad(id='p1749', ...),</div></div><div class=\"p1755\" style=\"display: none;\"><div style=\"display: table-cell;\"></div><div style=\"display: table-cell;\">group&nbsp;=&nbsp;None,</div></div><div class=\"p1755\" style=\"display: none;\"><div style=\"display: table-cell;\"></div><div style=\"display: table-cell;\">hover_glyph&nbsp;=&nbsp;None,</div></div><div class=\"p1755\" style=\"display: none;\"><div style=\"display: table-cell;\"></div><div style=\"display: table-cell;\">js_event_callbacks&nbsp;=&nbsp;{},</div></div><div class=\"p1755\" style=\"display: none;\"><div style=\"display: table-cell;\"></div><div style=\"display: table-cell;\">js_property_callbacks&nbsp;=&nbsp;{},</div></div><div class=\"p1755\" style=\"display: none;\"><div style=\"display: table-cell;\"></div><div style=\"display: table-cell;\">level&nbsp;=&nbsp;'glyph',</div></div><div class=\"p1755\" style=\"display: none;\"><div style=\"display: table-cell;\"></div><div style=\"display: table-cell;\">muted&nbsp;=&nbsp;False,</div></div><div class=\"p1755\" style=\"display: none;\"><div style=\"display: table-cell;\"></div><div style=\"display: table-cell;\">muted_glyph&nbsp;=&nbsp;Quad(id='p1751', ...),</div></div><div class=\"p1755\" style=\"display: none;\"><div style=\"display: table-cell;\"></div><div style=\"display: table-cell;\">name&nbsp;=&nbsp;None,</div></div><div class=\"p1755\" style=\"display: none;\"><div style=\"display: table-cell;\"></div><div style=\"display: table-cell;\">nonselection_glyph&nbsp;=&nbsp;Quad(id='p1750', ...),</div></div><div class=\"p1755\" style=\"display: none;\"><div style=\"display: table-cell;\"></div><div style=\"display: table-cell;\">propagate_hover&nbsp;=&nbsp;False,</div></div><div class=\"p1755\" style=\"display: none;\"><div style=\"display: table-cell;\"></div><div style=\"display: table-cell;\">selection_glyph&nbsp;=&nbsp;'auto',</div></div><div class=\"p1755\" style=\"display: none;\"><div style=\"display: table-cell;\"></div><div style=\"display: table-cell;\">subscribed_events&nbsp;=&nbsp;PropertyValueSet(),</div></div><div class=\"p1755\" style=\"display: none;\"><div style=\"display: table-cell;\"></div><div style=\"display: table-cell;\">syncable&nbsp;=&nbsp;True,</div></div><div class=\"p1755\" style=\"display: none;\"><div style=\"display: table-cell;\"></div><div style=\"display: table-cell;\">tags&nbsp;=&nbsp;[],</div></div><div class=\"p1755\" style=\"display: none;\"><div style=\"display: table-cell;\"></div><div style=\"display: table-cell;\">view&nbsp;=&nbsp;CDSView(id='p1753', ...),</div></div><div class=\"p1755\" style=\"display: none;\"><div style=\"display: table-cell;\"></div><div style=\"display: table-cell;\">visible&nbsp;=&nbsp;True,</div></div><div class=\"p1755\" style=\"display: none;\"><div style=\"display: table-cell;\"></div><div style=\"display: table-cell;\">x_range_name&nbsp;=&nbsp;'default',</div></div><div class=\"p1755\" style=\"display: none;\"><div style=\"display: table-cell;\"></div><div style=\"display: table-cell;\">y_range_name&nbsp;=&nbsp;'default')</div></div></div>\n",
       "<script>\n",
       "(function() {\n",
       "  let expanded = false;\n",
       "  const ellipsis = document.getElementById(\"p1756\");\n",
       "  ellipsis.addEventListener(\"click\", function() {\n",
       "    const rows = document.getElementsByClassName(\"p1755\");\n",
       "    for (let i = 0; i < rows.length; i++) {\n",
       "      const el = rows[i];\n",
       "      el.style.display = expanded ? \"none\" : \"table-row\";\n",
       "    }\n",
       "    ellipsis.innerHTML = expanded ? \"&hellip;)\" : \"&lsaquo;&lsaquo;&lsaquo;\";\n",
       "    expanded = !expanded;\n",
       "  });\n",
       "})();\n",
       "</script>\n"
      ],
      "text/plain": [
       "GlyphRenderer(id='p1752', ...)"
      ]
     },
     "execution_count": 5,
     "metadata": {},
     "output_type": "execute_result"
    }
   ],
   "source": [
    "p1 = figure(width=600, height=600)\n",
    "p2 = figure(width=350, height=350)\n",
    "p3 = figure(width=350, height=350)\n",
    "p4 = figure(width=350, height=350)\n",
    "p5 = figure(width=350, height=350)\n",
    "p6 = figure(width=350, height=350)\n",
    "p7 = figure(width=350, height=350)\n",
    "p8 = figure(width=350, height=350)\n",
    "p9 = figure(width=350, height=350)\n",
    "p10 = figure(width=350, height=350)\n",
    "p11 = figure(width=350, height=350)\n",
    "p12 = figure(width=350, height=350)\n",
    "p13 = figure(width=350, height=350)\n",
    "\n",
    "source1 = ColumnDataSource(dict(x=[], y=[]))\n",
    "source2 = ColumnDataSource(dict(x=[], y=[]))\n",
    "source3 = ColumnDataSource(dict(x=[], y=[]))\n",
    "source4 = ColumnDataSource(dict(x=[], y=[]))\n",
    "source5 = ColumnDataSource(dict(x=[], y=[]))\n",
    "source6 = ColumnDataSource(dict(top=[], left=[], right=[]))\n",
    "source7 = ColumnDataSource(dict(top=[], left=[], right=[]))\n",
    "source8 = ColumnDataSource(dict(top=[], left=[], right=[]))\n",
    "source9 = ColumnDataSource(dict(top=[], left=[], right=[]))\n",
    "source10 = ColumnDataSource(dict(top=[], left=[], right=[]))\n",
    "source11 = ColumnDataSource(dict(top=[], left=[], right=[]))\n",
    "source12 = ColumnDataSource(dict(top=[], left=[], right=[]))\n",
    "source13 = ColumnDataSource(dict(top=[], left=[], right=[]))\n",
    "\n",
    "\n",
    "colors = [\"#FF0018\", \"#FF8C00\", \"#FFEF00\", \"#008026\", \"#FF0018\", \"#FF8C00\", \"#FFEF00\", \"#008026\", \"#FF0018\", \"#FF8C00\", \"#FFEF00\", \"#008026\", \"#FF0018\"]\n",
    "\n",
    "p1.line(x=\"x\", y=\"y\", line_width=10, color=colors[0], alpha=0.5, source=source1)\n",
    "p2.line(x=\"x\", y=\"y\", line_width=10, color=colors[1], alpha=0.5, source=source2)\n",
    "p3.line(x=\"x\", y=\"y\", line_width=10, color=colors[2], alpha=0.5, source=source3)\n",
    "p4.line(x=\"x\", y=\"y\", line_width=10, color=colors[3], alpha=0.5, source=source4)\n",
    "p5.line(x=\"x\", y=\"y\", line_width=10, color=colors[4], alpha=0.5, source=source5)\n",
    "p6.quad(top=\"top\", bottom=0, left=\"left\", right=\"right\", fill_color=colors[0], line_color=\"black\", source=source6)\n",
    "p7.quad(top=\"top\", bottom=0, left=\"left\", right=\"right\", fill_color=colors[1], line_color=\"black\", source=source7)\n",
    "p8.quad(top=\"top\", bottom=0, left=\"left\", right=\"right\", fill_color=colors[2], line_color=\"black\", source=source8)\n",
    "p9.quad(top=\"top\", bottom=0, left=\"left\", right=\"right\", fill_color=colors[3], line_color=\"black\", source=source9)\n",
    "p10.quad(top=\"top\", bottom=0, left=\"left\", right=\"right\", fill_color=colors[0], line_color=f\"{colors[0]}\", source=source10)\n",
    "p11.quad(top=\"top\", bottom=0, left=\"left\", right=\"right\", fill_color=colors[1], line_color=f\"{colors[1]}\", source=source11)\n",
    "p12.quad(top=\"top\", bottom=0, left=\"left\", right=\"right\", fill_color=colors[2], line_color=f\"{colors[2]}\", source=source12)\n",
    "p13.quad(top=\"top\", bottom=0, left=\"left\", right=\"right\", fill_color=colors[3], line_color=f\"{colors[3]}\", source=source13)\n"
   ]
  },
  {
   "cell_type": "markdown",
   "id": "2637fb2a",
   "metadata": {},
   "source": [
    " \n",
    "### Poll messages"
   ]
  },
  {
   "cell_type": "code",
   "execution_count": 6,
   "id": "c1b2ad0b",
   "metadata": {},
   "outputs": [],
   "source": [
    "def polling():\n",
    "    for msg in consumer:\n",
    "        value = json.loads(msg.value.decode('utf-8'))  # Convert the message value to a dictionary\n",
    "        break\n",
    "    return value"
   ]
  },
  {
   "cell_type": "code",
   "execution_count": 7,
   "id": "85ed2034",
   "metadata": {},
   "outputs": [],
   "source": [
    "def create_value():\n",
    "    \n",
    "    #instantiate dictionary\n",
    "    combined_dict = {}\n",
    "    \n",
    "    poll = polling()\n",
    "    \n",
    "    x = poll[\"msg_ID\"]\n",
    "    y = poll['hit_count'] \n",
    "    combined_dict[\"p1\"] = {\"x\": [x], \"y\": [y]}  \n",
    "\n",
    "    \n",
    "    for chamber in range(0,4):\n",
    "        #p2\n",
    "        x = poll[\"msg_ID\"]\n",
    "        y = poll['hit_count_chamber'][chamber]\n",
    "        \n",
    "        combined_dict[f\"p2_{chamber}\"] =  {\"x\": [x], \"y\": [y]}\n",
    "\n",
    "        #p3\n",
    "        chamber_data = poll[\"tdc_counts_chamber\"][f\"{chamber}\"]\n",
    "        edges = chamber_data[\"bin_edges\"]\n",
    "        counts = chamber_data[\"hist_counts\"]\n",
    "        \n",
    "        combined_dict[f\"p3_{chamber}\"] = {\"top\": counts[:-1], \"left\": edges[:-1], \"right\": edges[1:]}\n",
    "\n",
    "\n",
    "        #p4\n",
    "        chamber_data = poll[\"active_tdc_chamber\"][f\"{chamber}\"]\n",
    "        edges = chamber_data[\"bin_edges\"]\n",
    "        counts = chamber_data[\"hist_counts\"]\n",
    "\n",
    "        combined_dict[f\"p4_{chamber}\"] =  {\"top\": counts[:-1], \"left\": edges[:-1], \"right\": edges[1:]}\n",
    "\n",
    "    \n",
    "    return combined_dict"
   ]
  },
  {
   "cell_type": "markdown",
   "id": "9e93eb90",
   "metadata": {},
   "source": [
    "### Create Periodic Function"
   ]
  },
  {
   "cell_type": "code",
   "execution_count": 8,
   "id": "a358ebcc",
   "metadata": {},
   "outputs": [],
   "source": [
    "def update():\n",
    "    #poll data and filter them\n",
    "    new_data = create_value()\n",
    "    \n",
    "    #stream new data to dashboard\n",
    "    source1.stream(new_data[\"p1\"], rollover=200)\n",
    "\n",
    "    source2.stream(new_data[\"p2_0\"], rollover=200)\n",
    "\n",
    "    source3.stream(new_data[\"p2_1\"], rollover=200)\n",
    "\n",
    "    source4.stream(new_data[\"p2_2\"], rollover=200)\n",
    "\n",
    "    source5.stream(new_data[\"p2_3\"], rollover=200)\n",
    "\n",
    "    source6.data  = new_data[\"p3_0\"]\n",
    "\n",
    "    source7.data  = new_data[\"p3_1\"]\n",
    "\n",
    "    source8.data  = new_data[\"p3_2\"]\n",
    "\n",
    "    source9.data  = new_data[\"p3_3\"]\n",
    "\n",
    "    source10.data = new_data[\"p4_0\"]\n",
    "\n",
    "    source11.data = new_data[\"p4_1\"]\n",
    "\n",
    "    source12.data = new_data[\"p4_2\"]\n",
    "\n",
    "    source13.data = new_data[\"p4_3\"]\n"
   ]
  },
  {
   "cell_type": "markdown",
   "id": "66a765b6",
   "metadata": {},
   "source": [
    "### Format Axis"
   ]
  },
  {
   "cell_type": "code",
   "execution_count": 9,
   "id": "666323b9",
   "metadata": {},
   "outputs": [],
   "source": [
    "\n",
    "p1.xaxis.major_label_orientation = radians(80)\n",
    "p1.xaxis.axis_label = \"MSG ID\"\n",
    "p1.yaxis.axis_label = \"Number of hits\"\n",
    "p1.title.text = \"Total number of hits\"\n",
    "\n",
    "\n",
    "p2.xaxis.major_label_orientation = radians(80)\n",
    "p2.xaxis.axis_label =  \"MSG ID\"\n",
    "p2.yaxis.axis_label = \"Number of hits\"\n",
    "p2.title.text = \"Chamber 0\"\n",
    "\n",
    "p3.xaxis.major_label_orientation = radians(80)\n",
    "p3.xaxis.axis_label =  \"MSG ID\"\n",
    "p3.yaxis.axis_label = \"Number of hits\"\n",
    "p3.title.text = \"Chamber 1\"\n",
    "\n",
    "p4.xaxis.major_label_orientation = radians(80)\n",
    "p4.xaxis.axis_label = \"MSG ID\"\n",
    "p4.yaxis.axis_label = \"Number of hits\"\n",
    "p4.title.text = \"Chamber 2\"\n",
    "\n",
    "p5.xaxis.major_label_orientation = radians(80)\n",
    "p5.xaxis.axis_label =  \"MSG ID\"\n",
    "p4.yaxis.axis_label = \"Number of hits\"\n",
    "p5.title.text = \"Chamber 3\"\n",
    "\n",
    "\n",
    "p6.xaxis.major_label_orientation = radians(80)\n",
    "p6.xaxis.axis_label = 'TDC CHANNEL'\n",
    "p6.yaxis.axis_label = \"Number of counts\"\n",
    "p6.title.text = \"Chamber 0\"\n",
    "\n",
    "p7.xaxis.major_label_orientation = radians(80)\n",
    "p7.xaxis.axis_label = 'TDC CHANNEL'\n",
    "p7.yaxis.axis_label = \"Number of counts\"\n",
    "p7.title.text = \"Chamber 1\"\n",
    "\n",
    "p8.xaxis.major_label_orientation = radians(80)\n",
    "p8.xaxis.axis_label = 'TDC CHANNEL'\n",
    "p8.yaxis.axis_label = \"Number of counts\"\n",
    "p8.title.text = \"Chamber 2\"\n",
    "\n",
    "p9.xaxis.major_label_orientation = radians(80)\n",
    "p9.xaxis.axis_label = 'TDC CHANNEL'\n",
    "p9.yaxis.axis_label = \"Number of TDC CHANNEL\"\n",
    "p9.title.text = \"Chamber 3\"\n",
    "\n",
    "\n",
    "p10.xaxis.major_label_orientation = radians(80)\n",
    "p10.xaxis.axis_label = 'ORBIT CNT'\n",
    "p10.yaxis.axis_label = \"Number of channels\"\n",
    "p10.title.text = \"Chamber 0\"\n",
    "\n",
    "p11.xaxis.major_label_orientation = radians(80)\n",
    "p11.xaxis.axis_label = 'ORBIT CNT'\n",
    "p11.yaxis.axis_label = \"Number of channels\"\n",
    "p11.title.text = \"Chamber 1\"\n",
    "\n",
    "p12.xaxis.major_label_orientation = radians(80)\n",
    "p12.xaxis.axis_label = 'ORBIT CNT'\n",
    "p12.yaxis.axis_label = \"Number of channels\"\n",
    "p12.title.text = \"Chamber 2\"\n",
    "\n",
    "p13.xaxis.major_label_orientation = radians(80)\n",
    "p13.xaxis.axis_label = 'ORBIT CNT'\n",
    "p13.yaxis.axis_label = \"Number of channels\"\n",
    "p13.title.text = \"Chamber 3\""
   ]
  },
  {
   "cell_type": "markdown",
   "id": "33bbe452",
   "metadata": {},
   "source": [
    "### Config Layout"
   ]
  },
  {
   "cell_type": "code",
   "execution_count": 10,
   "id": "7950298f",
   "metadata": {},
   "outputs": [],
   "source": [
    "square_line_plots = gridplot([[p2, p3], [p4, p5]])\n",
    "\n",
    "square_line_plots.width = 400\n",
    "square_line_plots.height = 400\n",
    "\n",
    "# Margin syntax: [top , right, bottom, left]\n",
    "p_row1 = [row(p1, square_line_plots, sizing_mode=\"scale_width\",margin=[30,30,50,30])]\n",
    "p_row2 = [row(p6, p7, p8, p9)]\n",
    "p_row3 = [row(p10, p11, p12, p13)]\n",
    "\n",
    "# Create the gridplot\n",
    "grid = gridplot([p_row1, p_row2, p_row3], toolbar_location=None)\n",
    "\n",
    "# Add the titles to the respective rows\n",
    "title_div_row1 = Div(text=\"<h2>Total number of processed hits</h2>\")\n",
    "title_div_row2 = Div(text=\"<h2>Total number of hits in each chamber</h2>\")\n",
    "title_div_row3 = Div(text=\"<h2>Histogram of the counts of active TDC_CHANNEL</h2>\")\n",
    "title_div_row4 = Div(text=\"<h2>Histogram of the total number of active TDC_CHANNEL in each ORBIT_CNT</h2>\")\n",
    "space = Div(text=\"<h3> </h3>\")\n",
    "\n",
    "# Create a gridplot with the rows and titles\n",
    "grid = gridplot([[title_div_row1], p_row1,[space], [title_div_row2], p_row2, [title_div_row3], p_row3], toolbar_location=None, sizing_mode=\"scale_width\")\n",
    "\n",
    "# Add the overall title to the gridplot\n",
    "title_div = Div(text=\"<h1>Cosmic Rays Analysis</h1><p style=\\\"font-weight: normal;\\\">Diego Bonato, Martina Cacciola, Gabriele Bertinelli, Roben Bhatti</p>\")\n",
    "grid_with_title = column(title_div, grid, sizing_mode=\"scale_width\")\n",
    "\n",
    "\n"
   ]
  },
  {
   "cell_type": "code",
   "execution_count": 11,
   "id": "3246d249",
   "metadata": {},
   "outputs": [
    {
     "data": {
      "text/plain": [
       "<bokeh.server.callbacks.PeriodicCallback at 0x7ffb23e09910>"
      ]
     },
     "execution_count": 11,
     "metadata": {},
     "output_type": "execute_result"
    }
   ],
   "source": [
    "curdoc().add_root(grid_with_title)\n",
    "curdoc().add_periodic_callback(update,500)"
   ]
  },
  {
   "cell_type": "code",
   "execution_count": null,
   "id": "99abcee3",
   "metadata": {},
   "outputs": [],
   "source": [
    "!bokeh serve --show consumer_dashboard.ipynb"
   ]
  }
 ],
 "metadata": {
  "kernelspec": {
   "display_name": "Python 3 (ipykernel)",
   "language": "python",
   "name": "python3"
  },
  "language_info": {
   "codemirror_mode": {
    "name": "ipython",
    "version": 3
   },
   "file_extension": ".py",
   "mimetype": "text/x-python",
   "name": "python",
   "nbconvert_exporter": "python",
   "pygments_lexer": "ipython3",
   "version": "3.8.16"
  }
 },
 "nbformat": 4,
 "nbformat_minor": 5
}
