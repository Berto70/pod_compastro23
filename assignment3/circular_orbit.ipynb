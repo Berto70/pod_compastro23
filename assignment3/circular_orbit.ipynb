{
 "cells": [
  {
   "cell_type": "code",
   "execution_count": 1,
   "metadata": {},
   "outputs": [],
   "source": [
    "import fireworks\n",
    "from fireworks.ic import ic_two_body as ic_two_body\n",
    "\n",
    "from fireworks.nbodylib import dynamics as dyn\n",
    "from fireworks.nbodylib import integrators as intg\n",
    "\n",
    "import matplotlib.pyplot as plt\n",
    "import numpy as np"
   ]
  },
  {
   "cell_type": "code",
   "execution_count": 2,
   "metadata": {},
   "outputs": [],
   "source": [
    "mass1 = 1.0\n",
    "mass2 = 1.0\n",
    "rp = 1.0\n",
    "e = 0.0\n",
    "\n",
    "particles = ic_two_body(mass1, mass2, rp, e)"
   ]
  },
  {
   "cell_type": "markdown",
   "metadata": {},
   "source": [
    "Estimate binary period.\n",
    "\n",
    "From Kepler's law:\n",
    "\n",
    "$$\n",
    "T^2 = \\frac{4 \\pi^2}{G(M+m)}  a^3\n",
    "$$\n",
    "\n",
    "where $a$ is the semi-major axis, which is given from initial condition $rp = r_{min}$:\n",
    "\n",
    "$$\n",
    "a=\\frac{r_{min}}{(1-e)}\n",
    "$$"
   ]
  },
  {
   "cell_type": "code",
   "execution_count": 3,
   "metadata": {},
   "outputs": [],
   "source": [
    "a = rp / (1 - e)  # Semi-major axis\n",
    "period = 2 * np.pi * np.sqrt(a**3 / (mass1 + mass2))\n"
   ]
  },
  {
   "cell_type": "markdown",
   "metadata": {},
   "source": [
    "Develop an interactive method to evolve the binary system from 0 to 10x Tperiod"
   ]
  },
  {
   "cell_type": "code",
   "execution_count": null,
   "metadata": {},
   "outputs": [],
   "source": [
    "acc = dyn.acceleration_direct_vectorised_onearray\n",
    "euler = intg.integrator_euler"
   ]
  },
  {
   "cell_type": "code",
   "execution_count": null,
   "metadata": {},
   "outputs": [],
   "source": [
    "def simulate(integrator,particles,tstep=0.01,total_time = 10*period):\n",
    "\n",
    "   acc_list       = np.array([])\n",
    "   pos_list       = np.array([])\n",
    "   vel_list       = np.array([])\n",
    "   kinetic_list   = np.array([])\n",
    "   potential_list = np.array([])\n",
    "   energy_list    = np.array([])\n",
    "   \n",
    "   \n",
    "   for _ in range(int(total_time/tstep)):\n",
    "\n",
    "      particles, tstep, acc, jerk, _ = integrator(particles=particles, \n",
    "                                               tstep=tstep, \n",
    "                                               acceleration_estimator=dyn.acceleration_direct_vectorised_onearray,\n",
    "                                               softening=0.1,\n",
    "                                               )\n",
    "      \n",
    "      acc_list = np.append(acc_list, acc)\n",
    "      pos_list = np.append(pos_list, particles.pos)\n",
    "      vel_list = np.append(vel_list, particles.vel)\n",
    "\n",
    "      kinetic_list   = np.append(kinetic_list, particles.Ekin())\n",
    "      potential_list = np.append(potential_list, particles.Epot(softening=0.1))\n",
    "      energy_list    = np.append(energy_list, particles.Etot(softening=0.1))\n",
    "\n",
    "\n",
    "   acc_list = acc_list.reshape(int(total_time/tstep), 2, 3)\n",
    "   pos_list = pos_list.reshape(int(total_time/tstep), 2, 3)\n",
    "   vel_list = vel_list.reshape(int(total_time/tstep), 2, 3)\n",
    "\n",
    "   return acc_list, pos_list, vel_list, kinetic_list, potential_list, energy_list\n",
    "      \n"
   ]
  },
  {
   "cell_type": "code",
   "execution_count": null,
   "metadata": {},
   "outputs": [],
   "source": [
    "simulation_data = {}\n",
    "\n",
    "for integrator in [intg.integrator_euler, intg.integrator_leapfrog]:\n",
    "   acc_list, pos_list, vel_list, kinetic_list, potential_list, energy_list = simulate(integrator,particles,tstep=.1)\n",
    "\n",
    "   simulation_data[integrator.__name__] = {\"acc_list\": acc_list, \"pos_list\": pos_list, \"vel_list\": vel_list, \"energy_list\": energy_list}\n",
    "   "
   ]
  },
  {
   "cell_type": "code",
   "execution_count": null,
   "metadata": {},
   "outputs": [],
   "source": [
    "# Get the list of integrators from the simulation_data dictionary\n",
    "integrators = list(simulation_data.keys())\n",
    "\n",
    "# Create a grid plot with subplots for each integrator\n",
    "fig, axs = plt.subplots(len(integrators), 1, figsize=(8, 6 * len(integrators)))\n",
    "\n",
    "# Iterate over each integrator and plot pos_list\n",
    "for i, integrator in enumerate(integrators):\n",
    "    pos_list = simulation_data[integrator][\"pos_list\"]\n",
    "    axs[i].plot(pos_list[:, 0, 0], pos_list[:, 0, 1], label=\"Star 1\")\n",
    "    axs[i].plot(pos_list[:, 1, 0], pos_list[:, 1, 1], label=\"Star 2\")\n",
    "    axs[i].set_title(integrator)\n",
    "    axs[i].legend()\n",
    "\n"
   ]
  },
  {
   "cell_type": "code",
   "execution_count": null,
   "metadata": {},
   "outputs": [],
   "source": [
    "plt.plot(simulation_data[\"integrator_euler\"][\"energy_list\"][:100])"
   ]
  },
  {
   "cell_type": "code",
   "execution_count": null,
   "metadata": {},
   "outputs": [],
   "source": [
    "plt.plot(simulation_data[\"integrator_leapfrog\"][\"energy_list\"][:100])"
   ]
  },
  {
   "cell_type": "code",
   "execution_count": 4,
   "metadata": {},
   "outputs": [],
   "source": [
    "acc, jerk, pot = dyn.acceleration_direct_vectorized(particles, softening=0.1)"
   ]
  },
  {
   "cell_type": "code",
   "execution_count": 5,
   "metadata": {},
   "outputs": [
    {
     "data": {
      "text/plain": [
       "array([[-0.        ,  1.41421356, -0.        ],\n",
       "       [-0.        , -1.41421356, -0.        ]])"
      ]
     },
     "execution_count": 5,
     "metadata": {},
     "output_type": "execute_result"
    }
   ],
   "source": [
    "jerk"
   ]
  },
  {
   "cell_type": "code",
   "execution_count": 7,
   "metadata": {},
   "outputs": [],
   "source": [
    "# Does Hermite work?\n",
    "tstep=0.01\n",
    "total_time = 10*period\n",
    "\n",
    "pos_h       = np.array([])\n",
    "acc_h       = np.array([])\n",
    "vel_h       = np.array([])\n",
    "kinetic_h   = np.array([])\n",
    "potential_h = np.array([])\n",
    "energy_h    = np.array([])\n",
    "\n",
    "\n",
    "for _ in range(int(total_time/tstep)):\n",
    "\n",
    "    particles, tstep, acc, jerk, _ = intg.integrator_hermite(\n",
    "                                            particles=particles, \n",
    "                                            tstep=tstep, \n",
    "                                            acceleration_estimator=dyn.acceleration_direct_vectorized,\n",
    "                                            softening=0.1\n",
    "                                            \n",
    "                                            )\n",
    "    \n",
    "    acc_h = np.append(acc_h, acc)\n",
    "    pos_h = np.append(pos_h, particles.pos)\n",
    "    vel_h = np.append(vel_h, particles.vel)\n",
    "\n",
    "    kinetic_h   = np.append(kinetic_h, particles.Ekin())\n",
    "    potential_h = np.append(potential_h, particles.Epot(softening=0.1))\n",
    "    energy_h    = np.append(energy_h, particles.Etot(softening=0.1))\n",
    "\n",
    "\n",
    "acc_h = acc_h.reshape(int(total_time/tstep), 2, 3)\n",
    "pos_h = pos_h.reshape(int(total_time/tstep), 2, 3)\n",
    "vel_h = vel_h.reshape(int(total_time/tstep), 2, 3)\n",
    "   \n"
   ]
  },
  {
   "cell_type": "code",
   "execution_count": null,
   "metadata": {},
   "outputs": [],
   "source": []
  }
 ],
 "metadata": {
  "kernelspec": {
   "display_name": "base",
   "language": "python",
   "name": "python3"
  },
  "language_info": {
   "codemirror_mode": {
    "name": "ipython",
    "version": 3
   },
   "file_extension": ".py",
   "mimetype": "text/x-python",
   "name": "python",
   "nbconvert_exporter": "python",
   "pygments_lexer": "ipython3",
   "version": "3.10.12"
  }
 },
 "nbformat": 4,
 "nbformat_minor": 2
}
