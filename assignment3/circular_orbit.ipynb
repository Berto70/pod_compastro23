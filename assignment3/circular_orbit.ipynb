{
 "cells": [
  {
   "cell_type": "code",
   "execution_count": 14,
   "metadata": {},
   "outputs": [],
   "source": [
    "import fireworks\n",
    "from fireworks.ic import ic_two_body as ic_two_body\n",
    "\n",
    "from fireworks.nbodylib import dynamics as dyn\n",
    "from fireworks.nbodylib import integrators as intg\n",
    "\n",
    "import matplotlib.pyplot as plt\n",
    "import numpy as np"
   ]
  },
  {
   "cell_type": "code",
   "execution_count": 15,
   "metadata": {},
   "outputs": [],
   "source": [
    "def ininitialise(mass1=1, mass2=1, rp=1, e=0):\n",
    "    particles = ic_two_body(mass1, mass2, rp, e)\n",
    "\n",
    "    a = rp / (1 - e)  # Semi-major axis\n",
    "    period = 2 * np.pi * np.sqrt(a**3 / (mass1 + mass2))\n",
    "\n",
    "    return particles, period\n"
   ]
  },
  {
   "cell_type": "code",
   "execution_count": 16,
   "metadata": {},
   "outputs": [],
   "source": [
    "mass1 = 15.0\n",
    "mass2 = 2.0\n",
    "rp = 2.0\n",
    "e = 0.0\n",
    "\n",
    "particles = ic_two_body(mass1, mass2, rp, e)"
   ]
  },
  {
   "cell_type": "markdown",
   "metadata": {},
   "source": [
    "Estimate binary period.\n",
    "\n",
    "From Kepler's law:\n",
    "\n",
    "$$\n",
    "T^2 = \\frac{4 \\pi^2}{G(M+m)}  a^3\n",
    "$$\n",
    "\n",
    "where $a$ is the semi-major axis, which is given from initial condition $rp = r_{min}$:\n",
    "\n",
    "$$\n",
    "a=\\frac{r_{min}}{(1-e)}\n",
    "$$"
   ]
  },
  {
   "cell_type": "code",
   "execution_count": 17,
   "metadata": {},
   "outputs": [],
   "source": [
    "a = rp / (1 - e)  # Semi-major axis\n",
    "period = 2 * np.pi * np.sqrt(a**3 / (mass1 + mass2))\n"
   ]
  },
  {
   "cell_type": "markdown",
   "metadata": {},
   "source": [
    "Develop an interactive method to evolve the binary system from 0 to 10x Tperiod"
   ]
  },
  {
   "cell_type": "code",
   "execution_count": 18,
   "metadata": {},
   "outputs": [],
   "source": [
    "def simulate(integrator,particles,tstep=0.01,total_time = 10):\n",
    "\n",
    "  \n",
    "\n",
    "   acc_list       = np.array([])\n",
    "   pos_list       = np.array([])\n",
    "   vel_list       = np.array([])\n",
    "   kinetic_list   = np.array([])\n",
    "   potential_list = np.array([])\n",
    "   energy_list    = np.array([])\n",
    "   \n",
    "   \n",
    "   for _ in range(int(total_time/tstep)):\n",
    "\n",
    "      particles, tstep, acc, jerk, _ = integrator(particles=particles, \n",
    "                                               tstep=tstep, \n",
    "                                               acceleration_estimator=dyn.acceleration_direct_vectorized,\n",
    "                                               softening=0.1,\n",
    "                                               )\n",
    "      \n",
    "      acc_list = np.append(acc_list, acc)\n",
    "      pos_list = np.append(pos_list, particles.pos)\n",
    "      vel_list = np.append(vel_list, particles.vel)\n",
    "\n",
    "      kinetic_list   = np.append(kinetic_list, particles.Ekin())\n",
    "      potential_list = np.append(potential_list, particles.Epot(softening=0.1))\n",
    "      energy_list    = np.append(energy_list, particles.Etot(softening=0.1))\n",
    "\n",
    "\n",
    "   acc_list = acc_list.reshape(int(total_time/tstep), 2, 3)\n",
    "   pos_list = pos_list.reshape(int(total_time/tstep), 2, 3)\n",
    "   vel_list = vel_list.reshape(int(total_time/tstep), 2, 3)\n",
    "\n",
    "   return acc_list, pos_list, vel_list, kinetic_list, potential_list, energy_list\n",
    "      \n"
   ]
  },
  {
   "cell_type": "code",
   "execution_count": 19,
   "metadata": {},
   "outputs": [],
   "source": [
    "def integration_loop(period):\n",
    "\n",
    "\n",
    "   simulation_data = {}\n",
    "\n",
    "   #for integrator in [intg.integrator_euler, intg.integrator_leapfrog,intg.integrator_hermite]:\n",
    "   for integrator in [intg.integrator_hermite, intg.integrator_euler]:\n",
    "      acc_list, pos_list, vel_list, kinetic_list, potential_list, energy_list = simulate(integrator,particles,tstep=.1,total_time = period)\n",
    "\n",
    "      simulation_data[integrator.__name__] = {\"acc_list\": acc_list, \"pos_list\": pos_list, \"vel_list\": vel_list, \"energy_list\": energy_list}\n",
    "      \n",
    "   return simulation_data"
   ]
  },
  {
   "cell_type": "code",
   "execution_count": 20,
   "metadata": {},
   "outputs": [],
   "source": [
    "#simulation_data = integration_loop()\n",
    "\n",
    "def plot_sim(key: str, simulation_data: dict):\n",
    "\n",
    "    # Get the list of integrators from the simulation_data dictionary\n",
    "    integrators = list(simulation_data.keys())\n",
    "\n",
    "    # Create a grid plot with subplots for each integrator\n",
    "    fig, axs = plt.subplots(len(integrators), 1, figsize=(8, 6 * len(integrators)))\n",
    "\n",
    "    # Iterate over each integrator and plot pos_list\n",
    "    for i, integrator in enumerate(integrators):\n",
    "        data = simulation_data[integrator][key]\n",
    "        axs[i].plot(data[:, 0, 0], data[:, 0, 1], label=\"Star 1\")\n",
    "        axs[i].plot(data[:, 1, 0], data[:, 1, 1], label=\"Star 2\")\n",
    "        axs[i].set_title(integrator)\n",
    "        axs[i].legend()\n",
    "\n",
    "\n",
    "\n"
   ]
  },
  {
   "cell_type": "code",
   "execution_count": 21,
   "metadata": {},
   "outputs": [
    {
     "data": {
      "text/plain": [
       "'\"\"\\n# grid search on rp \\nrps = np.arange(.01, 10, .1)\\n\\nfor rp in rps:\\n     particles, period = ininitialise(mass1=15, mass2=1, rp=rp, e=0)\\n     simulation_data = integration_loop()\\n     plot_sim(\"pos_list\", simulation_data)\\n\\n\\n     '"
      ]
     },
     "execution_count": 21,
     "metadata": {},
     "output_type": "execute_result"
    }
   ],
   "source": [
    "\"\"\"\"\"\n",
    "# grid search on rp \n",
    "rps = np.arange(.01, 10, .1)\n",
    "\n",
    "for rp in rps:\n",
    "     particles, period = ininitialise(mass1=15, mass2=1, rp=rp, e=0)\n",
    "     simulation_data = integration_loop()\n",
    "     plot_sim(\"pos_list\", simulation_data)\n",
    "\n",
    "\n",
    "     \"\"\"   "
   ]
  },
  {
   "cell_type": "code",
   "execution_count": 22,
   "metadata": {},
   "outputs": [
    {
     "data": {
      "text/plain": [
       "'\"\"\\nrps = np.arange(.01, 10, .1)\\n\\nfor rp in rps:\\nSTOP\\n    particles, period = ininitialise(mass1=1, mass2=1, rp=rp, e=0)\\n\\n    simulation_data = integration_loop(10*period)\\n    plot_sim(\"pos_list\", simulation_data)\\n'"
      ]
     },
     "execution_count": 22,
     "metadata": {},
     "output_type": "execute_result"
    }
   ],
   "source": [
    "\n",
    "\"\"\"\"\"\n",
    "rps = np.arange(.01, 10, .1)\n",
    "\n",
    "for rp in rps:\n",
    "STOP\n",
    "    particles, period = ininitialise(mass1=1, mass2=1, rp=rp, e=0)\n",
    "\n",
    "    simulation_data = integration_loop(10*period)\n",
    "    plot_sim(\"pos_list\", simulation_data)\n",
    "\"\"\""
   ]
  },
  {
   "cell_type": "code",
   "execution_count": 25,
   "metadata": {},
   "outputs": [
    {
     "data": {
      "image/png": "[encoded data removed]",
      "text/plain": [
       "<Figure size 800x1200 with 2 Axes>"
      ]
     },
     "metadata": {},
     "output_type": "display_data"
    }
   ],
   "source": [
    "particles, period = ininitialise(mass1=1, mass2=1, rp=2, e=0)\n",
    "\n",
    "simulation_data = integration_loop(10*period)\n",
    "plot_sim(\"pos_list\", simulation_data)\n"
   ]
  },
  {
   "cell_type": "code",
   "execution_count": null,
   "metadata": {},
   "outputs": [],
   "source": []
  }
 ],
 "metadata": {
  "kernelspec": {
   "display_name": "base",
   "language": "python",
   "name": "python3"
  },
  "language_info": {
   "codemirror_mode": {
    "name": "ipython",
    "version": 3
   },
   "file_extension": ".py",
   "mimetype": "text/x-python",
   "name": "python",
   "nbconvert_exporter": "python",
   "pygments_lexer": "ipython3",
   "version": "3.10.12"
  }
 },
 "nbformat": 4,
 "nbformat_minor": 2
}
