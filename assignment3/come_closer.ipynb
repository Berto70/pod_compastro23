{
 "cells": [
  {
   "cell_type": "code",
   "execution_count": 1,
   "metadata": {},
   "outputs": [],
   "source": [
    "import fireworks\n",
    "from fireworks.nbodylib import dynamics as dyn\n",
    "from fireworks.nbodylib import integrators as intg\n",
    "from fireworks import ic\n",
    "import numpy as np\n",
    "import matplotlib.pyplot as plt\n",
    "\n",
    "from tqdm import tqdm"
   ]
  },
  {
   "cell_type": "code",
   "execution_count": 4,
   "metadata": {},
   "outputs": [],
   "source": [
    "def evolve(particles,integrator,tstep = .001):\n",
    "        \n",
    "\n",
    "    period = 10\n",
    "    tot_time = 0 \n",
    "\n",
    "    acc_list = []\n",
    "    potential_list = []\n",
    "    positions = []\n",
    "    velocities = []\n",
    "    energy = []\n",
    "    jerk_ = []\n",
    "\n",
    "    init_energy = particles.Etot()\n",
    "\n",
    "    while tot_time < 10*period:\n",
    "        tot_time +=tstep\n",
    "\n",
    "        # Evolve the binary \n",
    "\n",
    "        (particles, tstep, acc, jerk, potential) = integrator(particles=particles, \n",
    "                                                                            tstep=tstep,\n",
    "                                                                            acceleration_estimator=dyn.acceleration_direct_vectorized,\n",
    "                                                                            softening=0.)\n",
    "        \n",
    "        acc_list.append(acc)\n",
    "        potential_list.append(potential)\n",
    "        positions.append(particles.pos)\n",
    "        velocities.append(particles.vel)\n",
    "        energy.append(particles.Etot())\n",
    "        jerk_.append(jerk)\n",
    "    \n",
    "    \n",
    "    \n",
    "    potential_list = np.array(potential_list)\n",
    "    positions = np.array(positions).reshape(len(positions),2,3)\n",
    "    velocities = np.array(velocities).reshape(len(velocities),2,3)\n",
    "    energy = np.array(energy)\n",
    "    return (acc_list, potential_list, positions, velocities, energy,init_energy,jerk_)"
   ]
  },
  {
   "cell_type": "code",
   "execution_count": 5,
   "metadata": {},
   "outputs": [
    {
     "name": "stderr",
     "output_type": "stream",
     "text": [
      "/root/miniconda3/lib/python3.10/site-packages/fireworks/particles.py:173: RuntimeWarning: divide by zero encountered in divide\n",
      "  Epot = -0.5 * np.sum(mass_product[:,:,np.newaxis] / np.sqrt(rij**2 + softening**2))\n"
     ]
    }
   ],
   "source": [
    "particles = ic.ic_two_body(mass1=1,mass2=1,rp=1,e=0)\n",
    "(acc_list, potential_list, positions, velocities, energy,init_energy,jerk) = evolve(particles,intg.integrator_tsunami)\n"
   ]
  },
  {
   "cell_type": "code",
   "execution_count": null,
   "metadata": {},
   "outputs": [],
   "source": [
    "# fixing distance to an intermidiate value\n",
    "d = 20\n",
    "ecc = [.5,.9,.99]\n",
    "integrators = [intg.integrator_euler, intg.integrator_leapfrog, intg.integrator_hermite, intg.integrator_tsunami]\n",
    "\n",
    "fig, ax = plt.subplots(4, 3, figsize=(10, 10))\n",
    "\n",
    "# adaptive tstep\n",
    "\n",
    "tstep = .001\n",
    "lr = 2e-2\n",
    "\n",
    "for k,e in enumerate(ecc):\n",
    "\n",
    "    for i,integrator in enumerate(integrators):\n",
    "\n",
    "\n",
    "        particles = ic.ic_two_body(mass1=1,mass2=1,rp=d,e=e)\n",
    "\n",
    "        (acc_list, potential_list, positions, velocities, energy,init_energy,jerk) = evolve(particles,integrator)\n",
    "\n",
    "        tstep = lr * np.min(np.abs(acc_list/jerk))\n",
    "\n",
    "        ax[i,k].plot(positions[:, 0, 0], positions[:, 0, 1], label='Star 1')\n",
    "        ax[i,k].plot(positions[:, 1, 0], positions[:, 1, 1], label='Star 2')\n",
    "\n",
    "        ax[i,k].set_title(f\"{integrator.__name__}  - rp = {d}\")\n",
    "\n",
    "        ax[i,k].legend()\n",
    "        \n",
    "fig.savefig(f\"img/different_eccentricities_adaptive_lr.png\")"
   ]
  },
  {
   "cell_type": "code",
   "execution_count": 11,
   "metadata": {},
   "outputs": [],
   "source": [
    "(particles, time, _, _, _) = intg.integrator_tsunami(particles=particles,tstep=.001,acceleration_estimator=dyn.acceleration_direct_vectorized,softening=0.)\n"
   ]
  },
  {
   "cell_type": "code",
   "execution_count": 12,
   "metadata": {},
   "outputs": [
    {
     "data": {
      "text/plain": [
       "array([[ 0.47686519, -0.15033159,  0.        ],\n",
       "       [-0.47686519,  0.15033159,  0.        ]])"
      ]
     },
     "execution_count": 12,
     "metadata": {},
     "output_type": "execute_result"
    }
   ],
   "source": [
    "particles.pos"
   ]
  },
  {
   "cell_type": "code",
   "execution_count": null,
   "metadata": {},
   "outputs": [],
   "source": []
  }
 ],
 "metadata": {
  "kernelspec": {
   "display_name": "base",
   "language": "python",
   "name": "python3"
  },
  "language_info": {
   "codemirror_mode": {
    "name": "ipython",
    "version": 3
   },
   "file_extension": ".py",
   "mimetype": "text/x-python",
   "name": "python",
   "nbconvert_exporter": "python",
   "pygments_lexer": "ipython3",
   "version": "3.10.12"
  }
 },
 "nbformat": 4,
 "nbformat_minor": 2
}
