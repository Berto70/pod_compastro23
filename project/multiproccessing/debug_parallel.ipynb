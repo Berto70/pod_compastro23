{
 "cells": [
  {
   "cell_type": "code",
   "execution_count": 1,
   "metadata": {},
   "outputs": [],
   "source": [
    "from fireworks.ic import ic_two_body as ic_two_body\n",
    "from fireworks.ic import ic_random_uniform as ic_random_uniform\n",
    "\n",
    "from fireworks.nbodylib import dynamics as dyn\n",
    "from fireworks.nbodylib import integrators as intg\n",
    "\n",
    "\n",
    "import matplotlib.pyplot as plt\n",
    "import numpy as np\n",
    "from typing import Optional, Tuple\n",
    "import numpy.typing as npt\n",
    "from fireworks.particles import Particles\n",
    "\n",
    "import time\n",
    "import multiprocessing\n",
    "from multiprocessing import Pool\n",
    "def acceleration_direct_vectorized(N_particles, pos, mass):\n",
    "   \n",
    "    dx = pos[:, 0].reshape(N_particles, 1) - pos[:, 0] #broadcasting of (N,) on (N,1) array, obtain distance along x in an (N,N) matrix\n",
    "    dy = pos[:, 1].reshape(N_particles, 1) - pos[:, 1] \n",
    "    dz = pos[:, 2].reshape(N_particles, 1) - pos[:, 2] \n",
    "      \n",
    "    r = np.sqrt(dx**2 + dy**2 + dz**2)\n",
    "    r[r==0]=1\n",
    "    \n",
    "    dpos = np.concatenate((dx, dy, dz)).reshape((3,N_particles,N_particles)) \n",
    "\n",
    "\n",
    "    acc = - (dpos/r**3 @ mass).T\n",
    "    jerk= None\n",
    "    pot = None\n",
    "\n",
    "    return acc, jerk, pot\n",
    "\n",
    "def parallel_acc(a,b):\n",
    "   \n",
    "    # Questo può essere così oppure rendo global direttamente particles...\n",
    "    global pos\n",
    "    global N_particles\n",
    "    global mass\n",
    "  \n",
    "    N_subset = abs(b-a)\n",
    "\n",
    "    # Select particles from a to b to parallelize computation\n",
    "    # Need to rewrite the function in order to compute quantities of subset of particles wrt all the others\n",
    "    dx = pos[a:b, 0,np.newaxis] - pos[:, 0] #broadcasting of (N,) on (N,1) array, obtain distance along x in an (N,N) matrix\n",
    "    dy = pos[a:b, 1,np.newaxis] - pos[:, 1] \n",
    "    dz = pos[a:b, 2,np.newaxis] - pos[:, 2] \n",
    "      \n",
    "    r = np.sqrt(dx**2 + dy**2 + dz**2)\n",
    "    r[r==0]=1\n",
    "    # New dpos shape is (3,N_particles,3000) since \n",
    "    # 3 is the number of dimensions, \n",
    "    # N_subset is the number of particles in the subset and\n",
    "    # N_particles is the number of total particles\n",
    "    # dpos is the distance vector between each particle in the subset and all the others\n",
    "\n",
    "    dpos = np.concatenate((dx, dy, dz)).reshape((3,N_subset,N_particles)) \n",
    "   \n",
    "    acc = - (dpos/r**3 @ mass).T\n",
    "    jerk= None\n",
    "    pot = None\n",
    "\n",
    "    return acc, jerk, pot\n"
   ]
  },
  {
   "cell_type": "code",
   "execution_count": null,
   "metadata": {},
   "outputs": [],
   "source": []
  },
  {
   "cell_type": "code",
   "execution_count": 2,
   "metadata": {},
   "outputs": [],
   "source": [
    "def parallel_integrator(a,b):\n",
    "\n",
    "    global vel\n",
    "    global pos \n",
    "    global tstep\n",
    "    #global acc \n",
    "    # acceleration is needed only to update vel and pos, so it is not needed as a global variable\n",
    "    # acc should be allocated in a memory specific to the process\n",
    "    acc, _ , _ = parallel_acc(a,b) # chissà se funziona\n",
    "\n",
    "    # Euler integration\n",
    "    vel[a:b] = vel[a:b] + acc * tstep  # Update vel\n",
    "    pos[a:b] = pos[a:b] + vel[a:b] * tstep  # Update pos\n",
    "\n",
    "    # there's no need to update acceleretion in my opinion...\n",
    "\n",
    "    # Return the updated particles, the acceleration, jerk (can be None), and potential (can be None)\n",
    "    return pos[a:b], vel[a:b]"
   ]
  },
  {
   "cell_type": "code",
   "execution_count": 4,
   "metadata": {},
   "outputs": [
    {
     "name": "stdout",
     "output_type": "stream",
     "text": [
      "The file exists.\n"
     ]
    }
   ],
   "source": [
    "import os\n",
    "\n",
    "import os\n",
    "\n",
    "file_path = \"comparison.pdf\"\n",
    "if os.path.exists(file_path):\n",
    "    print(\"The file exists.\")\n",
    "else:\n",
    "    print(\"The file does not exist.\")\n"
   ]
  },
  {
   "cell_type": "code",
   "execution_count": 3,
   "metadata": {},
   "outputs": [],
   "source": [
    "def parallel_evo():\n",
    "\n",
    "    #### MULTIPROCESSING ####\n",
    "    # define the number of processes\n",
    "    N_CORES = multiprocessing.cpu_count() # in my case 4 cores\n",
    "\n",
    "    # start a timer\n",
    "    #start = time.time()\n",
    "    \n",
    "    # how does it know N_particles? Lol\n",
    "    N_PROCESSES = min(N_CORES, N_particles)\n",
    "    # create a pool of processes\n",
    "    pool = Pool(N_PROCESSES)\n",
    "\n",
    "\n",
    "    # submit multiple instances of the function full_evo \n",
    "    # - starmap_async: allows to run the processes with a (iterable) list of arguments\n",
    "    # - map_async    : is a similar function, supporting a single argument\n",
    "\n",
    "    if N_particles < N_PROCESSES:\n",
    "        # 1 process per particle\n",
    "        future_results = pool.starmap_async(parallel_integrator, \n",
    "                                    [(i, (i + 1)) for i in range(N_particles)])\n",
    "    else:\n",
    "        # divide in equal part the particles into N_PROCESSES\n",
    "        future_results = pool.starmap_async(parallel_integrator, \n",
    "                                    [(i * N_particles // N_PROCESSES, (i + 1) * N_particles // N_PROCESSES) for i in range(N_PROCESSES)])\n",
    "\n",
    "\n",
    "\n",
    "    # to get the results all processes must have been completed\n",
    "    # the get() function is therefore _blocking_ (equivalent to join) \n",
    "    results = future_results.get()\n",
    "\n",
    "    # close the pool\n",
    "    # not sure but internet(aka chatGPT) says that it is better to close the pool\n",
    "    pool.close()\n",
    "\n",
    "    return results\n",
    "\n"
   ]
  },
  {
   "cell_type": "code",
   "execution_count": 4,
   "metadata": {},
   "outputs": [
    {
     "name": "stdout",
     "output_type": "stream",
     "text": [
      "Instance of the class Particles\n",
      "Number of particles: 1000\n"
     ]
    }
   ],
   "source": [
    "particles = ic_random_uniform(1000, [0,3],[0,3],[0,3])\n",
    "pos = particles.pos\n",
    "vel = particles.vel\n",
    "mass = particles.mass\n",
    "N_particles = len(particles)\n",
    "tstep = 0.01\n",
    "\n",
    "print(particles)"
   ]
  },
  {
   "cell_type": "code",
   "execution_count": 1,
   "metadata": {},
   "outputs": [
    {
     "name": "stdout",
     "output_type": "stream",
     "text": [
      "0\n",
      "1\n",
      "2\n"
     ]
    }
   ],
   "source": [
    "for i in range(3):\n",
    "    print(i)"
   ]
  },
  {
   "cell_type": "code",
   "execution_count": null,
   "metadata": {},
   "outputs": [],
   "source": []
  },
  {
   "cell_type": "code",
   "execution_count": 6,
   "metadata": {},
   "outputs": [],
   "source": [
    "total_evo_time = 1\n",
    "tstep=0.01\n",
    "\n",
    "\n",
    "positions_slow = []\n",
    "for _ in range(int(total_evo_time/tstep)):\n",
    "\n",
    "    acc = intg.integrator_euler(particles=particles, tstep=tstep, acceleration_estimator= dyn.acceleration_direct_vectorized,softening=\"Dehnen\")\n",
    "    positions_slow.append(particles.pos)\n",
    "\n",
    "\n"
   ]
  },
  {
   "cell_type": "code",
   "execution_count": 7,
   "metadata": {},
   "outputs": [
    {
     "data": {
      "text/plain": [
       "(100, 1000, 3)"
      ]
     },
     "execution_count": 7,
     "metadata": {},
     "output_type": "execute_result"
    }
   ],
   "source": [
    "pos_slow = np.array(positions_slow)\n",
    "pos_slow.shape"
   ]
  },
  {
   "cell_type": "code",
   "execution_count": 21,
   "metadata": {},
   "outputs": [
    {
     "data": {
      "text/plain": [
       "(100, 1000, 3)"
      ]
     },
     "execution_count": 21,
     "metadata": {},
     "output_type": "execute_result"
    }
   ],
   "source": [
    "pos_slow.shape"
   ]
  },
  {
   "cell_type": "code",
   "execution_count": 28,
   "metadata": {},
   "outputs": [
    {
     "data": {
      "image/png": "[encoded data removed]",
      "text/plain": [
       "<Figure size 1000x400 with 1 Axes>"
      ]
     },
     "metadata": {},
     "output_type": "display_data"
    }
   ],
   "source": [
    "fig,ax = plt.subplots(figsize=(10,4))\n",
    "# all iterations, particle 0, x and y\n",
    "for i in range(pos_slow.shape[0]):\n",
    "    ax.scatter(pos_slow[:,i,0],pos_slow[:,i,1],s=.5)\n"
   ]
  },
  {
   "cell_type": "markdown",
   "metadata": {},
   "source": [
    "# Let's see if it works with the multiprocessing"
   ]
  },
  {
   "cell_type": "code",
   "execution_count": 2,
   "metadata": {},
   "outputs": [
    {
     "name": "stdout",
     "output_type": "stream",
     "text": [
      "Instance of the class Particles\n",
      "Number of particles: 2\n"
     ]
    }
   ],
   "source": [
    "particles = ic_two_body(1,1,1,0)\n",
    "pos = particles.pos\n",
    "vel = particles.vel\n",
    "mass = particles.mass\n",
    "N_particles = len(particles)\n",
    "tstep = 0.01\n",
    "\n",
    "print(particles)"
   ]
  },
  {
   "cell_type": "code",
   "execution_count": 3,
   "metadata": {},
   "outputs": [
    {
     "name": "stdout",
     "output_type": "stream",
     "text": [
      "pos before [[0. 0. 0.]\n",
      " [1. 0. 0.]]\n",
      "pos after [[ 1.00000000e-04 -7.07106781e-03  0.00000000e+00]\n",
      " [ 9.99900000e-01  7.07106781e-03  0.00000000e+00]]\n"
     ]
    }
   ],
   "source": [
    "total_evo_time = 10\n",
    "tstep=0.01\n",
    "\n",
    "positions = []\n",
    "for _ in range(int(total_evo_time/tstep)):\n",
    "    print(\"pos before\",particles.pos)\n",
    "    #particles, tstep, acc, jerk, potential = intg.integrator_euler(particles=particles, tstep=tstep, acceleration_estimator= dyn.acceleration_direct_vectorized,softening=\"Dehnen\")\n",
    "    acc = intg.integrator_euler(particles=particles, tstep=tstep, acceleration_estimator= dyn.acceleration_direct,softening=\"Dehnen\")\n",
    "    #\n",
    "    print(\"pos after\",particles.pos)\n",
    "    break\n",
    "        \n",
    "\n"
   ]
  },
  {
   "cell_type": "code",
   "execution_count": null,
   "metadata": {},
   "outputs": [],
   "source": []
  },
  {
   "cell_type": "code",
   "execution_count": null,
   "metadata": {},
   "outputs": [],
   "source": [
    "total_evo_time = 10\n",
    "tstep=0.01\n",
    "\n",
    "positions = []\n",
    "for _ in range(int(total_evo_time/tstep)):\n",
    "\n",
    "    start = time.time()\n",
    "    results = parallel_evo()\n",
    "    end_parallel = time.time()\n",
    "\n",
    "    # update global variables directly\n",
    "    pos = np.concatenate([results[i][0] for i in range(len(results))])\n",
    "    vel = np.concatenate([results[i][1] for i in range(len(results))])\n",
    "    end_concat = time.time()\n",
    "    positions.append(pos)\n",
    "\n",
    "    print(f\"Parallel time: {end_parallel-start}\")\n",
    "    print(f\"Concat time: {end_concat-end_parallel}\")\n",
    "    \n",
    "        \n",
    "\n"
   ]
  },
  {
   "cell_type": "code",
   "execution_count": null,
   "metadata": {},
   "outputs": [],
   "source": [
    "pos_array = np.array(positions)"
   ]
  },
  {
   "cell_type": "code",
   "execution_count": null,
   "metadata": {},
   "outputs": [],
   "source": [
    "import matplotlib.pyplot as plt\n",
    "\n",
    "plt.plot(pos_array[:,0,0], pos_array[:,0,1],label=\"particle1\")\n",
    "plt.plot(pos_array[:,1,0], pos_array[:,1,1],label=\"particle2\")\n",
    "plt.legend()\n",
    "plt.show()"
   ]
  },
  {
   "cell_type": "code",
   "execution_count": null,
   "metadata": {},
   "outputs": [],
   "source": [
    "pos_array.shape"
   ]
  },
  {
   "cell_type": "code",
   "execution_count": null,
   "metadata": {},
   "outputs": [],
   "source": [
    "pos_slow = np.array(positions_slow)"
   ]
  },
  {
   "cell_type": "code",
   "execution_count": null,
   "metadata": {},
   "outputs": [],
   "source": [
    "fig, ax = plt.subplots(1, 2, figsize=(10, 5))\n",
    "\n",
    "ax[0].plot(pos_array[:,0,0], pos_array[:,0,1],label=\"particle1\")\n",
    "ax[0].plot(pos_array[:,1,0], pos_array[:,1,1],label=\"particle2\")\n",
    "ax[0].legend()\n",
    "ax[0].set_title(\"Parallel\")\n",
    "\n",
    "ax[1].plot(pos_slow[:,0,0], pos_slow[:,0,1],label=\"particle1\")\n",
    "ax[1].plot(pos_slow[:,1,0], pos_slow[:,1,1],label=\"particle2\")\n",
    "ax[1].legend()\n",
    "ax[1].set_title(\"Serial\")"
   ]
  },
  {
   "cell_type": "code",
   "execution_count": null,
   "metadata": {},
   "outputs": [],
   "source": [
    "fig.savefig(\"compa.pdf\")"
   ]
  },
  {
   "cell_type": "code",
   "execution_count": null,
   "metadata": {},
   "outputs": [],
   "source": []
  }
 ],
 "metadata": {
  "kernelspec": {
   "display_name": "base",
   "language": "python",
   "name": "python3"
  },
  "language_info": {
   "codemirror_mode": {
    "name": "ipython",
    "version": 3
   },
   "file_extension": ".py",
   "mimetype": "text/x-python",
   "name": "python",
   "nbconvert_exporter": "python",
   "pygments_lexer": "ipython3",
   "version": "3.10.12"
  }
 },
 "nbformat": 4,
 "nbformat_minor": 2
}
