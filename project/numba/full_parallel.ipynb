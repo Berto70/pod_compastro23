{
 "cells": [
  {
   "cell_type": "code",
   "execution_count": null,
   "metadata": {},
   "outputs": [],
   "source": [
    "from fireworks.ic import ic_two_body as ic_two_body\n",
    "from fireworks.ic import ic_random_uniform as ic_random_uniform\n",
    "\n",
    "from fireworks.nbodylib import dynamics as dyn\n",
    "from fireworks.nbodylib import integrators as intg\n",
    "\n",
    "\n",
    "import matplotlib.pyplot as plt\n",
    "import numpy as np\n",
    "from typing import Optional, Tuple\n",
    "import numpy.typing as npt\n",
    "from fireworks.particles import Particles\n",
    "\n",
    "\n",
    "import numba\n",
    "from numba import prange, njit"
   ]
  },
  {
   "cell_type": "code",
   "execution_count": null,
   "metadata": {},
   "outputs": [],
   "source": [
    "mass1 = 1.0\n",
    "mass2 = 1.0\n",
    "rp = 1.0\n",
    "e = 0.0\n",
    "\n",
    "particles = ic_two_body(mass1, mass2, rp, e)\n",
    "\n",
    "pos = particles.pos\n",
    "vel = particles.vel\n",
    "N = len(particles)    \n",
    "mass = particles.mass\n",
    "softening = 1e-3\n",
    "tstep = 1e-3\n",
    "\n",
    "#particles = ic_random_uniform(100,[1,1],[1,10],[0,1])"
   ]
  },
  {
   "cell_type": "code",
   "execution_count": null,
   "metadata": {},
   "outputs": [],
   "source": [
    "@njit(parallel=True,fastmath=True)\n",
    "def acceleration_parallel(position_1,N,mass,i):\n",
    "    # acceleration of particle i \n",
    "    acceleration = np.zeros(3)\n",
    "    for j in prange(N):\n",
    "        if i != j: \n",
    "            print(\"indii\",i,j)\n",
    "            # Cartesian component of the i,j particles distance\n",
    "            position_2 = pos[j] \n",
    "            \n",
    "            mass_2 = mass[j]\n",
    "            dx = position_1[0] - position_2[0]\n",
    "            dy = position_1[1] - position_2[1]\n",
    "            dz = position_1[2] - position_2[2]\n",
    "            \n",
    "            # Distance module\n",
    "            r = np.sqrt(dx**2 + dy**2 + dz**2)\n",
    "            \n",
    "            # Cartesian component of the i,j force\n",
    "            # This shouldn't give problems during parallelization because I'm updating a specific element\n",
    "            # and the order in j in which this is done is not relevant \n",
    "            \n",
    "            acceleration[0] += -mass_2 * (5*softening**2 + 2*r**2) * dx / (2*(r**2 + softening**2)**(5/2))\n",
    "            acceleration[1] += -mass_2 * (5*softening**2 + 2*r**2) * dy / (2*(r**2 + softening**2)**(5/2))\n",
    "            acceleration[2] += -mass_2 * (5*softening**2 + 2*r**2) * dz / (2*(r**2 + softening**2)**(5/2))\n",
    "\n",
    "    return acceleration\n"
   ]
  },
  {
   "cell_type": "code",
   "execution_count": null,
   "metadata": {},
   "outputs": [],
   "source": [
    "@njit(parallel=True)\n",
    "def integrator_euler(pos,\n",
    "                     vel,\n",
    "                     acc,\n",
    "                     tstep,\n",
    "                     jerk=None,\n",
    "                     potential=None\n",
    "                     ):\n",
    "    \n",
    "    # removing check for external acceleration\n",
    "    #\n",
    "    #\n",
    "    # Euler integration\n",
    "    vel = vel + acc * tstep  # Update vel\n",
    "    pos = pos + vel * tstep  # Update pos\n",
    "    #particles.set_acc(acc)  # Set acceleration\n",
    "\n",
    "    return (vel,pos)\n"
   ]
  },
  {
   "cell_type": "code",
   "execution_count": 38,
   "metadata": {},
   "outputs": [
    {
     "name": "stdout",
     "output_type": "stream",
     "text": [
      "[1 3]\n",
      "[3]\n"
     ]
    }
   ],
   "source": [
    "a = np.array([1,2])\n",
    "b = a[1:]\n",
    "b += 1\n",
    "print(a)\n",
    "print(b)\n"
   ]
  },
  {
   "cell_type": "code",
   "execution_count": null,
   "metadata": {},
   "outputs": [],
   "source": [
    "@njit(parallel=True)\n",
    "def full_parallel_evo(N,pos,vel,mass,tstep):\n",
    "    for i in prange(N):\n",
    "        position_1 = pos[i] \n",
    "        acc_i   = acceleration_parallel(position_1,N,mass,i)\n",
    "        print(f\"acc_{i}\",acc_i,\"\\n\")\n",
    "        vel2,pos2 = integrator_euler(position_1,vel[i],acc_i,tstep)\n",
    "        print(f\"new position of particle {i}:\",pos2)\n",
    "        print(\"\\n\")\n",
    "        "
   ]
  },
  {
   "cell_type": "code",
   "execution_count": null,
   "metadata": {},
   "outputs": [],
   "source": [
    "full_parallel_evo(N,pos,vel,mass,tstep)"
   ]
  },
  {
   "cell_type": "code",
   "execution_count": null,
   "metadata": {},
   "outputs": [],
   "source": [
    "full_parallel_evo.parallel_diagnostics()"
   ]
  },
  {
   "cell_type": "code",
   "execution_count": null,
   "metadata": {},
   "outputs": [],
   "source": [
    "particles2, tstep2, acc2, jerk, potential = intg.integrator_euler(particles,tstep,acceleration_estimator=dyn.acceleration_direct,softening=\"Dehnen\")\n",
    "particles2.pos"
   ]
  },
  {
   "cell_type": "code",
   "execution_count": null,
   "metadata": {},
   "outputs": [],
   "source": [
    "acc2"
   ]
  },
  {
   "cell_type": "code",
   "execution_count": 63,
   "metadata": {},
   "outputs": [],
   "source": [
    "@njit(parallel=True,fastmath=True)\n",
    "def full_parallel_evo(N,pos,vel,mass,tstep):\n",
    "    for i in prange(N):\n",
    "        position_1 = pos[i]\n",
    "        acceleration = np.zeros(3)\n",
    "        for j in prange(N):\n",
    "            if i != j: \n",
    "      \n",
    "                # Cartesian component of the i,j particles distance\n",
    "                position_2 = pos[j] \n",
    "                mass_2 = mass[j]\n",
    "                dx = position_1[0] - position_2[0]\n",
    "                dy = position_1[1] - position_2[1]\n",
    "                dz = position_1[2] - position_2[2]\n",
    "                \n",
    "                # Distance module\n",
    "                r = np.sqrt(dx**2 + dy**2 + dz**2)\n",
    "                \n",
    "                # Cartesian component of the i,j force\n",
    "                # This shouldn't give problems during parallelization because I'm updating a specific element\n",
    "                # and the order in j in which this is done is not relevant \n",
    "                \n",
    "                acceleration[0] += -mass_2 * (5*softening**2 + 2*r**2) * dx / (2*(r**2 + softening**2)**(5/2))\n",
    "                acceleration[1] += -mass_2 * (5*softening**2 + 2*r**2) * dy / (2*(r**2 + softening**2)**(5/2))\n",
    "                acceleration[2] += -mass_2 * (5*softening**2 + 2*r**2) * dz / (2*(r**2 + softening**2)**(5/2))\n",
    "\n",
    "\n",
    "        #vel2,pos2 = integrator_euler(pos[i],vel[i],acceleration,tstep)\n",
    "\n",
    "        vel2 = vel + acceleration * tstep  # Update vel\n",
    "        pos2 = pos + vel * tstep\n",
    "\n",
    "        #print(f\"new position of particle {i}:\",pos2)\n",
    "        #print(\"\\n\")\n",
    "        \n"
   ]
  },
  {
   "cell_type": "code",
   "execution_count": 64,
   "metadata": {},
   "outputs": [
    {
     "name": "stdout",
     "output_type": "stream",
     "text": [
      "The slowest run took 19.04 times longer than the fastest. This could mean that an intermediate result is being cached.\n",
      "50.6 µs ± 60.6 µs per loop (mean ± std. dev. of 7 runs, 1 loop each)\n"
     ]
    }
   ],
   "source": [
    "%%timeit\n",
    "full_parallel_evo(N,pos,vel,mass,tstep)"
   ]
  },
  {
   "cell_type": "code",
   "execution_count": null,
   "metadata": {},
   "outputs": [],
   "source": []
  },
  {
   "cell_type": "code",
   "execution_count": 58,
   "metadata": {},
   "outputs": [
    {
     "name": "stdout",
     "output_type": "stream",
     "text": [
      " \n",
      "================================================================================\n",
      " Parallel Accelerator Optimizing:  Function full_parallel_evo, \n",
      "/tmp/ipykernel_78106/3995311148.py (1)  \n",
      "================================================================================\n",
      "\n",
      "\n",
      "Parallel loop listing for  Function full_parallel_evo, /tmp/ipykernel_78106/3995311148.py (1) \n",
      "------------------------------------------------------------------------------------------------------------------|loop #ID\n",
      "@njit(parallel=True,fastmath=True)                                                                                | \n",
      "def full_parallel_evo(N,pos,vel,mass,tstep):                                                                      | \n",
      "    for i in prange(N):-------------------------------------------------------------------------------------------| #42\n",
      "        position_1 = pos[i]                                                                                       | \n",
      "       # acc_i   = acceleration_parallel(position_1,N,mass,i)                                                     | \n",
      "                                                                                                                  | \n",
      "        acceleration = np.zeros(3)--------------------------------------------------------------------------------| #38\n",
      "        for j in prange(N):---------------------------------------------------------------------------------------| #41\n",
      "            if i != j:                                                                                            | \n",
      "                                                                                                                  | \n",
      "                # Cartesian component of the i,j particles distance                                               | \n",
      "                position_2 = pos[j]                                                                               | \n",
      "                                                                                                                  | \n",
      "                mass_2 = mass[j]                                                                                  | \n",
      "                dx = position_1[0] - position_2[0]                                                                | \n",
      "                dy = position_1[1] - position_2[1]                                                                | \n",
      "                dz = position_1[2] - position_2[2]                                                                | \n",
      "                                                                                                                  | \n",
      "                # Distance module                                                                                 | \n",
      "                r = np.sqrt(dx**2 + dy**2 + dz**2)                                                                | \n",
      "                                                                                                                  | \n",
      "                # Cartesian component of the i,j force                                                            | \n",
      "                # This shouldn't give problems during parallelization because I'm updating a specific element     | \n",
      "                # and the order in j in which this is done is not relevant                                        | \n",
      "                                                                                                                  | \n",
      "                acceleration[0] += -mass_2 * (5*softening**2 + 2*r**2) * dx / (2*(r**2 + softening**2)**(5/2))    | \n",
      "                acceleration[1] += -mass_2 * (5*softening**2 + 2*r**2) * dy / (2*(r**2 + softening**2)**(5/2))    | \n",
      "                acceleration[2] += -mass_2 * (5*softening**2 + 2*r**2) * dz / (2*(r**2 + softening**2)**(5/2))    | \n",
      "                                                                                                                  | \n",
      "                                                                                                                  | \n",
      "        #print(f\"acc_{i}\",acceleration,\"\\n\")                                                                      | \n",
      "                                                                                                                  | \n",
      "                                                                                                                  | \n",
      "        #vel2,pos2 = integrator_euler(pos[i],vel[i],acceleration,tstep)                                           | \n",
      "                                                                                                                  | \n",
      "        vel2 = vel + acceleration * tstep  # Update vel-----------------------------------------------------------| #39\n",
      "        pos2 = pos + vel * tstep----------------------------------------------------------------------------------| #40\n",
      "                                                                                                                  | \n",
      "        #print(f\"new position of particle {i}:\",pos2)                                                             | \n",
      "        #print(\"\\n\")                                                                                              | \n",
      "--------------------------------- Fusing loops ---------------------------------\n",
      "Attempting fusion of parallel loops (combines loops with similar properties)...\n",
      "----------------------------- Before Optimisation ------------------------------\n",
      "Parallel region 0:\n",
      "+--42 (parallel)\n",
      "   +--41 (parallel)\n",
      "   +--38 (parallel)\n",
      "\n",
      "\n",
      "--------------------------------------------------------------------------------\n",
      "------------------------------ After Optimisation ------------------------------\n",
      "Parallel region 0:\n",
      "+--42 (parallel)\n",
      "   +--41 (serial)\n",
      "   +--38 (serial)\n",
      "\n",
      "\n",
      " \n",
      "Parallel region 0 (loop #42) had 0 loop(s) fused and 2 loop(s) serialized as \n",
      "part of the larger parallel loop (#42).\n",
      "--------------------------------------------------------------------------------\n",
      "--------------------------------------------------------------------------------\n",
      " \n",
      "---------------------------Loop invariant code motion---------------------------\n",
      "Allocation hoisting:\n",
      "The memory allocation derived from the instruction at \n",
      "/tmp/ipykernel_78106/3995311148.py (7) is hoisted out of the parallel loop \n",
      "labelled #42 (it will be performed before the loop is executed and reused inside\n",
      " the loop):\n",
      "    - numpy.empty() is used for the allocation.\n",
      "\n",
      "Instruction hoisting:\n",
      "loop #42:\n",
      "  Has the following hoisted:\n",
      "    $const26.7 = const(int, 3)\n",
      "    $np_g_var.1329 = global(np: <module 'numpy' from '/root/miniconda3/lib/python3.10/site-packages/numpy/__init__.py'>)\n",
      "    $empty_attr_attr.1330 = getattr(value=$np_g_var.1329, attr=empty)\n",
      "    $np_typ_var.1331 = getattr(value=$np_g_var.1329, attr=float64)\n",
      "    acceleration = call $empty_attr_attr.1330($const26.7, $np_typ_var.1331, func=$empty_attr_attr.1330, args=[Var($const26.7, 3995311148.py:7), Var($np_typ_var.1331, 3995311148.py:7)], kws=(), vararg=None, varkwarg=None, target=None)\n",
      "    msg.1317 = const(str, Sizes of vel, acceleration do not match on /tmp/ipykernel_78106/3995311148.py (36))\n",
      "    assert.1318 = global(assert_equiv: <intrinsic assert_equiv>)\n",
      "    msg.1321 = const(str, Sizes of pos, vel do not match on /tmp/ipykernel_78106/3995311148.py (37))\n",
      "    assert.1322 = global(assert_equiv: <intrinsic assert_equiv>)\n",
      "    msg.1324 = const(str, Sizes of pos, vel do not match on /tmp/ipykernel_78106/3995311148.py (37))\n",
      "    assert.1325 = global(assert_equiv: <intrinsic assert_equiv>)\n",
      "  Failed to hoist the following:\n",
      "    dependency: i = $parfor__index_1365.1423\n",
      "    dependency: position_1 = getitem(value=pos, index=$parfor__index_1365.1423, fn=<built-in function getitem>)\n",
      "    not pure: ret.1319 = call $push_global_to_block.1420(msg.1317, vel__size1_1306, $const26.7, func=$push_global_to_block.1420, args=[Var(msg.1317, 3995311148.py:36), Var(vel__size1_1306, 3995311148.py:1), Var($const26.7, 3995311148.py:7)], kws={}, vararg=None, varkwarg=None, target=None)\n",
      "    not pure: ret.1323 = call $push_global_to_block.1421(msg.1321, pos__size1_1303, vel__size1_1306, func=$push_global_to_block.1421, args=[Var(msg.1321, 3995311148.py:37), Var(pos__size1_1303, 3995311148.py:1), Var(vel__size1_1306, 3995311148.py:1)], kws={}, vararg=None, varkwarg=None, target=None)\n",
      "    not pure: ret.1326 = call $push_global_to_block.1422(msg.1324, pos__size0_1302, vel__size0_1305, func=$push_global_to_block.1422, args=[Var(msg.1324, 3995311148.py:37), Var(pos__size0_1302, 3995311148.py:1), Var(vel__size0_1305, 3995311148.py:1)], kws={}, vararg=None, varkwarg=None, target=None)\n",
      "--------------------------------------------------------------------------------\n"
     ]
    }
   ],
   "source": [
    "full_parallel_evo.parallel_diagnostics(level=4)"
   ]
  },
  {
   "cell_type": "code",
   "execution_count": 21,
   "metadata": {},
   "outputs": [],
   "source": [
    "def boh():\n",
    "    x = np.zeros(100)\n",
    "    y = np.ones(100)\n",
    "    for i in range(len(y)):\n",
    "        x += y[i] \n"
   ]
  },
  {
   "cell_type": "code",
   "execution_count": 22,
   "metadata": {},
   "outputs": [
    {
     "name": "stdout",
     "output_type": "stream",
     "text": [
      "406 µs ± 175 µs per loop (mean ± std. dev. of 7 runs, 1,000 loops each)\n"
     ]
    }
   ],
   "source": [
    "%%timeit\n",
    "boh()"
   ]
  },
  {
   "cell_type": "code",
   "execution_count": 23,
   "metadata": {},
   "outputs": [],
   "source": [
    "@njit\n",
    "def boh():\n",
    "    x = np.zeros(100)\n",
    "    y = np.ones(100)\n",
    "    for i in range(len(y)):\n",
    "        x += y[i] \n"
   ]
  },
  {
   "cell_type": "code",
   "execution_count": 24,
   "metadata": {},
   "outputs": [
    {
     "name": "stdout",
     "output_type": "stream",
     "text": [
      "The slowest run took 5.26 times longer than the fastest. This could mean that an intermediate result is being cached.\n",
      "2.64 µs ± 2.37 µs per loop (mean ± std. dev. of 7 runs, 1 loop each)\n"
     ]
    }
   ],
   "source": [
    "%%timeit\n",
    "boh()"
   ]
  },
  {
   "cell_type": "code",
   "execution_count": 25,
   "metadata": {},
   "outputs": [],
   "source": [
    "@njit(parallel=True)\n",
    "def boh():\n",
    "    x = np.zeros(100)\n",
    "    y = np.ones(100)\n",
    "    for i in range(len(y)):\n",
    "        x += y[i] \n"
   ]
  },
  {
   "cell_type": "code",
   "execution_count": 26,
   "metadata": {},
   "outputs": [
    {
     "name": "stdout",
     "output_type": "stream",
     "text": [
      "The slowest run took 35.18 times longer than the fastest. This could mean that an intermediate result is being cached.\n",
      "73.8 µs ± 108 µs per loop (mean ± std. dev. of 7 runs, 1 loop each)\n"
     ]
    }
   ],
   "source": [
    "%%timeit\n",
    "boh()"
   ]
  },
  {
   "cell_type": "code",
   "execution_count": 27,
   "metadata": {},
   "outputs": [
    {
     "name": "stdout",
     "output_type": "stream",
     "text": [
      " \n",
      "================================================================================\n",
      " Parallel Accelerator Optimizing:  Function boh, \n",
      "/tmp/ipykernel_78106/1245845950.py (1)  \n",
      "================================================================================\n",
      "\n",
      "\n",
      "Parallel loop listing for  Function boh, /tmp/ipykernel_78106/1245845950.py (1) \n",
      "-------------------------------|loop #ID\n",
      "@njit(parallel=True)           | \n",
      "def boh():                     | \n",
      "    x = np.zeros(100)----------| #14\n",
      "    y = np.ones(100)-----------| #15\n",
      "    for i in range(len(y)):    | \n",
      "        x += y[i]              | \n",
      "------------------------------ After Optimisation ------------------------------\n",
      "Parallel region 0:\n",
      "+--14 (parallel, fused with loop(s): 15)\n",
      "\n",
      "\n",
      " \n",
      "Parallel region 0 (loop #14) had 1 loop(s) fused.\n",
      "--------------------------------------------------------------------------------\n",
      "--------------------------------------------------------------------------------\n",
      " \n"
     ]
    }
   ],
   "source": [
    "boh.parallel_diagnostics()"
   ]
  },
  {
   "cell_type": "code",
   "execution_count": null,
   "metadata": {},
   "outputs": [],
   "source": []
  }
 ],
 "metadata": {
  "kernelspec": {
   "display_name": "base",
   "language": "python",
   "name": "python3"
  },
  "language_info": {
   "codemirror_mode": {
    "name": "ipython",
    "version": 3
   },
   "file_extension": ".py",
   "mimetype": "text/x-python",
   "name": "python",
   "nbconvert_exporter": "python",
   "pygments_lexer": "ipython3",
   "version": "3.10.12"
  }
 },
 "nbformat": 4,
 "nbformat_minor": 2
}
