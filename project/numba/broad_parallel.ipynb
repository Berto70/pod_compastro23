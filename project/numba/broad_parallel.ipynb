{
 "cells": [
  {
   "cell_type": "code",
   "execution_count": 1,
   "metadata": {},
   "outputs": [],
   "source": [
    "from fireworks.ic import ic_two_body as ic_two_body\n",
    "from fireworks.ic import ic_random_uniform as ic_random_uniform\n",
    "\n",
    "from fireworks.nbodylib import dynamics as dyn\n",
    "from fireworks.nbodylib import integrators as intg\n",
    "\n",
    "\n",
    "import matplotlib.pyplot as plt\n",
    "import numpy as np\n",
    "from typing import Optional, Tuple\n",
    "import numpy.typing as npt\n",
    "from fireworks.particles import Particles\n",
    "\n",
    "\n",
    "import numba\n",
    "from numba import prange, njit"
   ]
  },
  {
   "cell_type": "code",
   "execution_count": 39,
   "metadata": {},
   "outputs": [],
   "source": [
    "mass1 = 1.0\n",
    "mass2 = 1.0\n",
    "rp = 1.0\n",
    "e = 0.0\n",
    "\n",
    "particles = ic_two_body(mass1, mass2, rp, e)\n",
    "\n",
    "pos = particles.pos\n",
    "vel = particles.vel\n",
    "N_particles = len(particles)  \n",
    "N = N_particles  \n",
    "mass = particles.mass\n",
    "softening = 1e-3\n",
    "tstep = 1e-3\n",
    "\n",
    "#particles = ic_random_uniform(100,[1,1],[1,10],[0,1])"
   ]
  },
  {
   "cell_type": "code",
   "execution_count": 28,
   "metadata": {},
   "outputs": [],
   "source": [
    "a = 0 \n",
    "b = 2"
   ]
  },
  {
   "cell_type": "code",
   "execution_count": 29,
   "metadata": {},
   "outputs": [],
   "source": [
    "dx = pos[a:b, 0,np.newaxis] - pos[:, 0] #broadcasting of (N,) on (N,1) array, obtain distance along x in an (N,N) matrix\n",
    "dy = pos[a:b, 1,np.newaxis] - pos[:, 1] \n",
    "dz = pos[a:b, 2,np.newaxis] - pos[:, 2] \n",
    "    \n",
    "r = np.sqrt(dx**2 + dy**2 + dz**2)\n",
    "r[r==0]=1\n",
    "\n",
    "dpos = np.concatenate((dx, dy, dz)).reshape((3,N_particles,N_particles)) \n",
    "\n"
   ]
  },
  {
   "cell_type": "code",
   "execution_count": 30,
   "metadata": {},
   "outputs": [
    {
     "data": {
      "text/plain": [
       "(3, 2, 2)"
      ]
     },
     "execution_count": 30,
     "metadata": {},
     "output_type": "execute_result"
    }
   ],
   "source": [
    "dpos.shape"
   ]
  },
  {
   "cell_type": "code",
   "execution_count": 35,
   "metadata": {},
   "outputs": [],
   "source": [
    "\n",
    "def full_evo(a,b,particles):\n",
    "   \n",
    "    # Questo può essere così oppure rendo global direttamente particles...\n",
    "    \n",
    "    N_subset = abs(b-a)\n",
    "\n",
    "    pos = particles.pos\n",
    "    vel = particles.vel\n",
    "    N_particles = len(particles)\n",
    "    mass = particles.mass\n",
    "\n",
    "    # Select particles from a to b to parallelize computation\n",
    "    # Need to rewrite the function in order to compute quantities of subset of particles wrt all the others\n",
    "    dx = pos[a:b, 0,np.newaxis] - pos[:, 0] #broadcasting of (N,) on (N,1) array, obtain distance along x in an (N,N) matrix\n",
    "    dy = pos[a:b, 1,np.newaxis] - pos[:, 1] \n",
    "    dz = pos[a:b, 2,np.newaxis] - pos[:, 2] \n",
    "      \n",
    "    r = np.sqrt(dx**2 + dy**2 + dz**2)\n",
    "    r[r==0]=1\n",
    "    # New dpos shape is (3,N_particles,3000) since \n",
    "    # 3 is the number of dimensions, \n",
    "    # N_subset is the number of particles in the subset and\n",
    "    # N_particles is the number of total particles\n",
    "    # dpos is the distance vector between each particle in the subset and all the others\n",
    "\n",
    "    dpos = np.concatenate((dx, dy, dz)).reshape((3,N_subset,N_particles)) \n",
    "    \n",
    "    acc = - (dpos/r**3 @ mass).T\n",
    "    jerk= None\n",
    "    pot = None\n",
    "\n",
    "    return acc, jerk, pot"
   ]
  },
  {
   "cell_type": "code",
   "execution_count": 44,
   "metadata": {},
   "outputs": [
    {
     "data": {
      "text/plain": [
       "(array([[-0., -0., -0.],\n",
       "        [-0., -0., -0.],\n",
       "        [-0., -0., -0.],\n",
       "        ...,\n",
       "        [-0., -0., -0.],\n",
       "        [-0., -0., -0.],\n",
       "        [-0., -0., -0.]]),\n",
       " None,\n",
       " None)"
      ]
     },
     "execution_count": 44,
     "metadata": {},
     "output_type": "execute_result"
    }
   ],
   "source": [
    "particles = ic_random_uniform(3000,[1,1],[1,10],[0,1])\n",
    "\n",
    "N_particles = len(particles)\n",
    "mass = particles.mass\n",
    "pos = particles.pos\n",
    "vel = particles.vel\n",
    "\n",
    "full_evo(0,750,particles)\n"
   ]
  },
  {
   "cell_type": "code",
   "execution_count": 40,
   "metadata": {},
   "outputs": [],
   "source": [
    "def acceleration_direct_vectorized(N_particles, pos, mass):\n",
    "   \n",
    "    dx = pos[:, 0].reshape(N_particles, 1) - pos[:, 0] #broadcasting of (N,) on (N,1) array, obtain distance along x in an (N,N) matrix\n",
    "    dy = pos[:, 1].reshape(N_particles, 1) - pos[:, 1] \n",
    "    dz = pos[:, 2].reshape(N_particles, 1) - pos[:, 2] \n",
    "      \n",
    "    r = np.sqrt(dx**2 + dy**2 + dz**2)\n",
    "    r[r==0]=1\n",
    "    \n",
    "    dpos = np.concatenate((dx, dy, dz)).reshape((3,N_particles,N_particles)) \n",
    "\n",
    "\n",
    "    acc = - (dpos/r**3 @ mass).T\n",
    "    jerk= None\n",
    "    pot = None\n",
    "\n",
    "    return acc, jerk, pot"
   ]
  },
  {
   "cell_type": "code",
   "execution_count": 47,
   "metadata": {},
   "outputs": [
    {
     "data": {
      "text/plain": [
       "(array([[-0., -0., -0.],\n",
       "        [-0., -0., -0.],\n",
       "        [-0., -0., -0.],\n",
       "        ...,\n",
       "        [-0., -0., -0.],\n",
       "        [-0., -0., -0.],\n",
       "        [-0., -0., -0.]]),\n",
       " None,\n",
       " None)"
      ]
     },
     "execution_count": 47,
     "metadata": {},
     "output_type": "execute_result"
    }
   ],
   "source": [
    "\n",
    "acceleration_direct_vectorized(N_particles, pos, mass)"
   ]
  },
  {
   "cell_type": "code",
   "execution_count": null,
   "metadata": {},
   "outputs": [],
   "source": [
    "@njit(parallel=True,fastmath=True)\n",
    "def fast_acceleration_direct_vectorized(N_particles, pos, mass):\n",
    "   \n",
    "    dx = pos[:, 0].copy().reshape(N_particles, 1) - pos[:, 0] #broadcasting of (N,) on (N,1) array, obtain distance along x in an (N,N) matrix\n",
    "    dy = pos[:, 1].copy().reshape(N_particles, 1) - pos[:, 1] \n",
    "    dz = pos[:, 2].copy().reshape(N_particles, 1) - pos[:, 2] \n",
    "      \n",
    "    r = np.sqrt(dx**2 + dy**2 + dz**2)\n",
    "    #r[r==0]=1 not supported on numba\n",
    "    r += np.eye(r.shape[0])\n",
    "    \n",
    "    dpos = np.concatenate((dx, dy, dz)).copy().reshape((3,N_particles,N_particles)) \n",
    "\n",
    "    acc = np.zeros((3,N_particles),dtype=np.float64)\n",
    "    np.sum((dpos/r**3 * mass),axis=2) #not supported on numba\n",
    "    \n",
    "\n",
    "    acc = -acc.T\n",
    "    jerk= None\n",
    "    pot = None\n",
    "\n",
    "    return acc, jerk, pot"
   ]
  },
  {
   "cell_type": "code",
   "execution_count": null,
   "metadata": {},
   "outputs": [],
   "source": [
    "#%%timeit\n",
    "fast_acceleration_direct_vectorized(N, pos, mass)"
   ]
  },
  {
   "cell_type": "code",
   "execution_count": null,
   "metadata": {},
   "outputs": [],
   "source": []
  }
 ],
 "metadata": {
  "kernelspec": {
   "display_name": "base",
   "language": "python",
   "name": "python3"
  },
  "language_info": {
   "codemirror_mode": {
    "name": "ipython",
    "version": 3
   },
   "file_extension": ".py",
   "mimetype": "text/x-python",
   "name": "python",
   "nbconvert_exporter": "python",
   "pygments_lexer": "ipython3",
   "version": "3.10.12"
  }
 },
 "nbformat": 4,
 "nbformat_minor": 2
}
