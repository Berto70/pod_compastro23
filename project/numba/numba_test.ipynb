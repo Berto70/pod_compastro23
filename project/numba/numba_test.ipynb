{
 "cells": [
  {
   "cell_type": "code",
   "execution_count": 1,
   "metadata": {},
   "outputs": [],
   "source": [
    "from fireworks.ic import ic_two_body as ic_two_body\n",
    "from fireworks.ic import ic_random_uniform as ic_random_uniform\n",
    "\n",
    "from fireworks.nbodylib import dynamics as dyn\n",
    "from fireworks.nbodylib import integrators as intg\n",
    "\n",
    "import matplotlib.pyplot as plt\n",
    "import numpy as np\n",
    "from typing import Optional, Tuple\n",
    "import numpy.typing as npt\n",
    "from fireworks.particles import Particles\n",
    "\n",
    "\n",
    "import numba\n",
    "from numba import prange, njit"
   ]
  },
  {
   "cell_type": "code",
   "execution_count": 2,
   "metadata": {},
   "outputs": [],
   "source": [
    "mass1 = 1.0\n",
    "mass2 = 1.0\n",
    "rp = 1.0\n",
    "e = 0.0\n",
    "\n",
    "particles = ic_two_body(mass1, mass2, rp, e)\n",
    "\n",
    "#particles = ic_random_uniform(100,[1,1],[1,10],[0,1])"
   ]
  },
  {
   "cell_type": "code",
   "execution_count": 3,
   "metadata": {},
   "outputs": [],
   "source": [
    "#@njit\n",
    "def acceleration_direct_slow(pos,mass,N,softening):\n",
    "    jerk = None\n",
    "    pot = None\n",
    "\n",
    "    # acc[i,:] ax,ay,az of particle i \n",
    "    acc  = np.zeros([N,3])\n",
    "\n",
    "    for i in range(N-1):\n",
    "        for j in range(i+1,N):\n",
    "            # Compute relative acceleration given\n",
    "            # position of particle i and j\n",
    "            mass_1 = mass[i]\n",
    "            mass_2 = mass[j]\n",
    "\n",
    "            # Compute acceleration of particle i due to particle j\n",
    "            position_1=pos[i,:]\n",
    "            position_2=pos[j,:]\n",
    "            \n",
    "            # Cartesian component of the i,j particles distance\n",
    "            dx = position_1[0] - position_2[0]\n",
    "            dy = position_1[1] - position_2[1]\n",
    "            dz = position_1[2] - position_2[2]\n",
    "            \n",
    "\n",
    "            # Distance module\n",
    "            r = np.sqrt(dx**2 + dy**2 + dz**2)\n",
    "\n",
    "            # Cartesian component of the i,j force\n",
    "            acceleration = np.zeros(3)\n",
    "            acceleration[0] = -mass_2 * (5*softening**2 + 2*r**2) * dx / (2*(r**2 + softening**2)**(5/2))\n",
    "            acceleration[1] = -mass_2 * (5*softening**2 + 2*r**2) * dy / (2*(r**2 + softening**2)**(5/2))\n",
    "            acceleration[2] = -mass_2 * (5*softening**2 + 2*r**2) * dz / (2*(r**2 + softening**2)**(5/2))\n",
    "\n",
    "            # Update array with accelerations\n",
    "            acc[i,:] += acceleration\n",
    "            acc[j,:] -= mass_1 * acceleration / mass_2 # because acc_2nbody already multiply by m[j]\n",
    "        \n",
    "    return (acc,jerk,pot)\n"
   ]
  },
  {
   "cell_type": "markdown",
   "metadata": {},
   "source": [
    "## NUMBA\n",
    "\n",
    "\n",
    "\n",
    "Ora stai facendo comparison con una versione un po' più lenta dell'originale. L'originale ha una function call all'interno, che rende la funzione più veloce ma che potrebbe dare problemi con numba. Intanto faccio studi con versione semplificata, poi proverò ad aggiungere le numba class etc.\n"
   ]
  },
  {
   "cell_type": "markdown",
   "metadata": {},
   "source": [
    "## Only JIT no parallel"
   ]
  },
  {
   "cell_type": "code",
   "execution_count": 4,
   "metadata": {},
   "outputs": [],
   "source": [
    "pos = particles.pos\n",
    "vel = particles.vel\n",
    "N_particles = len(particles)  \n",
    "N = N_particles  \n",
    "mass = particles.mass\n",
    "softening = 1e-3"
   ]
  },
  {
   "cell_type": "code",
   "execution_count": 5,
   "metadata": {},
   "outputs": [],
   "source": [
    "@njit\n",
    "def acceleration_direct_fast(pos,mass,N,softening):\n",
    "    jerk = None\n",
    "    pot = None\n",
    "\n",
    "    # acc[i,:] ax,ay,az of particle i \n",
    "    #acc  = np.zeros([N,3])\n",
    "    acc = np.zeros_like(pos)\n",
    "\n",
    "    for i in range(N-1):\n",
    "        for j in range(i+1,N):\n",
    "            # Compute relative acceleration given\n",
    "            # position of particle i and j\n",
    "            mass_1 = mass[i]\n",
    "            mass_2 = mass[j]\n",
    "\n",
    "            # Compute acceleration of particle i due to particle j\n",
    "            position_1=pos[i,:]\n",
    "            position_2=pos[j,:]\n",
    "            \n",
    "            # Cartesian component of the i,j particles distance\n",
    "            dx = position_1[0] - position_2[0]\n",
    "            dy = position_1[1] - position_2[1]\n",
    "            dz = position_1[2] - position_2[2]\n",
    "            \n",
    "\n",
    "            # Distance module\n",
    "            r = np.sqrt(dx**2 + dy**2 + dz**2)\n",
    "\n",
    "            # Cartesian component of the i,j force\n",
    "            acceleration = np.zeros(3)\n",
    "            acceleration[0] = -mass_2 * (5*softening**2 + 2*r**2) * dx / (2*(r**2 + softening**2)**(5/2))\n",
    "            acceleration[1] = -mass_2 * (5*softening**2 + 2*r**2) * dy / (2*(r**2 + softening**2)**(5/2))\n",
    "            acceleration[2] = -mass_2 * (5*softening**2 + 2*r**2) * dz / (2*(r**2 + softening**2)**(5/2))\n",
    "\n",
    "            # Update array with accelerations\n",
    "            acc[i,:] += acceleration\n",
    "            acc[j,:] -= mass_1 * acceleration / mass_2 # because acc_2nbody already multiply by m[j]\n",
    "        \n",
    "    return (acc,jerk,pot)\n"
   ]
  },
  {
   "cell_type": "code",
   "execution_count": 6,
   "metadata": {},
   "outputs": [
    {
     "data": {
      "text/plain": [
       "(array([[ 1.,  0.,  0.],\n",
       "        [-1.,  0.,  0.]]),\n",
       " None,\n",
       " None)"
      ]
     },
     "execution_count": 6,
     "metadata": {},
     "output_type": "execute_result"
    }
   ],
   "source": [
    "acceleration_direct_fast(pos,mass,N_particles,softening)"
   ]
  },
  {
   "cell_type": "code",
   "execution_count": 7,
   "metadata": {},
   "outputs": [
    {
     "name": "stdout",
     "output_type": "stream",
     "text": [
      "5.51 µs ± 1.49 µs per loop (mean ± std. dev. of 7 runs, 100,000 loops each)\n"
     ]
    }
   ],
   "source": [
    "%%timeit\n",
    "acceleration_direct_fast(pos,mass,N_particles,softening)"
   ]
  },
  {
   "cell_type": "code",
   "execution_count": 8,
   "metadata": {},
   "outputs": [
    {
     "name": "stdout",
     "output_type": "stream",
     "text": [
      "56.9 µs ± 19.5 µs per loop (mean ± std. dev. of 7 runs, 10,000 loops each)\n"
     ]
    }
   ],
   "source": [
    "%%timeit\n",
    "acceleration_direct_slow(pos,mass,N,softening)"
   ]
  },
  {
   "cell_type": "code",
   "execution_count": 9,
   "metadata": {},
   "outputs": [
    {
     "name": "stdout",
     "output_type": "stream",
     "text": [
      "32.5 µs ± 1.71 µs per loop (mean ± std. dev. of 7 runs, 10,000 loops each)\n"
     ]
    }
   ],
   "source": [
    "%%timeit\n",
    "dyn.acceleration_direct(particles,softening,\"Dehnen\")"
   ]
  },
  {
   "cell_type": "code",
   "execution_count": 10,
   "metadata": {},
   "outputs": [
    {
     "name": "stdout",
     "output_type": "stream",
     "text": [
      "Do they give the same result? True\n"
     ]
    }
   ],
   "source": [
    "std_acc = acceleration_direct_slow(pos,mass,N,softening)\n",
    "fast_acc = acceleration_direct_fast(pos,mass,N_particles,softening)\n",
    "print(\"Do they give the same result?\",np.allclose(std_acc[0], fast_acc[0]))"
   ]
  },
  {
   "cell_type": "markdown",
   "metadata": {},
   "source": [
    "## Integrator 4 real"
   ]
  },
  {
   "cell_type": "code",
   "execution_count": 11,
   "metadata": {},
   "outputs": [],
   "source": [
    "def integrate_slow(pos,vel,N_particles,mass,softening,tstep=0.01,total_time = 10):\n",
    "\n",
    "   \n",
    "   acc_list       = np.array([])\n",
    "   pos_list       = np.array([])\n",
    "   vel_list       = np.array([])\n",
    "   #kinetic_list   = np.array([])\n",
    "   #potential_list = np.array([])\n",
    "   #energy_list    = np.array([])\n",
    "   \n",
    "   \n",
    "   for _ in range(int(total_time/tstep)):\n",
    "\n",
    "      acc, _, _ = acceleration_direct_slow(pos,mass,N_particles,softening)\n",
    "   \n",
    "      # Euler integration\n",
    "      vel = vel + acc * tstep  # Update vel\n",
    "      pos = pos + vel * tstep  # Update pos\n",
    "      \n",
    "\n",
    "      acc_list = np.append(acc_list, acc)\n",
    "      pos_list = np.append(pos_list, pos)\n",
    "      vel_list = np.append(vel_list, vel)\n",
    "\n",
    "      #kinetic_list   = np.append(kinetic_list, particles.Ekin())\n",
    "      #potential_list = np.append(potential_list, particles.Epot(softening=0.1))\n",
    "      #energy_list    = np.append(energy_list, particles.Etot(softening=0.1))\n",
    "\n",
    "\n",
    "   acc_list = acc_list.reshape(int(total_time/tstep), N_particles, 3)\n",
    "   pos_list = pos_list.reshape(int(total_time/tstep), N_particles, 3)\n",
    "   vel_list = vel_list.reshape(int(total_time/tstep), N_particles, 3)\n",
    "\n",
    "   return {\"acc_list\": acc_list, \"pos_list\": pos_list, \"vel_list\": vel_list}\n"
   ]
  },
  {
   "cell_type": "code",
   "execution_count": 12,
   "metadata": {},
   "outputs": [],
   "source": [
    "slow_results = integrate_slow(pos,vel,N_particles,mass,softening,tstep=0.01,total_time = 10)"
   ]
  },
  {
   "cell_type": "code",
   "execution_count": 13,
   "metadata": {},
   "outputs": [
    {
     "data": {
      "text/plain": [
       "<matplotlib.collections.PathCollection at 0x7f15082296c0>"
      ]
     },
     "execution_count": 13,
     "metadata": {},
     "output_type": "execute_result"
    },
    {
     "data": {
      "image/png": "[encoded data removed]",
      "text/plain": [
       "<Figure size 640x480 with 1 Axes>"
      ]
     },
     "metadata": {},
     "output_type": "display_data"
    }
   ],
   "source": [
    "plt.scatter(slow_results[\"pos_list\"][:,0,0], slow_results[\"pos_list\"][:,0,1],s=.6)\n",
    "plt.scatter(slow_results[\"pos_list\"][:,1,0], slow_results[\"pos_list\"][:,1,1],s=.6)"
   ]
  },
  {
   "cell_type": "code",
   "execution_count": 14,
   "metadata": {},
   "outputs": [],
   "source": [
    "@njit\n",
    "def integrate_fast(pos,vel,N_particles,mass,softening,tstep=0.01,total_time = 10):\n",
    "\n",
    "   acc_list = np.empty(0) # Numba can't determine the type of np.array([]) so we use np.empty(0)\n",
    "   pos_list = np.empty(0)\n",
    "   vel_list = np.empty(0)\n",
    "\n",
    "   #kinetic_list   = np.array([])\n",
    "   #potential_list = np.array([])\n",
    "   #energy_list    = np.array([])\n",
    "   \n",
    "   \n",
    "   for _ in range(int(total_time/tstep)):\n",
    "\n",
    "      acc, _, _ = acceleration_direct_fast(pos,mass,N_particles,softening)\n",
    "   \n",
    "      # Euler integration\n",
    "      vel = vel + acc * tstep  # Update vel\n",
    "      pos = pos + vel * tstep  # Update pos\n",
    "      \n",
    "\n",
    "      acc_list = np.append(acc_list, acc)\n",
    "      pos_list = np.append(pos_list, pos)\n",
    "      vel_list = np.append(vel_list, vel)\n",
    "\n",
    "      #kinetic_list   = np.append(kinetic_list, particles.Ekin())\n",
    "      #potential_list = np.append(potential_list, particles.Epot(softening=0.1))\n",
    "      #energy_list    = np.append(energy_list, particles.Etot(softening=0.1))\n",
    "\n",
    "   \n",
    "   acc_list = acc_list.reshape(int(total_time/tstep), N_particles, 3)\n",
    "   pos_list = pos_list.reshape(int(total_time/tstep), N_particles, 3)\n",
    "   vel_list = vel_list.reshape(int(total_time/tstep), N_particles, 3)\n",
    "   \n",
    "   return {\"acc_list\": acc_list, \"pos_list\": pos_list, \"vel_list\": vel_list}"
   ]
  },
  {
   "cell_type": "code",
   "execution_count": 16,
   "metadata": {},
   "outputs": [
    {
     "data": {
      "text/plain": [
       "<matplotlib.collections.PathCollection at 0x7f14bf5b85b0>"
      ]
     },
     "execution_count": 16,
     "metadata": {},
     "output_type": "execute_result"
    },
    {
     "data": {
      "image/png": "[encoded data removed]",
      "text/plain": [
       "<Figure size 640x480 with 1 Axes>"
      ]
     },
     "metadata": {},
     "output_type": "display_data"
    }
   ],
   "source": [
    "fast_results = integrate_fast(pos,vel,N_particles,mass,softening,tstep=0.01,total_time = 10)\n",
    "plt.scatter(fast_results[\"pos_list\"][:,0,0], fast_results[\"pos_list\"][:,0,1],s=.6)\n",
    "plt.scatter(fast_results[\"pos_list\"][:,1,0], fast_results[\"pos_list\"][:,1,1],s=.6)"
   ]
  },
  {
   "cell_type": "code",
   "execution_count": 17,
   "metadata": {},
   "outputs": [
    {
     "name": "stdout",
     "output_type": "stream",
     "text": [
      "87.6 ms ± 32.5 ms per loop (mean ± std. dev. of 7 runs, 1 loop each)\n"
     ]
    }
   ],
   "source": [
    "%%timeit\n",
    "integrate_slow(pos,vel,N_particles,mass,softening,tstep=0.01,total_time = 10)"
   ]
  },
  {
   "cell_type": "code",
   "execution_count": 18,
   "metadata": {},
   "outputs": [
    {
     "name": "stdout",
     "output_type": "stream",
     "text": [
      "9.84 ms ± 3.14 ms per loop (mean ± std. dev. of 7 runs, 100 loops each)\n"
     ]
    }
   ],
   "source": [
    "%%timeit\n",
    "integrate_fast(pos,vel,N_particles,mass,softening,tstep=0.01,total_time = 10)"
   ]
  },
  {
   "cell_type": "markdown",
   "metadata": {},
   "source": [
    "## Vectorized NJIT"
   ]
  },
  {
   "cell_type": "code",
   "execution_count": 46,
   "metadata": {},
   "outputs": [],
   "source": [
    "def slow_acceleration_direct_vectorized(pos,N_particles,mass,softening):\n",
    "    dx = pos[:, 0].reshape(N_particles, 1) - pos[:, 0] #broadcasting of (N,) on (N,1) array, obtain distance along x in an (N,N) matrix\n",
    "    dy = pos[:, 1].reshape(N_particles, 1) - pos[:, 1] \n",
    "    dz = pos[:, 2].reshape(N_particles, 1) - pos[:, 2] \n",
    "    \n",
    "    r = np.sqrt(dx**2 + dy**2 + dz**2)\n",
    "    r[r==0]=1\n",
    "    \n",
    "    dpos = np.concatenate((dx, dy, dz)).reshape((3,N_particles,N_particles)) \n",
    "    acc = - (dpos* (5*softening**2 + 2*r**2)/(2*(r**2 + softening**2)**(5/2)) @ mass).T\n",
    "    \n",
    "    jerk= None \n",
    "    pot = None\n",
    "\n",
    "    return acc, jerk, pot\n"
   ]
  },
  {
   "cell_type": "code",
   "execution_count": 47,
   "metadata": {},
   "outputs": [
    {
     "name": "stdout",
     "output_type": "stream",
     "text": [
      "234 µs ± 67 µs per loop (mean ± std. dev. of 7 runs, 1,000 loops each)\n"
     ]
    }
   ],
   "source": [
    "%%timeit\n",
    "slow_acceleration_direct_vectorized(pos,N_particles,mass,softening)"
   ]
  },
  {
   "cell_type": "code",
   "execution_count": 50,
   "metadata": {},
   "outputs": [],
   "source": [
    "@njit\n",
    "def fast_acceleration_direct_vectorized(pos,N_particles,mass):\n",
    "   \n",
    "    dx = pos[:, 0].copy().reshape(N_particles, 1) - pos[:, 0] #broadcasting of (N,) on (N,1) array, obtain distance along x in an (N,N) matrix\n",
    "    dy = pos[:, 1].copy().reshape(N_particles, 1) - pos[:, 1] \n",
    "    dz = pos[:, 2].copy().reshape(N_particles, 1) - pos[:, 2] \n",
    "      \n",
    "    r = np.sqrt(dx**2 + dy**2 + dz**2)\n",
    "    #r[r==0]=1 not supported on numba\n",
    "    r += np.eye(r.shape[0])\n",
    "    \n",
    "    dpos = np.concatenate((dx, dy, dz)).copy().reshape((3,N_particles,N_particles)) \n",
    "    acc = - (dpos* (5*softening**2 + 2*r**2)/(2*(r**2 + softening**2)**(5/2)) @ mass).T\n",
    "   \n",
    "    jerk= None\n",
    "    pot = None\n",
    "\n",
    "    return acc, jerk, pot"
   ]
  },
  {
   "cell_type": "code",
   "execution_count": 49,
   "metadata": {},
   "outputs": [
    {
     "ename": "TypingError",
     "evalue": "Failed in nopython mode pipeline (step: nopython frontend)\nFailed in nopython mode pipeline (step: nopython frontend)\nNo implementation of function Function(<intrinsic _impl>) found for signature:\n \n >>> _impl(array(float64, 3d, C), array(float64, 1d, C))\n \nThere are 2 candidate implementations:\n  - Of which 2 did not match due to:\n  Intrinsic in function 'dot_2_impl.<locals>._impl': File: numba/np/linalg.py: Line 543.\n    With argument(s): '(array(float64, 3d, C), array(float64, 1d, C))':\n   Rejected as the implementation raised a specific error:\n     TypingError: '@': inputs must have compatible dimensions\n  raised from /root/miniconda3/lib/python3.10/site-packages/numba/np/linalg.py:573\n\nDuring: resolving callee type: Function(<intrinsic _impl>)\nDuring: typing of call at /root/miniconda3/lib/python3.10/site-packages/numba/np/linalg.py (582)\n\n\nFile \"../../../../root/miniconda3/lib/python3.10/site-packages/numba/np/linalg.py\", line 582:\n            def _dot2_codegen(context, builder, sig, args):\n                <source elided>\n\n        return lambda left, right: _impl(left, right)\n        ^\n\nDuring: typing of intrinsic-call at /tmp/ipykernel_18865/2348465611.py (16)\n\nFile \"../../../../tmp/ipykernel_18865/2348465611.py\", line 16:\n<source missing, REPL/exec in use?>\n",
     "output_type": "error",
     "traceback": [
      "\u001b[0;31m---------------------------------------------------------------------------\u001b[0m",
      "\u001b[0;31mTypingError\u001b[0m                               Traceback (most recent call last)",
      "\u001b[1;32m/ca23/ext_volume/project/numba/numba_test.ipynb Cella 25\u001b[0m line \u001b[0;36m1\n\u001b[0;32m----> <a href='vscode-notebook-cell://attached-container%2B7b22636f6e7461696e65724e616d65223a222f627573795f726f62696e736f6e222c2273657474696e6773223a7b22636f6e74657874223a226465736b746f702d6c696e7578227d7d/ca23/ext_volume/project/numba/numba_test.ipynb#Y226sdnNjb2RlLXJlbW90ZQ%3D%3D?line=0'>1</a>\u001b[0m fast_acceleration_direct_vectorized(pos,N_particles,mass)\n",
      "File \u001b[0;32m~/miniconda3/lib/python3.10/site-packages/numba/core/dispatcher.py:468\u001b[0m, in \u001b[0;36m_DispatcherBase._compile_for_args\u001b[0;34m(self, *args, **kws)\u001b[0m\n\u001b[1;32m    464\u001b[0m         msg \u001b[39m=\u001b[39m (\u001b[39mf\u001b[39m\u001b[39m\"\u001b[39m\u001b[39m{\u001b[39;00m\u001b[39mstr\u001b[39m(e)\u001b[39m.\u001b[39mrstrip()\u001b[39m}\u001b[39;00m\u001b[39m \u001b[39m\u001b[39m\\n\u001b[39;00m\u001b[39m\\n\u001b[39;00m\u001b[39mThis error may have been caused \u001b[39m\u001b[39m\"\u001b[39m\n\u001b[1;32m    465\u001b[0m                \u001b[39mf\u001b[39m\u001b[39m\"\u001b[39m\u001b[39mby the following argument(s):\u001b[39m\u001b[39m\\n\u001b[39;00m\u001b[39m{\u001b[39;00margs_str\u001b[39m}\u001b[39;00m\u001b[39m\\n\u001b[39;00m\u001b[39m\"\u001b[39m)\n\u001b[1;32m    466\u001b[0m         e\u001b[39m.\u001b[39mpatch_message(msg)\n\u001b[0;32m--> 468\u001b[0m     error_rewrite(e, \u001b[39m'\u001b[39;49m\u001b[39mtyping\u001b[39;49m\u001b[39m'\u001b[39;49m)\n\u001b[1;32m    469\u001b[0m \u001b[39mexcept\u001b[39;00m errors\u001b[39m.\u001b[39mUnsupportedError \u001b[39mas\u001b[39;00m e:\n\u001b[1;32m    470\u001b[0m     \u001b[39m# Something unsupported is present in the user code, add help info\u001b[39;00m\n\u001b[1;32m    471\u001b[0m     error_rewrite(e, \u001b[39m'\u001b[39m\u001b[39munsupported_error\u001b[39m\u001b[39m'\u001b[39m)\n",
      "File \u001b[0;32m~/miniconda3/lib/python3.10/site-packages/numba/core/dispatcher.py:409\u001b[0m, in \u001b[0;36m_DispatcherBase._compile_for_args.<locals>.error_rewrite\u001b[0;34m(e, issue_type)\u001b[0m\n\u001b[1;32m    407\u001b[0m     \u001b[39mraise\u001b[39;00m e\n\u001b[1;32m    408\u001b[0m \u001b[39melse\u001b[39;00m:\n\u001b[0;32m--> 409\u001b[0m     \u001b[39mraise\u001b[39;00m e\u001b[39m.\u001b[39mwith_traceback(\u001b[39mNone\u001b[39;00m)\n",
      "\u001b[0;31mTypingError\u001b[0m: Failed in nopython mode pipeline (step: nopython frontend)\nFailed in nopython mode pipeline (step: nopython frontend)\nNo implementation of function Function(<intrinsic _impl>) found for signature:\n \n >>> _impl(array(float64, 3d, C), array(float64, 1d, C))\n \nThere are 2 candidate implementations:\n  - Of which 2 did not match due to:\n  Intrinsic in function 'dot_2_impl.<locals>._impl': File: numba/np/linalg.py: Line 543.\n    With argument(s): '(array(float64, 3d, C), array(float64, 1d, C))':\n   Rejected as the implementation raised a specific error:\n     TypingError: '@': inputs must have compatible dimensions\n  raised from /root/miniconda3/lib/python3.10/site-packages/numba/np/linalg.py:573\n\nDuring: resolving callee type: Function(<intrinsic _impl>)\nDuring: typing of call at /root/miniconda3/lib/python3.10/site-packages/numba/np/linalg.py (582)\n\n\nFile \"../../../../root/miniconda3/lib/python3.10/site-packages/numba/np/linalg.py\", line 582:\n            def _dot2_codegen(context, builder, sig, args):\n                <source elided>\n\n        return lambda left, right: _impl(left, right)\n        ^\n\nDuring: typing of intrinsic-call at /tmp/ipykernel_18865/2348465611.py (16)\n\nFile \"../../../../tmp/ipykernel_18865/2348465611.py\", line 16:\n<source missing, REPL/exec in use?>\n"
     ]
    }
   ],
   "source": [
    "fast_vect_res = fast_acceleration_direct_vectorized(pos,N_particles,mass)\n",
    "slow_vect_res = slow_acceleration_direct_vectorized(pos,N_particles,mass,softening)"
   ]
  },
  {
   "cell_type": "code",
   "execution_count": 22,
   "metadata": {},
   "outputs": [
    {
     "name": "stdout",
     "output_type": "stream",
     "text": [
      "The slowest run took 32.58 times longer than the fastest. This could mean that an intermediate result is being cached.\n",
      "26.5 µs ± 50.4 µs per loop (mean ± std. dev. of 7 runs, 1 loop each)\n"
     ]
    }
   ],
   "source": [
    "%%timeit\n",
    "fast_acceleration_direct_vectorized(pos,N_particles,mass)"
   ]
  },
  {
   "cell_type": "code",
   "execution_count": 23,
   "metadata": {},
   "outputs": [],
   "source": [
    "def slow_integrate_vect(pos,vel,N_particles,mass,softening,tstep=0.01,total_time = 10):\n",
    "\n",
    "   acc_list = np.empty(0) # Numba can't determine the type of np.array([]) so we use np.empty(0)\n",
    "   pos_list = np.empty(0)\n",
    "   vel_list = np.empty(0)\n",
    "\n",
    "   #kinetic_list   = np.array([])\n",
    "   #potential_list = np.array([])\n",
    "   #energy_list    = np.array([])\n",
    "   \n",
    "   \n",
    "   for _ in range(int(total_time/tstep)):\n",
    "\n",
    "      acc, _, _ = slow_acceleration_direct_vectorized(pos= pos, N_particles=N_particles, mass=mass,softening=softening)\n",
    "      # Euler integration\n",
    "      vel = vel + acc * tstep  # Update vel\n",
    "      pos = pos + vel * tstep  # Update pos\n",
    "      \n",
    "\n",
    "      acc_list = np.append(acc_list, acc)\n",
    "      pos_list = np.append(pos_list, pos)\n",
    "      vel_list = np.append(vel_list, vel)\n",
    "\n",
    "      #kinetic_list   = np.append(kinetic_list, particles.Ekin())\n",
    "      #potential_list = np.append(potential_list, particles.Epot(softening=0.1))\n",
    "      #energy_list    = np.append(energy_list, particles.Etot(softening=0.1))\n",
    "\n",
    "   \n",
    "   acc_list = acc_list.reshape(int(total_time/tstep), N_particles, 3)\n",
    "   pos_list = pos_list.reshape(int(total_time/tstep), N_particles, 3)\n",
    "   vel_list = vel_list.reshape(int(total_time/tstep), N_particles, 3)\n",
    "   \n",
    "   return {\"acc_list\": acc_list, \"pos_list\": pos_list, \"vel_list\": vel_list}"
   ]
  },
  {
   "cell_type": "code",
   "execution_count": 24,
   "metadata": {},
   "outputs": [],
   "source": [
    "@njit\n",
    "def fast_integrate_vect(pos,vel,N_particles,mass,tstep=0.01,total_time = 10):\n",
    "\n",
    "   acc_list = np.empty(0) # Numba can't determine the type of np.array([]) so we use np.empty(0)\n",
    "   pos_list = np.empty(0)\n",
    "   vel_list = np.empty(0)\n",
    "\n",
    "   #kinetic_list   = np.array([])\n",
    "   #potential_list = np.array([])\n",
    "   #energy_list    = np.array([])\n",
    "   \n",
    "   \n",
    "   for _ in range(int(total_time/tstep)):\n",
    "\n",
    "      acc, _, _ = fast_acceleration_direct_vectorized(pos,N_particles,mass)\n",
    "   \n",
    "      # Euler integration\n",
    "      vel = vel + acc * tstep  # Update vel\n",
    "      pos = pos + vel * tstep  # Update pos\n",
    "      \n",
    "\n",
    "      acc_list = np.append(acc_list, acc)\n",
    "      pos_list = np.append(pos_list, pos)\n",
    "      vel_list = np.append(vel_list, vel)\n",
    "\n",
    "      #kinetic_list   = np.append(kinetic_list, particles.Ekin())\n",
    "      #potential_list = np.append(potential_list, particles.Epot(softening=0.1))\n",
    "      #energy_list    = np.append(energy_list, particles.Etot(softening=0.1))\n",
    "\n",
    "   \n",
    "   acc_list = acc_list.copy().reshape(int(total_time/tstep), N_particles, 3)\n",
    "   pos_list = pos_list.copy().reshape(int(total_time/tstep), N_particles, 3)\n",
    "   vel_list = vel_list.copy().reshape(int(total_time/tstep), N_particles, 3)\n",
    "   # I checked and dictonary doesn't slow down the code\n",
    "   return {\"acc_list\": acc_list, \"pos_list\": pos_list, \"vel_list\": vel_list}"
   ]
  },
  {
   "cell_type": "code",
   "execution_count": 25,
   "metadata": {},
   "outputs": [
    {
     "name": "stdout",
     "output_type": "stream",
     "text": [
      "12.2 ms ± 695 µs per loop (mean ± std. dev. of 7 runs, 1 loop each)\n"
     ]
    }
   ],
   "source": [
    "%%timeit\n",
    "fast_integrate_vect(pos=pos,vel=vel,N_particles=N_particles,mass=mass)"
   ]
  },
  {
   "cell_type": "code",
   "execution_count": 26,
   "metadata": {},
   "outputs": [
    {
     "name": "stdout",
     "output_type": "stream",
     "text": [
      "168 ms ± 33.3 ms per loop (mean ± std. dev. of 7 runs, 1 loop each)\n"
     ]
    }
   ],
   "source": [
    "%%timeit\n",
    "slow_integrate_vect(pos,vel,N_particles,mass,softening,tstep=0.01,total_time = 10)"
   ]
  },
  {
   "cell_type": "markdown",
   "metadata": {},
   "source": [
    "## What about parallelization?"
   ]
  },
  {
   "cell_type": "code",
   "execution_count": 27,
   "metadata": {},
   "outputs": [],
   "source": [
    "#particles = ic_random_uniform(2,[1,3],[1,3],[1,3])\n",
    "particles = ic_two_body(1,1,1,0)\n",
    "pos = particles.pos\n",
    "vel = particles.vel\n",
    "N_particles = len(particles)  \n",
    "N = N_particles  \n",
    "mass = particles.mass\n",
    "softening = 1e-3"
   ]
  },
  {
   "cell_type": "code",
   "execution_count": 28,
   "metadata": {},
   "outputs": [],
   "source": [
    "@njit(parallel=True)\n",
    "def parallel_acceleration_direct_fast(pos,mass,N,softening):\n",
    "    jerk = None\n",
    "    pot = None\n",
    "\n",
    "    # acc[i,:] ax,ay,az of particle i \n",
    "    #acc  = np.zeros([N,3])\n",
    "    acc = np.zeros_like(pos)\n",
    "\n",
    "    for i in prange(N-1):\n",
    "        for j in range(i+1,N):\n",
    "            # Compute relative acceleration given\n",
    "            # position of particle i and j\n",
    "            mass_1 = mass[i]\n",
    "            mass_2 = mass[j]\n",
    "\n",
    "            # Compute acceleration of particle i due to particle j\n",
    "            position_1=pos[i,:]\n",
    "            position_2=pos[j,:]\n",
    "            \n",
    "            # Cartesian component of the i,j particles distance\n",
    "            dx = position_1[0] - position_2[0]\n",
    "            dy = position_1[1] - position_2[1]\n",
    "            dz = position_1[2] - position_2[2]\n",
    "            \n",
    "\n",
    "            # Distance module\n",
    "            r = np.sqrt(dx**2 + dy**2 + dz**2)\n",
    "\n",
    "            # Cartesian component of the i,j force\n",
    "            acceleration = np.zeros(3)\n",
    "            acceleration[0] = -mass_2 * (5*softening**2 + 2*r**2) * dx / (2*(r**2 + softening**2)**(5/2))\n",
    "            acceleration[1] = -mass_2 * (5*softening**2 + 2*r**2) * dy / (2*(r**2 + softening**2)**(5/2))\n",
    "            acceleration[2] = -mass_2 * (5*softening**2 + 2*r**2) * dz / (2*(r**2 + softening**2)**(5/2))\n",
    "\n",
    "            # Update array with accelerations\n",
    "            acc[i,:] += acceleration\n",
    "            acc[j,:] -= mass_1 * acceleration / mass_2 # because acc_2nbody already multiply by m[j]\n",
    "        \n",
    "    return (acc,jerk,pot)\n"
   ]
  },
  {
   "cell_type": "markdown",
   "metadata": {},
   "source": [
    "Did it created a parallel version?"
   ]
  },
  {
   "cell_type": "code",
   "execution_count": 29,
   "metadata": {},
   "outputs": [
    {
     "name": "stdout",
     "output_type": "stream",
     "text": [
      " \n",
      "================================================================================\n",
      " Parallel Accelerator Optimizing:  Function parallel_acceleration_direct_fast, \n",
      "/tmp/ipykernel_18865/1531327574.py (1)  \n",
      "================================================================================\n",
      "\n",
      "\n",
      "Parallel loop listing for  Function parallel_acceleration_direct_fast, /tmp/ipykernel_18865/1531327574.py (1) \n",
      "----------------------------------------------------------------------------------------------------------------|loop #ID\n",
      "@njit(parallel=True)                                                                                            | \n",
      "def parallel_acceleration_direct_fast(pos,mass,N,softening):                                                    | \n",
      "    jerk = None                                                                                                 | \n",
      "    pot = None                                                                                                  | \n",
      "                                                                                                                | \n",
      "    # acc[i,:] ax,ay,az of particle i                                                                           | \n",
      "    #acc  = np.zeros([N,3])                                                                                     | \n",
      "    acc = np.zeros_like(pos)                                                                                    | \n",
      "                                                                                                                | \n",
      "    for i in prange(N-1):---------------------------------------------------------------------------------------| #4\n",
      "        for j in range(i+1,N):                                                                                  | \n",
      "            # Compute relative acceleration given                                                               | \n",
      "            # position of particle i and j                                                                      | \n",
      "            mass_1 = mass[i]                                                                                    | \n",
      "            mass_2 = mass[j]                                                                                    | \n",
      "                                                                                                                | \n",
      "            # Compute acceleration of particle i due to particle j                                              | \n",
      "            position_1=pos[i,:]                                                                                 | \n",
      "            position_2=pos[j,:]                                                                                 | \n",
      "                                                                                                                | \n",
      "            # Cartesian component of the i,j particles distance                                                 | \n",
      "            dx = position_1[0] - position_2[0]                                                                  | \n",
      "            dy = position_1[1] - position_2[1]                                                                  | \n",
      "            dz = position_1[2] - position_2[2]                                                                  | \n",
      "                                                                                                                | \n",
      "                                                                                                                | \n",
      "            # Distance module                                                                                   | \n",
      "            r = np.sqrt(dx**2 + dy**2 + dz**2)                                                                  | \n",
      "                                                                                                                | \n",
      "            # Cartesian component of the i,j force                                                              | \n",
      "            acceleration = np.zeros(3)--------------------------------------------------------------------------| #2\n",
      "            acceleration[0] = -mass_2 * (5*softening**2 + 2*r**2) * dx / (2*(r**2 + softening**2)**(5/2))       | \n",
      "            acceleration[1] = -mass_2 * (5*softening**2 + 2*r**2) * dy / (2*(r**2 + softening**2)**(5/2))       | \n",
      "            acceleration[2] = -mass_2 * (5*softening**2 + 2*r**2) * dz / (2*(r**2 + softening**2)**(5/2))       | \n",
      "                                                                                                                | \n",
      "            # Update array with accelerations                                                                   | \n",
      "            acc[i,:] += acceleration----------------------------------------------------------------------------| #0\n",
      "            acc[j,:] -= mass_1 * acceleration / mass_2 # because acc_2nbody already multiply by m[j]------------| #3, 1\n",
      "                                                                                                                | \n",
      "    return (acc,jerk,pot)                                                                                       | \n",
      "--------------------------------- Fusing loops ---------------------------------\n",
      "Attempting fusion of parallel loops (combines loops with similar properties)...\n",
      "Following the attempted fusion of parallel for-loops there are 1 parallel for-\n",
      "loop(s) (originating from loops labelled: #4).\n",
      "--------------------------------------------------------------------------------\n",
      "---------------------------- Optimising loop nests -----------------------------\n",
      "Attempting loop nest rewrites (optimising for the largest parallel loops)...\n",
      " \n",
      "+--4 is a parallel loop\n",
      "   +--0 --> rewritten as a serial loop\n",
      "   +--1 --> rewritten as a serial loop\n",
      "   +--2 --> rewritten as a serial loop\n",
      "   +--3 --> rewritten as a serial loop\n",
      "--------------------------------------------------------------------------------\n",
      "----------------------------- Before Optimisation ------------------------------\n",
      "Parallel region 0:\n",
      "+--4 (parallel)\n",
      "   +--0 (parallel)\n",
      "   +--1 (parallel)\n",
      "   +--2 (parallel)\n",
      "   +--3 (parallel)\n",
      "\n",
      "\n",
      "--------------------------------------------------------------------------------\n",
      "------------------------------ After Optimisation ------------------------------\n",
      "Parallel region 0:\n",
      "+--4 (parallel)\n",
      "   +--0 (serial)\n",
      "   +--1 (serial)\n",
      "   +--2 (serial)\n",
      "   +--3 (serial)\n",
      "\n",
      "\n",
      " \n",
      "Parallel region 0 (loop #4) had 0 loop(s) fused and 4 loop(s) serialized as part\n",
      " of the larger parallel loop (#4).\n",
      "--------------------------------------------------------------------------------\n",
      "--------------------------------------------------------------------------------\n",
      " \n",
      "---------------------------Loop invariant code motion---------------------------\n",
      "Allocation hoisting:\n",
      "The memory allocation derived from the instruction at \n",
      "/tmp/ipykernel_18865/1531327574.py (31) is hoisted out of the parallel loop \n",
      "labelled #4 (it will be performed before the loop is executed and reused inside \n",
      "the loop):\n",
      "    - numpy.empty() is used for the allocation.\n",
      "The memory allocation derived from the instruction at \n",
      "/tmp/ipykernel_18865/1531327574.py (38) is hoisted out of the parallel loop \n",
      "labelled #4 (it will be performed before the loop is executed and reused inside \n",
      "the loop):\n",
      "    - numpy.empty() is used for the allocation.\n"
     ]
    }
   ],
   "source": [
    "_,_,_ = parallel_acceleration_direct_fast(pos,mass,N_particles,softening)\n",
    "parallel_acceleration_direct_fast.parallel_diagnostics(level=3)"
   ]
  },
  {
   "cell_type": "markdown",
   "metadata": {},
   "source": [
    "Let's integrate"
   ]
  },
  {
   "cell_type": "code",
   "execution_count": 30,
   "metadata": {},
   "outputs": [],
   "source": [
    "@njit\n",
    "def parallel_integrate_fast(pos,vel,N_particles,mass,softening,tstep=0.01,total_time = 10):\n",
    "\n",
    "   acc_list = np.empty(0) # Numba can't determine the type of np.array([]) so we use np.empty(0)\n",
    "   pos_list = np.empty(0)\n",
    "   vel_list = np.empty(0)\n",
    "\n",
    "   #kinetic_list   = np.array([])\n",
    "   #potential_list = np.array([])\n",
    "   #energy_list    = np.array([])\n",
    "   \n",
    "   \n",
    "   for _ in range(int(total_time/tstep)):\n",
    "\n",
    "      acc, _, _ = parallel_acceleration_direct_fast(pos,mass,N_particles,softening)\n",
    "   \n",
    "      # Euler integration\n",
    "      vel = vel + acc * tstep  # Update vel\n",
    "      pos = pos + vel * tstep  # Update pos\n",
    "      \n",
    "\n",
    "      acc_list = np.append(acc_list, acc)\n",
    "      pos_list = np.append(pos_list, pos)\n",
    "      vel_list = np.append(vel_list, vel)\n",
    "\n",
    "      #kinetic_list   = np.append(kinetic_list, particles.Ekin())\n",
    "      #potential_list = np.append(potential_list, particles.Epot(softening=0.1))\n",
    "      #energy_list    = np.append(energy_list, particles.Etot(softening=0.1))\n",
    "\n",
    "   \n",
    "   acc_list = acc_list.reshape(int(total_time/tstep), N_particles, 3)\n",
    "   pos_list = pos_list.reshape(int(total_time/tstep), N_particles, 3)\n",
    "   vel_list = vel_list.reshape(int(total_time/tstep), N_particles, 3)\n",
    "   \n",
    "   return {\"acc_list\": acc_list, \"pos_list\": pos_list, \"vel_list\": vel_list}"
   ]
  },
  {
   "cell_type": "code",
   "execution_count": 31,
   "metadata": {},
   "outputs": [
    {
     "name": "stdout",
     "output_type": "stream",
     "text": [
      "The slowest run took 4.22 times longer than the fastest. This could mean that an intermediate result is being cached.\n",
      "279 ms ± 95.7 ms per loop (mean ± std. dev. of 7 runs, 1 loop each)\n"
     ]
    }
   ],
   "source": [
    "%%timeit\n",
    "parallel_integrate_fast(pos,vel,N_particles,mass,softening,tstep=0.01,total_time = 10)"
   ]
  },
  {
   "cell_type": "markdown",
   "metadata": {},
   "source": [
    "Are the results correct?"
   ]
  },
  {
   "cell_type": "code",
   "execution_count": 32,
   "metadata": {},
   "outputs": [
    {
     "data": {
      "text/plain": [
       "<matplotlib.collections.PathCollection at 0x7f14bef71240>"
      ]
     },
     "execution_count": 32,
     "metadata": {},
     "output_type": "execute_result"
    },
    {
     "data": {
      "image/png": "[encoded data removed]",
      "text/plain": [
       "<Figure size 640x480 with 1 Axes>"
      ]
     },
     "metadata": {},
     "output_type": "display_data"
    }
   ],
   "source": [
    "parallel_results = parallel_integrate_fast(pos,vel,N_particles,mass,softening,tstep=0.01,total_time = 10)\n",
    "\n",
    "plt.scatter(parallel_results[\"pos_list\"][:,0,0], parallel_results[\"pos_list\"][:,0,1],s=.6)\n",
    "plt.scatter(parallel_results[\"pos_list\"][:,1,0], parallel_results[\"pos_list\"][:,1,1],s=.6)"
   ]
  },
  {
   "cell_type": "markdown",
   "metadata": {},
   "source": [
    "If numpy is parallelized..."
   ]
  },
  {
   "cell_type": "code",
   "execution_count": 34,
   "metadata": {},
   "outputs": [],
   "source": [
    "@njit(parallel=True)\n",
    "def parallel_vect(pos,N_particles,mass):\n",
    "   \n",
    "    dx = pos[:, 0].copy().reshape(N_particles, 1) - pos[:, 0] #broadcasting of (N,) on (N,1) array, obtain distance along x in an (N,N) matrix\n",
    "    dy = pos[:, 1].copy().reshape(N_particles, 1) - pos[:, 1] \n",
    "    dz = pos[:, 2].copy().reshape(N_particles, 1) - pos[:, 2] \n",
    "      \n",
    "    r = np.sqrt(dx**2 + dy**2 + dz**2)\n",
    "    #r[r==0]=1 not supported on numba\n",
    "    r += np.eye(r.shape[0])\n",
    "    \n",
    "    dpos = np.concatenate((dx, dy, dz)).copy().reshape((3,N_particles,N_particles)) \n",
    "\n",
    "    acc = np.zeros((3,N_particles),dtype=np.float64)\n",
    "    np.sum((dpos/r**3 * mass),axis=2) #not supported on numba\n",
    "    \n",
    "\n",
    "    acc = -acc.T\n",
    "    jerk= None\n",
    "    pot = None\n",
    "\n",
    "    return acc, jerk, pot"
   ]
  },
  {
   "cell_type": "code",
   "execution_count": 35,
   "metadata": {},
   "outputs": [
    {
     "ename": "TypingError",
     "evalue": "Failed in nopython mode pipeline (step: native parfor lowering)\nFailed in full_parfor_gufunc mode pipeline (step: nopython frontend)\nNo implementation of function Function(<built-in function getitem>) found for signature:\n \n >>> getitem(array(float64, 2d, C), UniTuple(uint64 x 3))\n \nThere are 22 candidate implementations:\n  - Of which 20 did not match due to:\n  Overload of function 'getitem': File: <numerous>: Line N/A.\n    With argument(s): '(array(float64, 2d, C), UniTuple(uint64 x 3))':\n   No match.\n  - Of which 2 did not match due to:\n  Overload in function 'GetItemBuffer.generic': File: numba/core/typing/arraydecl.py: Line 209.\n    With argument(s): '(array(float64, 2d, C), UniTuple(uint64 x 3))':\n   Rejected as the implementation raised a specific error:\n     NumbaTypeError: cannot index array(float64, 2d, C) with 3 indices: UniTuple(uint64 x 3)\n  raised from /root/miniconda3/lib/python3.10/site-packages/numba/core/typing/arraydecl.py:131\n\nDuring: typing of intrinsic-call at /tmp/ipykernel_18865/1684905039.py (15)\n\nFile \"../../../../tmp/ipykernel_18865/1684905039.py\", line 15:\n<source missing, REPL/exec in use?>\n\nDuring: lowering \"id=10[LoopNest(index_variable = parfor_index.292, range = (0, $const204.102, 1)), LoopNest(index_variable = parfor_index.293, range = (0, pos_size0.179, 1)), LoopNest(index_variable = parfor_index.294, range = (0, pos_size0.179, 1))]{504: <ir.Block at /tmp/ipykernel_18865/1684905039.py (15)>}Var($parfor_index_tuple_var.300, 1684905039.py:15)\" at /tmp/ipykernel_18865/1684905039.py (15)",
     "output_type": "error",
     "traceback": [
      "\u001b[0;31m---------------------------------------------------------------------------\u001b[0m",
      "\u001b[0;31mTypingError\u001b[0m                               Traceback (most recent call last)",
      "\u001b[1;32m/ca23/ext_volume/project/numba/numba_test.ipynb Cella 43\u001b[0m line \u001b[0;36m1\n\u001b[0;32m----> <a href='vscode-notebook-cell://attached-container%2B7b22636f6e7461696e65724e616d65223a222f627573795f726f62696e736f6e222c2273657474696e6773223a7b22636f6e74657874223a226465736b746f702d6c696e7578227d7d/ca23/ext_volume/project/numba/numba_test.ipynb#Y224sdnNjb2RlLXJlbW90ZQ%3D%3D?line=0'>1</a>\u001b[0m parallel_vect(pos,N_particles,mass)\n",
      "File \u001b[0;32m~/miniconda3/lib/python3.10/site-packages/numba/core/dispatcher.py:468\u001b[0m, in \u001b[0;36m_DispatcherBase._compile_for_args\u001b[0;34m(self, *args, **kws)\u001b[0m\n\u001b[1;32m    464\u001b[0m         msg \u001b[39m=\u001b[39m (\u001b[39mf\u001b[39m\u001b[39m\"\u001b[39m\u001b[39m{\u001b[39;00m\u001b[39mstr\u001b[39m(e)\u001b[39m.\u001b[39mrstrip()\u001b[39m}\u001b[39;00m\u001b[39m \u001b[39m\u001b[39m\\n\u001b[39;00m\u001b[39m\\n\u001b[39;00m\u001b[39mThis error may have been caused \u001b[39m\u001b[39m\"\u001b[39m\n\u001b[1;32m    465\u001b[0m                \u001b[39mf\u001b[39m\u001b[39m\"\u001b[39m\u001b[39mby the following argument(s):\u001b[39m\u001b[39m\\n\u001b[39;00m\u001b[39m{\u001b[39;00margs_str\u001b[39m}\u001b[39;00m\u001b[39m\\n\u001b[39;00m\u001b[39m\"\u001b[39m)\n\u001b[1;32m    466\u001b[0m         e\u001b[39m.\u001b[39mpatch_message(msg)\n\u001b[0;32m--> 468\u001b[0m     error_rewrite(e, \u001b[39m'\u001b[39;49m\u001b[39mtyping\u001b[39;49m\u001b[39m'\u001b[39;49m)\n\u001b[1;32m    469\u001b[0m \u001b[39mexcept\u001b[39;00m errors\u001b[39m.\u001b[39mUnsupportedError \u001b[39mas\u001b[39;00m e:\n\u001b[1;32m    470\u001b[0m     \u001b[39m# Something unsupported is present in the user code, add help info\u001b[39;00m\n\u001b[1;32m    471\u001b[0m     error_rewrite(e, \u001b[39m'\u001b[39m\u001b[39munsupported_error\u001b[39m\u001b[39m'\u001b[39m)\n",
      "File \u001b[0;32m~/miniconda3/lib/python3.10/site-packages/numba/core/dispatcher.py:409\u001b[0m, in \u001b[0;36m_DispatcherBase._compile_for_args.<locals>.error_rewrite\u001b[0;34m(e, issue_type)\u001b[0m\n\u001b[1;32m    407\u001b[0m     \u001b[39mraise\u001b[39;00m e\n\u001b[1;32m    408\u001b[0m \u001b[39melse\u001b[39;00m:\n\u001b[0;32m--> 409\u001b[0m     \u001b[39mraise\u001b[39;00m e\u001b[39m.\u001b[39mwith_traceback(\u001b[39mNone\u001b[39;00m)\n",
      "\u001b[0;31mTypingError\u001b[0m: Failed in nopython mode pipeline (step: native parfor lowering)\nFailed in full_parfor_gufunc mode pipeline (step: nopython frontend)\nNo implementation of function Function(<built-in function getitem>) found for signature:\n \n >>> getitem(array(float64, 2d, C), UniTuple(uint64 x 3))\n \nThere are 22 candidate implementations:\n  - Of which 20 did not match due to:\n  Overload of function 'getitem': File: <numerous>: Line N/A.\n    With argument(s): '(array(float64, 2d, C), UniTuple(uint64 x 3))':\n   No match.\n  - Of which 2 did not match due to:\n  Overload in function 'GetItemBuffer.generic': File: numba/core/typing/arraydecl.py: Line 209.\n    With argument(s): '(array(float64, 2d, C), UniTuple(uint64 x 3))':\n   Rejected as the implementation raised a specific error:\n     NumbaTypeError: cannot index array(float64, 2d, C) with 3 indices: UniTuple(uint64 x 3)\n  raised from /root/miniconda3/lib/python3.10/site-packages/numba/core/typing/arraydecl.py:131\n\nDuring: typing of intrinsic-call at /tmp/ipykernel_18865/1684905039.py (15)\n\nFile \"../../../../tmp/ipykernel_18865/1684905039.py\", line 15:\n<source missing, REPL/exec in use?>\n\nDuring: lowering \"id=10[LoopNest(index_variable = parfor_index.292, range = (0, $const204.102, 1)), LoopNest(index_variable = parfor_index.293, range = (0, pos_size0.179, 1)), LoopNest(index_variable = parfor_index.294, range = (0, pos_size0.179, 1))]{504: <ir.Block at /tmp/ipykernel_18865/1684905039.py (15)>}Var($parfor_index_tuple_var.300, 1684905039.py:15)\" at /tmp/ipykernel_18865/1684905039.py (15)"
     ]
    }
   ],
   "source": [
    "parallel_vect(pos,N_particles,mass)"
   ]
  },
  {
   "cell_type": "code",
   "execution_count": null,
   "metadata": {},
   "outputs": [],
   "source": []
  },
  {
   "cell_type": "code",
   "execution_count": null,
   "metadata": {},
   "outputs": [],
   "source": [
    "@njit\n",
    "def parallel_integrate_vect(pos,vel,N_particles,mass,tstep=0.01,total_time = 10):\n",
    "\n",
    "   acc_list = np.empty(0) # Numba can't determine the type of np.array([]) so we use np.empty(0)\n",
    "   pos_list = np.empty(0)\n",
    "   vel_list = np.empty(0)\n",
    "\n",
    "   #kinetic_list   = np.array([])\n",
    "   #potential_list = np.array([])\n",
    "   #energy_list    = np.array([])\n",
    "   \n",
    "   \n",
    "   for _ in range(int(total_time/tstep)):\n",
    "\n",
    "      acc, _, _ = parallel_vect(pos,N_particles,mass)\n",
    "   \n",
    "      # Euler integration\n",
    "      vel = vel + acc * tstep  # Update vel\n",
    "      pos = pos + vel * tstep  # Update pos\n",
    "      \n",
    "\n",
    "      acc_list = np.append(acc_list, acc)\n",
    "      pos_list = np.append(pos_list, pos)\n",
    "      vel_list = np.append(vel_list, vel)\n",
    "\n",
    "      #kinetic_list   = np.append(kinetic_list, particles.Ekin())\n",
    "      #potential_list = np.append(potential_list, particles.Epot(softening=0.1))\n",
    "      #energy_list    = np.append(energy_list, particles.Etot(softening=0.1))\n",
    "\n",
    "   \n",
    "   acc_list = acc_list.copy().reshape(int(total_time/tstep), N_particles, 3)\n",
    "   pos_list = pos_list.copy().reshape(int(total_time/tstep), N_particles, 3)\n",
    "   vel_list = vel_list.copy().reshape(int(total_time/tstep), N_particles, 3)\n",
    "   # I checked and dictonary doesn't slow down the code\n",
    "   return {\"acc_list\": acc_list, \"pos_list\": pos_list, \"vel_list\": vel_list}"
   ]
  },
  {
   "cell_type": "code",
   "execution_count": null,
   "metadata": {},
   "outputs": [],
   "source": [
    "%%timeit\n",
    "parallel_integrate_vect(pos,vel,N_particles,mass,tstep=0.01,total_time = 10)"
   ]
  },
  {
   "cell_type": "markdown",
   "metadata": {},
   "source": [
    "Maybe with more particles..."
   ]
  },
  {
   "cell_type": "code",
   "execution_count": null,
   "metadata": {},
   "outputs": [],
   "source": []
  }
 ],
 "metadata": {
  "kernelspec": {
   "display_name": "base",
   "language": "python",
   "name": "python3"
  },
  "language_info": {
   "codemirror_mode": {
    "name": "ipython",
    "version": 3
   },
   "file_extension": ".py",
   "mimetype": "text/x-python",
   "name": "python",
   "nbconvert_exporter": "python",
   "pygments_lexer": "ipython3",
   "version": "3.10.12"
  }
 },
 "nbformat": 4,
 "nbformat_minor": 2
}
