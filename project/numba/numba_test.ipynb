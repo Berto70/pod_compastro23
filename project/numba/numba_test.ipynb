{
 "cells": [
  {
   "cell_type": "code",
   "execution_count": 1,
   "metadata": {},
   "outputs": [],
   "source": [
    "from fireworks.ic import ic_two_body as ic_two_body\n",
    "from fireworks.ic import ic_random_uniform as ic_random_uniform\n",
    "\n",
    "from fireworks.nbodylib import dynamics as dyn\n",
    "from fireworks.nbodylib import integrators as intg\n",
    "\n",
    "import matplotlib.pyplot as plt\n",
    "import numpy as np\n",
    "from typing import Optional, Tuple\n",
    "import numpy.typing as npt\n",
    "from fireworks.particles import Particles\n",
    "\n",
    "\n",
    "import numba\n",
    "from numba import prange, njit"
   ]
  },
  {
   "cell_type": "code",
   "execution_count": 2,
   "metadata": {},
   "outputs": [],
   "source": [
    "mass1 = 1.0\n",
    "mass2 = 1.0\n",
    "rp = 1.0\n",
    "e = 0.0\n",
    "\n",
    "particles = ic_two_body(mass1, mass2, rp, e)\n",
    "\n",
    "#particles = ic_random_uniform(100,[1,1],[1,10],[0,1])"
   ]
  },
  {
   "cell_type": "markdown",
   "metadata": {},
   "source": [
    "## NUMBA"
   ]
  },
  {
   "cell_type": "code",
   "execution_count": 3,
   "metadata": {},
   "outputs": [],
   "source": [
    "pos = particles.pos\n",
    "N_particles = len(particles)    \n",
    "mass = particles.mass\n",
    "softening = 1e-3"
   ]
  },
  {
   "cell_type": "code",
   "execution_count": 4,
   "metadata": {},
   "outputs": [],
   "source": [
    "@njit(parallel=True)\n",
    "def p_acc_compute(mass,position_1,position_2,softening,i,N):\n",
    "\n",
    "    \"\"\"\n",
    "    Fixing particle i, this computes the acceleration of particle i due to all the other particles\n",
    "    \"\"\"\n",
    "    acc_x = 0\n",
    "    acc_y = 0\n",
    "    acc_z = 0\n",
    "\n",
    "    # deleting prange(i+1,N) for parallization wouldn't compute correctly the ji part \n",
    "    for j in prange(N):\n",
    "        # Compute relative acceleration given\n",
    "        # position of particle i and j\n",
    "        mass_2 = mass[j]\n",
    "        # This may be split into x,y,z for parallelization\n",
    "        position_2=pos[j,:]\n",
    "    \n",
    "        # Cartesian component of the i,j particles distance\n",
    "        dx = position_1[0] - position_2[0]\n",
    "        dy = position_1[1] - position_2[1]\n",
    "        dz = position_1[2] - position_2[2]\n",
    "        \n",
    "\n",
    "        # Distance module\n",
    "        r = np.sqrt(dx**2 + dy**2 + dz**2)\n",
    "\n",
    "        # Cartesian component of the i,j acceleration\n",
    "        acceleration = np.zeros(3)\n",
    "        acceleration[0] = -mass_2 * (5*softening**2 + 2*r**2) * dx / (2*(r**2 + softening**2)**(5/2))\n",
    "        acceleration[1] = -mass_2 * (5*softening**2 + 2*r**2) * dy / (2*(r**2 + softening**2)**(5/2))\n",
    "        acceleration[2] = -mass_2 * (5*softening**2 + 2*r**2) * dz / (2*(r**2 + softening**2)**(5/2))\n",
    "\n",
    "        acc_x += acceleration[0]\n",
    "        acc_y += acceleration[1]\n",
    "        acc_z += acceleration[2]\n",
    "\n",
    "    \n",
    "    return acc_x,acc_y,acc_z\n"
   ]
  },
  {
   "cell_type": "code",
   "execution_count": 5,
   "metadata": {},
   "outputs": [],
   "source": [
    "@njit(parallel=True)\n",
    "def fast_acceleration_direct(pos,mass,N,softening):\n",
    "     \n",
    "    jerk = None\n",
    "    pot = None\n",
    "   \n",
    "    # acc[i,:] ax,ay,az of particle i \n",
    "    acc  = np.zeros((N,3))\n",
    "\n",
    "    # Fix particles i and paralelize over j, since I need the final matrix to be orderered by i\n",
    "    # ranging over all N, not removing the last particle, since parallization would make it hard to compute the ji part \n",
    "    # ie computing for all particles all other particles, without any sort of tricks to make less computations\n",
    "    for i in range(N):\n",
    "  \n",
    "        position_1=pos[i,:]\n",
    "        # paralellized acc computation\n",
    "        acc[i,:] = p_acc_compute(mass,position_1,pos,softening,i,N)\n",
    "                    \n",
    "    return (acc,jerk,pot)"
   ]
  },
  {
   "cell_type": "code",
   "execution_count": 7,
   "metadata": {},
   "outputs": [],
   "source": [
    "def acceleration_direct(particles: Particles, softening: float =0., softening_type: str = None, ) \\\n",
    "        -> Tuple[npt.NDArray[np.float64],Optional[npt.NDArray[np.float64]],Optional[npt.NDArray[np.float64]]]:\n",
    "    \n",
    "    def acc_2body_Dehnen_softening(position_1,position_2,mass_2, softening):\n",
    "        \n",
    "        \"\"\"\n",
    "        Implements definition of acceleration for two bodies i,j with Dehnen softening\n",
    "        \n",
    "        This is used in the following for loop\n",
    "        \"\"\"\n",
    "        # Cartesian component of the i,j particles distance\n",
    "        dx = position_1[0] - position_2[0]\n",
    "        dy = position_1[1] - position_2[1]\n",
    "        dz = position_1[2] - position_2[2]\n",
    "        \n",
    "\n",
    "        # Distance module\n",
    "        r = np.sqrt(dx**2 + dy**2 + dz**2)\n",
    "\n",
    "        # Cartesian component of the i,j force\n",
    "        acceleration = np.zeros(3)\n",
    "        acceleration[0] = -mass_2 * (5*softening**2 + 2*r**2) * dx / (2*(r**2 + softening**2)**(5/2))\n",
    "        acceleration[1] = -mass_2 * (5*softening**2 + 2*r**2) * dy / (2*(r**2 + softening**2)**(5/2))\n",
    "        acceleration[2] = -mass_2 * (5*softening**2 + 2*r**2) * dz / (2*(r**2 + softening**2)**(5/2))\n",
    "\n",
    "        return acceleration\n",
    "        \n",
    "    jerk = None\n",
    "    pot = None\n",
    "\n",
    "    pos  = particles.pos\n",
    "    mass = particles.mass\n",
    "    N    = len(particles) \n",
    "\n",
    "    # acc[i,:] ax,ay,az of particle i \n",
    "    acc  = np.zeros([N,3])\n",
    "\n",
    "    for i in range(N-1):\n",
    "        for j in range(i+1,N):\n",
    "            # Compute relative acceleration given\n",
    "            # position of particle i and j\n",
    "            mass_1 = mass[i]\n",
    "            mass_2 = mass[j]\n",
    "            acc_ij = acc_2body_Dehnen_softening(position_1=pos[i,:],position_2=pos[j,:],mass_2=mass_2, softening=softening)\n",
    "                \n",
    "            # Update array with accelerations\n",
    "            acc[i,:] += acc_ij\n",
    "            acc[j,:] -= mass_1 * acc_ij / mass_2 # because acc_2nbody already multiply by m[j]\n",
    "        \n",
    "    return (acc,jerk,pot)\n",
    "\n"
   ]
  },
  {
   "cell_type": "code",
   "execution_count": 8,
   "metadata": {},
   "outputs": [],
   "source": [
    "# check if the results are the same\n",
    "std_acc = acceleration_direct(particles, softening,  \"Dehnen\")\n"
   ]
  },
  {
   "cell_type": "code",
   "execution_count": 9,
   "metadata": {},
   "outputs": [],
   "source": [
    "fast_acc = fast_acceleration_direct(pos,mass,N_particles,softening)"
   ]
  },
  {
   "cell_type": "code",
   "execution_count": 10,
   "metadata": {},
   "outputs": [
    {
     "name": "stdout",
     "output_type": "stream",
     "text": [
      "Do they give the same result? True\n"
     ]
    }
   ],
   "source": [
    "print(\"Do they give the same result?\",np.allclose(std_acc[0], fast_acc[0]))"
   ]
  },
  {
   "cell_type": "code",
   "execution_count": 11,
   "metadata": {},
   "outputs": [
    {
     "name": "stdout",
     "output_type": "stream",
     "text": [
      "86.6 µs ± 15.3 µs per loop (mean ± std. dev. of 7 runs, 10,000 loops each)\n"
     ]
    }
   ],
   "source": [
    "%%timeit\n",
    "acceleration_direct(particles, softening,  \"Dehnen\")"
   ]
  },
  {
   "cell_type": "code",
   "execution_count": 12,
   "metadata": {},
   "outputs": [
    {
     "name": "stdout",
     "output_type": "stream",
     "text": [
      "The slowest run took 4.02 times longer than the fastest. This could mean that an intermediate result is being cached.\n",
      "5.97 ms ± 3.36 ms per loop (mean ± std. dev. of 7 runs, 1,000 loops each)\n"
     ]
    }
   ],
   "source": [
    "%%timeit\n",
    "fast_acceleration_direct(pos,mass,N_particles,softening)"
   ]
  },
  {
   "cell_type": "markdown",
   "metadata": {},
   "source": [
    "# Make it faster"
   ]
  },
  {
   "cell_type": "code",
   "execution_count": 13,
   "metadata": {},
   "outputs": [],
   "source": [
    "@njit(parallel=True,fastmath=True)\n",
    "def acc_2body_Dehnen_softening(position_1,position_2,mass_2, softening):\n",
    "        \n",
    "        \"\"\"\n",
    "        Implements definition of acceleration for two bodies i,j with Dehnen softening\n",
    "        \n",
    "        This is used in the following for loop\n",
    "        \"\"\"\n",
    "        # Cartesian component of the i,j particles distance\n",
    "        dx = position_1[0] - position_2[0]\n",
    "        dy = position_1[1] - position_2[1]\n",
    "        dz = position_1[2] - position_2[2]\n",
    "        \n",
    "\n",
    "        # Distance module\n",
    "        r = np.sqrt(dx**2 + dy**2 + dz**2)\n",
    "\n",
    "        # Cartesian component of the i,j force\n",
    "        acceleration = np.zeros(3)\n",
    "        acceleration[0] = -mass_2 * (5*softening**2 + 2*r**2) * dx / (2*(r**2 + softening**2)**(5/2))\n",
    "        acceleration[1] = -mass_2 * (5*softening**2 + 2*r**2) * dy / (2*(r**2 + softening**2)**(5/2))\n",
    "        acceleration[2] = -mass_2 * (5*softening**2 + 2*r**2) * dz / (2*(r**2 + softening**2)**(5/2))\n",
    "\n",
    "        return acceleration"
   ]
  },
  {
   "cell_type": "code",
   "execution_count": 21,
   "metadata": {},
   "outputs": [],
   "source": [
    "@njit(parallel=True,fastmath=True)\n",
    "def compute_acc_parallel(N, pos, mass, softening):\n",
    "    acc = np.zeros((N, 3))  # Initialize acceleration array\n",
    "    for i in prange(N-1):\n",
    "        for j in prange(i+1, N):\n",
    "            mass_i = mass[i]\n",
    "            mass_j = mass[j]\n",
    "            #acc_ij = acc_2body_Dehnen_softening(pos[i], pos[j], mass_j, softening)\n",
    "            # Cartesian component of the i,j particles distance\n",
    "            position_1 = pos[i]\n",
    "            position_2 = pos[j] \n",
    "            mass_2 = mass[j]\n",
    "            dx = position_1[0] - position_2[0]\n",
    "            dy = position_1[1] - position_2[1]\n",
    "            dz = position_1[2] - position_2[2]\n",
    "            \n",
    "\n",
    "            # Distance module\n",
    "            r = np.sqrt(dx**2 + dy**2 + dz**2)\n",
    "\n",
    "            # Cartesian component of the i,j force\n",
    "            acceleration = np.zeros(3)\n",
    "            acceleration[0] = -mass_2 * (5*softening**2 + 2*r**2) * dx / (2*(r**2 + softening**2)**(5/2))\n",
    "            acceleration[1] = -mass_2 * (5*softening**2 + 2*r**2) * dy / (2*(r**2 + softening**2)**(5/2))\n",
    "            acceleration[2] = -mass_2 * (5*softening**2 + 2*r**2) * dz / (2*(r**2 + softening**2)**(5/2))\n",
    "            acc_ij = acceleration\n",
    "            acc[i] += acc_ij\n",
    "            # Data dependency could slow down the parallelization\n",
    "            acc[j] -= mass_i * acc_ij / mass_j\n",
    "    return acc\n",
    "\n",
    "\n",
    "acc = compute_acc_parallel(N_particles, pos, mass, softening)\n"
   ]
  },
  {
   "cell_type": "code",
   "execution_count": 22,
   "metadata": {},
   "outputs": [
    {
     "name": "stdout",
     "output_type": "stream",
     "text": [
      " \n",
      "================================================================================\n",
      " Parallel Accelerator Optimizing:  Function compute_acc_parallel, \n",
      "/tmp/ipykernel_807/1387894056.py (1)  \n",
      "================================================================================\n",
      "\n",
      "\n",
      "Parallel loop listing for  Function compute_acc_parallel, /tmp/ipykernel_807/1387894056.py (1) \n",
      "-------------------------------------------------------------------------------------------------------------|loop #ID\n",
      "@njit(parallel=True,fastmath=True)                                                                           | \n",
      "def compute_acc_parallel(N, pos, mass, softening):                                                           | \n",
      "    acc = np.zeros((N, 3))  # Initialize acceleration array--------------------------------------------------| #8\n",
      "    for i in prange(N-1):------------------------------------------------------------------------------------| #12\n",
      "        for j in prange(i+1, N):-----------------------------------------------------------------------------| #11\n",
      "            mass_i = mass[i]                                                                                 | \n",
      "            mass_j = mass[j]                                                                                 | \n",
      "            #acc_ij = acc_2body_Dehnen_softening(pos[i], pos[j], mass_j, softening)                          | \n",
      "            # Cartesian component of the i,j particles distance                                              | \n",
      "            position_1 = pos[i]                                                                              | \n",
      "            position_2 = pos[j]                                                                              | \n",
      "            mass_2 = mass[j]                                                                                 | \n",
      "            dx = position_1[0] - position_2[0]                                                               | \n",
      "            dy = position_1[1] - position_2[1]                                                               | \n",
      "            dz = position_1[2] - position_2[2]                                                               | \n",
      "                                                                                                             | \n",
      "                                                                                                             | \n",
      "            # Distance module                                                                                | \n",
      "            r = np.sqrt(dx**2 + dy**2 + dz**2)                                                               | \n",
      "                                                                                                             | \n",
      "            # Cartesian component of the i,j force                                                           | \n",
      "            acceleration = np.zeros(3)-----------------------------------------------------------------------| #9\n",
      "            acceleration[0] = -mass_2 * (5*softening**2 + 2*r**2) * dx / (2*(r**2 + softening**2)**(5/2))    | \n",
      "            acceleration[1] = -mass_2 * (5*softening**2 + 2*r**2) * dy / (2*(r**2 + softening**2)**(5/2))    | \n",
      "            acceleration[2] = -mass_2 * (5*softening**2 + 2*r**2) * dz / (2*(r**2 + softening**2)**(5/2))    | \n",
      "            acc_ij = acceleration                                                                            | \n",
      "            acc[i] += acc_ij                                                                                 | \n",
      "            acc[j] -= mass_i * acc_ij / mass_j---------------------------------------------------------------| #10\n",
      "    return acc                                                                                               | \n",
      "------------------------------ After Optimisation ------------------------------\n",
      "Parallel region 0:\n",
      "+--12 (parallel)\n",
      "   +--11 (serial)\n",
      "      +--9 (serial)\n",
      "      +--10 (serial)\n",
      "\n",
      "\n",
      " \n",
      "Parallel region 0 (loop #12) had 0 loop(s) fused and 3 loop(s) serialized as \n",
      "part of the larger parallel loop (#12).\n",
      "--------------------------------------------------------------------------------\n",
      "--------------------------------------------------------------------------------\n",
      " \n"
     ]
    }
   ],
   "source": [
    "compute_acc_parallel.parallel_diagnostics()"
   ]
  },
  {
   "cell_type": "code",
   "execution_count": 16,
   "metadata": {},
   "outputs": [
    {
     "name": "stdout",
     "output_type": "stream",
     "text": [
      " \n",
      "================================================================================\n",
      " Parallel Accelerator Optimizing:  Function fast_acceleration_direct, \n",
      "/tmp/ipykernel_807/3704591935.py (1)  \n",
      "================================================================================\n",
      "\n",
      "\n",
      "Parallel loop listing for  Function fast_acceleration_direct, /tmp/ipykernel_807/3704591935.py (1) \n",
      "----------------------------------------------------------------------------------------------------------------------------|loop #ID\n",
      "@njit(parallel=True)                                                                                                        | \n",
      "def fast_acceleration_direct(pos,mass,N,softening):                                                                         | \n",
      "                                                                                                                            | \n",
      "    jerk = None                                                                                                             | \n",
      "    pot = None                                                                                                              | \n",
      "                                                                                                                            | \n",
      "    # acc[i,:] ax,ay,az of particle i                                                                                       | \n",
      "    acc  = np.zeros((N,3))--------------------------------------------------------------------------------------------------| #2\n",
      "                                                                                                                            | \n",
      "    # Fix particles i and paralelize over j, since I need the final matrix to be orderered by i                             | \n",
      "    # ranging over all N, not removing the last particle, since parallization would make it hard to compute the ji part     | \n",
      "    # ie computing for all particles all other particles, without any sort of tricks to make less computations              | \n",
      "    for i in range(N):                                                                                                      | \n",
      "                                                                                                                            | \n",
      "        position_1=pos[i,:]                                                                                                 | \n",
      "        # paralellized acc computation                                                                                      | \n",
      "        acc[i,:] = p_acc_compute(mass,position_1,pos,softening,i,N)                                                         | \n",
      "                                                                                                                            | \n",
      "    return (acc,jerk,pot)                                                                                                   | \n",
      "------------------------------ After Optimisation ------------------------------\n",
      "Parallel structure is already optimal.\n",
      "--------------------------------------------------------------------------------\n",
      "--------------------------------------------------------------------------------\n",
      " \n"
     ]
    }
   ],
   "source": [
    "fast_acceleration_direct.parallel_diagnostics()"
   ]
  },
  {
   "cell_type": "code",
   "execution_count": 17,
   "metadata": {},
   "outputs": [
    {
     "name": "stdout",
     "output_type": "stream",
     "text": [
      "Do they give the same result? True\n"
     ]
    }
   ],
   "source": [
    "print(\"Do they give the same result?\",np.allclose(std_acc[0], acc))"
   ]
  },
  {
   "cell_type": "code",
   "execution_count": 23,
   "metadata": {},
   "outputs": [
    {
     "name": "stdout",
     "output_type": "stream",
     "text": [
      "2.15 ms ± 848 µs per loop (mean ± std. dev. of 7 runs, 1,000 loops each)\n"
     ]
    }
   ],
   "source": [
    "%%timeit\n",
    "compute_acc_parallel(N_particles, pos, mass, softening)"
   ]
  },
  {
   "cell_type": "code",
   "execution_count": 19,
   "metadata": {},
   "outputs": [
    {
     "name": "stdout",
     "output_type": "stream",
     "text": [
      "6.69 ms ± 348 µs per loop (mean ± std. dev. of 7 runs, 100 loops each)\n"
     ]
    }
   ],
   "source": [
    "%%timeit\n",
    "fast_acceleration_direct(pos,mass,N_particles,softening)"
   ]
  },
  {
   "cell_type": "code",
   "execution_count": 20,
   "metadata": {},
   "outputs": [
    {
     "name": "stdout",
     "output_type": "stream",
     "text": [
      "50.5 µs ± 10.9 µs per loop (mean ± std. dev. of 7 runs, 10,000 loops each)\n"
     ]
    }
   ],
   "source": [
    "%%timeit\n",
    "acceleration_direct(particles, softening,  \"Dehnen\")"
   ]
  }
 ],
 "metadata": {
  "kernelspec": {
   "display_name": "base",
   "language": "python",
   "name": "python3"
  },
  "language_info": {
   "codemirror_mode": {
    "name": "ipython",
    "version": 3
   },
   "file_extension": ".py",
   "mimetype": "text/x-python",
   "name": "python",
   "nbconvert_exporter": "python",
   "pygments_lexer": "ipython3",
   "version": "3.10.12"
  }
 },
 "nbformat": 4,
 "nbformat_minor": 2
}
