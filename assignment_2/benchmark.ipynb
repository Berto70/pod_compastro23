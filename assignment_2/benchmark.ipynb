{
 "cells": [
  {
   "cell_type": "code",
   "execution_count": 2,
   "metadata": {},
   "outputs": [
    {
     "ename": "KeyboardInterrupt",
     "evalue": "",
     "output_type": "error",
     "traceback": [
      "\u001b[0;31m---------------------------------------------------------------------------\u001b[0m",
      "\u001b[0;31mKeyboardInterrupt\u001b[0m                         Traceback (most recent call last)",
      "\u001b[1;32m/ca23/ext_volume/pod_compastro23/assignment_2/benchmark.ipynb Cell 1\u001b[0m line \u001b[0;36m2\n\u001b[1;32m     <a href='vscode-notebook-cell://attached-container%2B7b22636f6e7461696e65724e616d65223a222f636f6d705f617374726f7068227d/ca23/ext_volume/pod_compastro23/assignment_2/benchmark.ipynb#W0sdnNjb2RlLXJlbW90ZQ%3D%3D?line=24'>25</a>\u001b[0m \u001b[39m# Measure the computational time for fdyn.acceleration_direct\u001b[39;00m\n\u001b[1;32m     <a href='vscode-notebook-cell://attached-container%2B7b22636f6e7461696e65724e616d65223a222f636f6d705f617374726f7068227d/ca23/ext_volume/pod_compastro23/assignment_2/benchmark.ipynb#W0sdnNjb2RlLXJlbW90ZQ%3D%3D?line=25'>26</a>\u001b[0m start_time \u001b[39m=\u001b[39m time\u001b[39m.\u001b[39mtime()\n\u001b[0;32m---> <a href='vscode-notebook-cell://attached-container%2B7b22636f6e7461696e65724e616d65223a222f636f6d705f617374726f7068227d/ca23/ext_volume/pod_compastro23/assignment_2/benchmark.ipynb#W0sdnNjb2RlLXJlbW90ZQ%3D%3D?line=26'>27</a>\u001b[0m fdyn\u001b[39m.\u001b[39;49macceleration_direct(particles)\n\u001b[1;32m     <a href='vscode-notebook-cell://attached-container%2B7b22636f6e7461696e65724e616d65223a222f636f6d705f617374726f7068227d/ca23/ext_volume/pod_compastro23/assignment_2/benchmark.ipynb#W0sdnNjb2RlLXJlbW90ZQ%3D%3D?line=27'>28</a>\u001b[0m end_time \u001b[39m=\u001b[39m time\u001b[39m.\u001b[39mtime()\n\u001b[1;32m     <a href='vscode-notebook-cell://attached-container%2B7b22636f6e7461696e65724e616d65223a222f636f6d705f617374726f7068227d/ca23/ext_volume/pod_compastro23/assignment_2/benchmark.ipynb#W0sdnNjb2RlLXJlbW90ZQ%3D%3D?line=28'>29</a>\u001b[0m time_direct\u001b[39m.\u001b[39mappend(end_time \u001b[39m-\u001b[39m start_time)\n",
      "File \u001b[0;32m~/miniconda3/lib/python3.10/site-packages/fireworks/nbodylib/dynamics.py:85\u001b[0m, in \u001b[0;36macceleration_direct\u001b[0;34m(particles, softening, jerk_bool, pot_bool)\u001b[0m\n\u001b[1;32m     81\u001b[0m r \u001b[39m=\u001b[39m np\u001b[39m.\u001b[39msqrt(dr[\u001b[39m0\u001b[39m]\u001b[39m*\u001b[39m\u001b[39m*\u001b[39m\u001b[39m2\u001b[39m \u001b[39m+\u001b[39m dr[\u001b[39m1\u001b[39m]\u001b[39m*\u001b[39m\u001b[39m*\u001b[39m\u001b[39m2\u001b[39m \u001b[39m+\u001b[39m dr[\u001b[39m2\u001b[39m]\u001b[39m*\u001b[39m\u001b[39m*\u001b[39m\u001b[39m2\u001b[39m)\n\u001b[1;32m     83\u001b[0m acc[i] \u001b[39m-\u001b[39m\u001b[39m=\u001b[39m particles\u001b[39m.\u001b[39mmass[j]\u001b[39m*\u001b[39mdr\u001b[39m/\u001b[39mr\u001b[39m*\u001b[39m\u001b[39m*\u001b[39m\u001b[39m3\u001b[39m\n\u001b[0;32m---> 85\u001b[0m \u001b[39mif\u001b[39;00m jerk_bool:\n\u001b[1;32m     86\u001b[0m     dv \u001b[39m=\u001b[39m particles\u001b[39m.\u001b[39mvel[i] \u001b[39m-\u001b[39m particles\u001b[39m.\u001b[39mvel[j]\n\u001b[1;32m     87\u001b[0m     jerk[i] \u001b[39m-\u001b[39m\u001b[39m=\u001b[39m particles\u001b[39m.\u001b[39mmass[j]\u001b[39m*\u001b[39m(dv\u001b[39m/\u001b[39mr\u001b[39m*\u001b[39m\u001b[39m*\u001b[39m\u001b[39m3\u001b[39m \u001b[39m-\u001b[39m \u001b[39m3\u001b[39m\u001b[39m*\u001b[39mnp\u001b[39m.\u001b[39mdot(dr, dv)\u001b[39m*\u001b[39mdr\u001b[39m/\u001b[39mr\u001b[39m*\u001b[39m\u001b[39m*\u001b[39m\u001b[39m5\u001b[39m)\n",
      "\u001b[0;31mKeyboardInterrupt\u001b[0m: "
     ]
    }
   ],
   "source": [
    "import matplotlib.pyplot as plt\n",
    "import numpy as np\n",
    "import time \n",
    "import fireworks.nbodylib.dynamics as fdyn\n",
    "import fireworks.ic as fic\n",
    "\n",
    "# Create empty lists to store the computational time for each function\n",
    "time_pyfalcon = []\n",
    "time_direct = []\n",
    "time_direct_vectorised = []\n",
    "\n",
    "# Create a list of values of N from 2 to 5000\n",
    "N_values = list(range(2, 5001))\n",
    "\n",
    "for N in N_values:\n",
    "    # Create a random set of initial conditions for the particles\n",
    "    particles = fic.ic_random_uniform(N=N, mass = [0.1, 100.], pos = [-250., 250.], vel = [-100., 100.])\n",
    "    \n",
    "    # Measure the computational time for fdyn.acceleration_pyfalcon\n",
    "    start_time = time.time()\n",
    "    fdyn.acceleration_pyfalcon(particles)\n",
    "    end_time = time.time()\n",
    "    time_pyfalcon.append(end_time - start_time)\n",
    "    \n",
    "    # Measure the computational time for fdyn.acceleration_direct\n",
    "    start_time = time.time()\n",
    "    fdyn.acceleration_direct(particles)\n",
    "    end_time = time.time()\n",
    "    time_direct.append(end_time - start_time)\n",
    "    \n",
    "    # Measure the computational time for fdyn.acceleration_direct_vectorised\n",
    "    start_time = time.time()\n",
    "    fdyn.acceleration_direct_vectorised(particles)\n",
    "    end_time = time.time()\n",
    "    time_direct_vectorised.append(end_time - start_time)\n",
    "\n",
    "# Plot the results\n",
    "plt.plot(N_values, time_pyfalcon, label='fdyn.acceleration_pyfalcon')\n",
    "plt.plot(N_values, time_direct, label='fdyn.acceleration_direct')\n",
    "plt.plot(N_values, time_direct_vectorised, label='fdyn.acceleration_direct_vectorised')\n",
    "plt.xlabel('N')\n",
    "plt.ylabel('Computational time (s)')\n",
    "plt.legend()\n",
    "plt.show()"
   ]
  }
 ],
 "metadata": {
  "kernelspec": {
   "display_name": "base",
   "language": "python",
   "name": "python3"
  },
  "language_info": {
   "codemirror_mode": {
    "name": "ipython",
    "version": 3
   },
   "file_extension": ".py",
   "mimetype": "text/x-python",
   "name": "python",
   "nbconvert_exporter": "python",
   "pygments_lexer": "ipython3",
   "version": "3.10.12"
  }
 },
 "nbformat": 4,
 "nbformat_minor": 2
}
