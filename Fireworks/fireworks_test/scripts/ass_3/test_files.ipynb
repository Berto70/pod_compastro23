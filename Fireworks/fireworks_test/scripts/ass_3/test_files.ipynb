{
 "cells": [
  {
   "cell_type": "code",
   "execution_count": 2,
   "metadata": {},
   "outputs": [],
   "source": [
    "import numpy as np"
   ]
  },
  {
   "cell_type": "code",
   "execution_count": 3,
   "metadata": {},
   "outputs": [],
   "source": [
    "data = np.load('/ca23/ext_volume/pod_compastro23/Fireworks/fireworks_test/data/ass_3/data_tusnami_e0.00.npz', allow_pickle=True)\n",
    "# data_000001 = data['0.00001']\n",
    "# data_00001 = data['0.0001']\n",
    "# data_0001 = data['0.001']"
   ]
  },
  {
   "cell_type": "code",
   "execution_count": 4,
   "metadata": {},
   "outputs": [
    {
     "data": {
      "text/plain": [
       "NpzFile '/ca23/ext_volume/pod_compastro23/Fireworks/fireworks_test/data/ass_3/data_tusnami_e0.00.npz' with keys: 1e-05, 0.0001, 0.001"
      ]
     },
     "execution_count": 4,
     "metadata": {},
     "output_type": "execute_result"
    }
   ],
   "source": [
    "data"
   ]
  },
  {
   "cell_type": "code",
   "execution_count": 5,
   "metadata": {},
   "outputs": [],
   "source": [
    "data_000001 = data['1e-05']\n",
    "data_00001 = data['0.0001']\n",
    "data_0001 = data['0.001']"
   ]
  },
  {
   "cell_type": "code",
   "execution_count": 7,
   "metadata": {},
   "outputs": [
    {
     "name": "stdout",
     "output_type": "stream",
     "text": [
      "(1986917, 6)\n",
      "(198691, 6)\n",
      "(19869, 6)\n"
     ]
    }
   ],
   "source": [
    "print(data_000001.shape)\n",
    "print(data_00001.shape)\n",
    "print(data_0001.shape)"
   ]
  },
  {
   "cell_type": "code",
   "execution_count": null,
   "metadata": {},
   "outputs": [],
   "source": []
  }
 ],
 "metadata": {
  "kernelspec": {
   "display_name": "base",
   "language": "python",
   "name": "python3"
  },
  "language_info": {
   "codemirror_mode": {
    "name": "ipython",
    "version": 3
   },
   "file_extension": ".py",
   "mimetype": "text/x-python",
   "name": "python",
   "nbconvert_exporter": "python",
   "pygments_lexer": "ipython3",
   "version": "3.10.12"
  }
 },
 "nbformat": 4,
 "nbformat_minor": 2
}
