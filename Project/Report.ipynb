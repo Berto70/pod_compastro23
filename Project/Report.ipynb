{
 "cells": [
  {
   "cell_type": "markdown",
   "id": "c3dea028-d9db-4f51-b4c2-84d74bd520d4",
   "metadata": {},
   "source": [
    "<center>\n",
    "    <img src=\"Images/0.0/Delta_r_tidal_5000_InitialPos_10_e_0.0.png\" />\n",
    "</center>"
   ]
  },
  {
   "cell_type": "code",
   "execution_count": null,
   "id": "35dec438-e870-4dbf-b807-2fc21f212418",
   "metadata": {},
   "outputs": [],
   "source": []
  }
 ],
 "metadata": {
  "kernelspec": {
   "display_name": "Python 3 (ipykernel)",
   "language": "python",
   "name": "python3"
  },
  "language_info": {
   "codemirror_mode": {
    "name": "ipython",
    "version": 3
   },
   "file_extension": ".py",
   "mimetype": "text/x-python",
   "name": "python",
   "nbconvert_exporter": "python",
   "pygments_lexer": "ipython3",
   "version": "3.10.12"
  }
 },
 "nbformat": 4,
 "nbformat_minor": 5
}
