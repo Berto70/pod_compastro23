{
 "cells": [
  {
   "cell_type": "markdown",
   "id": "dd633679",
   "metadata": {},
   "source": [
    "# Computational Astrophysics 23-24\n",
    "## Project track: Collisionless N-body simulations \n",
    "### Project-3: Tidal disruptions of a Plummer model "
   ]
  },
  {
   "cell_type": "markdown",
   "id": "41ab1349",
   "metadata": {},
   "source": [
    "## I Miloncini \n",
    "\n",
    "| Last Name | First Name | Student Number |\n",
    "|-----------|------------|----------------|\n",
    "|Bertinelli |Gabriele    |2103359         |\n",
    "|Bonato     |Diego       |2091250         |\n",
    "|Di Prima   |Giacomo     |2086992         |\n",
    "|Viterbo    |Giuseppe    |2086516         |\n"
   ]
  },
  {
   "cell_type": "markdown",
   "id": "99cf5dea",
   "metadata": {},
   "source": [
    "# Part 2 - Data Analysis"
   ]
  },
  {
   "cell_type": "markdown",
   "id": "4f5e1f04",
   "metadata": {},
   "source": [
    "## The N-body Problem\n",
    "\n",
    "The N-body problem refers to the challenge of predicting the movement of a collection of celestial bodies that are gravitationally interacting. This issue holds significant relevance in the field of astrophysics due to its wide application across various astrophysical contexts and scales.\\\n",
    "The N-body problem is an extension of Newton's law of universal gravitation problem.\n",
    "<!-- two bodies with mass $m_1$ and $m_2$ at a distance $\\vec{r}_{12}$ from each other are subjected to a mutual force\n",
    "$$\n",
    "\\begin{equation*}\n",
    "    \\vec{F}_{1,2} = m_1 \\vec{a}_1 = - G \\frac{m_1 m_2}{r_{12}^2} \\frac{ \\vec{r}_{12} }{ r_{12} } .\n",
    "\\end{equation*}\n",
    "$$\n",
    "Then, extending this to a system of N-body, -->\n",
    "The acceleration of the body $i$ due to all the other bodies $j$ is expressed by\n",
    "$$\n",
    "\\begin{equation*}\n",
    "    \\frac{ d^2 \\vec{x}_i } {dt^2} = - G \\sum^N_{j=1, j\\neq i} m_j \\frac{ \\vec{x}_i - \\vec{x}_j }{ | \\vec{x}_i - \\vec{x}_j |^3  } .\n",
    "\\end{equation*}\n",
    "$$\n",
    "  \n",
    "Each N-body system possesses six constants of motion, comprising the position and velocity of the center of mass, along with four integrals of motion encompassing energy and the three components of angular momentum. \n",
    "\n",
    "While an analytic solution exists for N=2, extending it to a general N-body system remains elusive. Adding just a third particle increases the unknowns to 18, necessitating constraints for an analytic solution, which is only feasible for specific cases like the circular restricted three-body problem.  \n",
    "Numerical methods are indispensable for integrating the system's differential equations. Notably, the problem's numerical complexity scales at O(N^2), posing a significant hurdle in system modeling due to rapid growth with increasing N."
   ]
  },
  {
   "cell_type": "markdown",
   "id": "0cb00b2d",
   "metadata": {},
   "source": [
    "### N-body Units\n",
    "\n",
    "N-body units offer a practical framework for N-body simulations, simplifying calculations by setting $G=1$. Conversion to physical units can be done retroactively, incorporating typical values relevant to the astrophysical system under study. However, this approach becomes inadequate when incorporating data on stars' physical parameters, stellar evolution, supernova explosions, etc. Nonetheless, treating stars as point masses allows for exploiting the scale invariance of N-body simulations.  \n",
    "\n",
    "### Henon Units\n",
    "Additionally, Henon Units provide another set of normalized units used in N-body simulations.  \n",
    "In Henon Units, several fundamental physical quantities are set to unity, simplifying the equations of motion and standardizing the numerical treatment of N-body systems. \n",
    "- $G=1$: this simplifies the gravitational force equation, as the force between two masses is directly proportional to their product.\n",
    "\n",
    "- The total mass of the N-body system is also set to 1: this normalization simplifies mass-related calculations and eliminates the need to account for varying masses across different bodies.\n",
    "\n",
    "- With this scaling the total energy of the system is set to $-0.25$: this normalization allows for straightforward comparison of energy-related quantities and ensures consistency across simulations. Specifically, the kinetic energy is set to $0.25$ and the potential energy to $-0.5$.\n",
    "\n",
    "By normalizing these fundamental quantities the equations of motion for the N-body system become simpler, facilitating numerical integration and analysis. With all simulations using the same normalized units, it becomes easier to compare results across different studies and simulations.\n",
    "\n",
    "<!-- In order to convert N-body units into physical units a scale lenght $L_{scale}$ and a scale mass $M_{scale}$ need to be defined. Then:\n",
    "$$\n",
    "\\begin{equation}\n",
    "    T_{scale} = \\sqrt{  \\frac{L_{scale}^3}{G M_{scale}}   }   ,\n",
    "\\end{equation}\\tag{3}\n",
    "$$\n",
    "$$\n",
    "\\begin{equation}\n",
    "    V_{scale} = \\frac{L_{scale}}{T_{scale}} = \\sqrt{  \\frac{G M_{scale}}{L_{scale}}   } ,\n",
    "\\end{equation}\\tag{4}\n",
    "$$\n",
    "and from here physical units can be recovered\n",
    "$$\n",
    "\\begin{gather}\n",
    "    L_{phys}= L_{Nbody} L_{scale}  ,     \\\\\n",
    "\n",
    "    M_{phys}= M_{Nbody} M_{scale}  ,     \\\\\n",
    "\n",
    "    T_{phys}= T_{Nbody} T_{scale}  ,     \\\\\n",
    "\n",
    "    V_{phys}= V_{Nbody} V_{scale} .\n",
    "\\end{gather}\\tag{5}\n",
    "$$ -->\n",
    "In our analysis we worked in these units, anyway, physical units can be easily recovered with the functions included in the module `fireworks.nunits`."
   ]
  },
  {
   "cell_type": "markdown",
   "id": "7c5d8564",
   "metadata": {},
   "source": [
    "## Project Description\n",
    "\n",
    "Stellar clusters orbiting in and around a galaxy are subject to the tidal field of that galaxy. Comparing the potential field generated by the galaxy and the one generated by the stellar cluster it is possible to define a tidal radius\n",
    "$$\n",
    "\\begin{equation}\n",
    "r_t \\approx r_G \\biggl(\\frac{m_{cl}}{M_G}\\biggr)^{\\frac{1}{3}}\n",
    "\\end{equation}\n",
    "$$\n",
    "where $r_G$ is the distance of the stellar cluster from the center of the galaxy, $M_G$ is the mass of the galaxy within $r_G$ and $m_{cl}$ is the mass of the stellar cluster. At $r > 2r_t$ the potential generated by the galaxy starts to dominate over the potential of the cluster, therefore we can consider the star escaped by the stellar system. Therefore, along the orbit, the stellar cluster loses mass creating stellar streams. In some cases, the stellar cluster is destroyed.  \n",
    "\n",
    "#### Plummer Sphere\n",
    "In this work, we run different simulations of a stellar cluster losing mass while orbiting around a point-mass external potential.  \n",
    "The initial conditions have been drawn from a self-gravitating Plummer Profile in virial equilibrium composed of a different number of stars. All units are Henon Units.  \n",
    "We tested different configurations of the system:\n",
    "- 500, 1000, 5000 stars\n",
    "- eccentricity: 0.0, 0.5, 0.9\n",
    "\n",
    "We then decided to analyze and present in this report the realization with 5000 stars and eccentricity equal to 0.0 and 0.5.\n",
    "\n",
    "#### Point-mass Potential\n",
    "We included in the simulation a simple external potential available in `Fireworks`: `fireworks.nbodylib.potentials.Point_Mass`. We set the mass of the point-mass to $10^3$, in this way, the total mass of the external potential is $10^3$ times larger than the stellar cluster mass."
   ]
  },
  {
   "cell_type": "markdown",
   "id": "1d6f29a3",
   "metadata": {},
   "source": [
    "## The Fireworks Python Package\n",
    "\n",
    "Fireworks is a Python library that contains tools to initialize and evolve N-body systems and it can be used to simulate collisionless systems, collisional systems and orbit integration. It also contains some other useful tools as `pyfalcon` and `TSUNAMI`. \\\n",
    "Fireworks contains the following submodules: \n",
    "- `particles`: it contains the class `Particles` in which all the information about the particles can be stored (position, velocity, mass), and it provides useful tools to retrieve physical quantities of the system (e.g. CoM quantities, potential, kinetic and total energies);\n",
    "\n",
    "- `ic`: it contains functions through which initial conditions can be generated. The module contains two functions: `ic_random_normal`, which draws initial conditions from a normal distribution, and `ic_two_body`, which generates initial conditions for the case of a two-body system;\n",
    "\n",
    "- `Nbodylib`: it contains functions to estimate the gravitational forces and accelerations. It is divided into other four modules:\n",
    "    - `dynamics`: it contains functions to estimate accelerations due to gravitational forces. `acceleration_pyfalcon`, used in our work, is a function of this module. In this module we can find our ad hoc built acceleration estimate functions: `acceleration_direct` and `acceleration_direct_vectorized`. The first computes gravitational acceleration between particles using a direct method (i.e. for loops), while the latter leverages the broadcasting operations of `numpy.array`.\n",
    "\n",
    "    - `integrators`: it contains integrators used to integrate the ODE equations of the motion and evolve the system in time. `integrator_leapfrog`, used in our work, is a function of this module;\n",
    "  \n",
    "    - `nunits`: it contains the class `Nbody_units`, necessary to transform the data from physical units to N-body units or vice-versa;\n",
    "\n",
    "    - `potentials`: it contains a collection of classes and functions to estimate acceleration due to gravitational forces of a fixed potential. In this module, we can find some classes among them `Potential_Base`, used to initialize new potentials, and `Point_Mass`, which assumes the presence of a point of mass M fixed at the center of the frame of reference.\n",
    "  \n",
    "    - `timesteps`: it contains functions to estimate the adaptive timestep for the N-body integrations."
   ]
  },
  {
   "cell_type": "markdown",
   "id": "81659f24",
   "metadata": {},
   "source": [
    "## Simulations\n",
    "\n",
    "The ad-hoc function built for the project can be found in the file `simulation.ipynb`. Here we present some key points.  \n",
    "\n",
    "First, we had to put the stellar clusters in orbit around the external potential. After having moved the stars to the frame of reference of the center of mass (CoM) of the cluster, we moved the stars to the initial position\n",
    "```python\n",
    "particles.pos[:, 0] += initial_position * np.ones(len(particles))\n",
    "```\n",
    "so that the center of mass coordinates were $x=$ `initial_position`/2 and $y=z=0$.  \n",
    "Then we used the function `ic_two_body` to calculate the velocity of the cluster based on the eccentricity of the orbit, updating the velocity of the stars along the y-axis\n",
    "```python\n",
    "particles.vel[:, 1] += vel_cluster\n",
    "```\n",
    "\n",
    "We implemented the function `softening` to calculate the softening length as the mean distance between the stars. We passed this value to the function that generates the point-mass potential\n",
    "\n",
    "```python\n",
    "potential_PointMass = fnp.Point_Mass(Mass=M_G, softening = mean_distance)\n",
    "```\n",
    "\n",
    "We choose as parameters for the simulation:\n",
    "```python\n",
    "\n",
    "initial_position = 10   # Initial position along x direction \n",
    "tstep = 0.01        # Time step for integration\n",
    "N_orbit = 2         # (or 3) Number of orbits to integrate\n",
    "```"
   ]
  },
  {
   "cell_type": "markdown",
   "id": "a3582d3a",
   "metadata": {
    "jp-MarkdownHeadingCollapsed": true
   },
   "source": [
    "## e = 0"
   ]
  },
  {
   "cell_type": "markdown",
   "id": "03396271-9d69-42ea-8d0e-a083fb41e11f",
   "metadata": {},
   "source": [
    "<center>\n",
    "    <img src=\"Images/0.0/Delta_r_tidal_1000_InitialPos_10_e_0.0.png\" />\n",
    "    <certercaption></certercaption>\n",
    "</center>"
   ]
  },
  {
   "cell_type": "markdown",
   "id": "557450cd-342c-48f8-8642-e22234b24c58",
   "metadata": {},
   "source": [
    "<center>\n",
    "    <img src=\"Images/0.0/r_perc_mass_1000_InitialPos_10_e_0.0.png\" />\n",
    "    <certercaption></certercaption>\n",
    "</center>"
   ]
  },
  {
   "cell_type": "markdown",
   "id": "80ea5d6a-fe25-4af6-bf8a-98c8fdc7cf49",
   "metadata": {},
   "source": [
    "<center>\n",
    "    <img src=\"Images/0.0/MassLoss_1000_InitialPos_10_e_0.0.png\" />\n",
    "    <certercaption></certercaption>\n",
    "</center>"
   ]
  },
  {
   "cell_type": "markdown",
   "id": "9e44d008-e078-4c1d-a9bc-23f10e0559c2",
   "metadata": {},
   "source": [
    "<center>\n",
    "    <img src=\"Images/0.0/Density_profile_1000_InitialPos_10_e_0.0.png\" />\n",
    "    <certercaption></certercaption>\n",
    "</center>"
   ]
  },
  {
   "cell_type": "markdown",
   "id": "ade52515-b6ab-4be8-a9d7-528cea33a99d",
   "metadata": {},
   "source": [
    "<center>\n",
    "    <img src=\"Images/0.0/Velocity_dispersion_profile_1000_InitialPos_10_e_0.0.png\" />\n",
    "    <certercaption></certercaption>\n",
    "</center>"
   ]
  },
  {
   "cell_type": "markdown",
   "id": "0c06ceb1-a825-47b1-803a-5c761abcd460",
   "metadata": {},
   "source": [
    "<center>\n",
    "    <img src=\"Images/0.0/Velocity_dispersion_halfmass_1000_InitialPos_10_e_0.0.png\" />\n",
    "    <certercaption></certercaption>\n",
    "</center>"
   ]
  },
  {
   "cell_type": "markdown",
   "id": "c34ad700-c389-4175-a5da-f89b7f604e87",
   "metadata": {},
   "source": [
    "<center>\n",
    "    <img src=\"Images/0.0/Orbit_1000_InitialPos_10_e_0.0.png\" />\n",
    "    <certercaption></certercaption>\n",
    "</center>"
   ]
  },
  {
   "cell_type": "markdown",
   "id": "03860d86-aba6-49c9-bac8-e4a004a922f5",
   "metadata": {},
   "source": [
    "<center>\n",
    "    <img src=\"Images/0.0/ProjectionXY_1000_InitialPos_10_e_0.0.png\" />\n",
    "    <certercaption></certercaption>\n",
    "</center>"
   ]
  },
  {
   "cell_type": "markdown",
   "id": "21ca8ddf-beab-42a4-9def-43c97cc398d4",
   "metadata": {},
   "source": [
    "<center>\n",
    "    <img src=\"Images/0.0/Tidal_stream_density_1000_InitialPos_10_e_0.0.png\" />\n",
    "    <certercaption></certercaption>\n",
    "</center>"
   ]
  },
  {
   "cell_type": "markdown",
   "id": "8c4f3c69-4081-4f9a-a72d-719e58e2f2bf",
   "metadata": {},
   "source": [
    "<center>\n",
    "    <img src=\"Images/0.0/TanVel_1000_InitialPos_10_e_0.0.png\" />\n",
    "    <certercaption></certercaption>\n",
    "</center>"
   ]
  },
  {
   "cell_type": "markdown",
   "id": "4f4a6d28-5a74-401c-90f0-c47060122d33",
   "metadata": {},
   "source": [
    "<center>\n",
    "    <img src=\"Images/0.0/HistTidalVel_1000_InitialPos_10_e_0.0.png\" />\n",
    "    <certercaption></certercaption>\n",
    "</center>"
   ]
  },
  {
   "cell_type": "markdown",
   "id": "634ad343-861d-4938-9539-94243ef8ed6f",
   "metadata": {},
   "source": [
    "<center>\n",
    "    <img src=\"Images/0.0/EtotPlummer_1000_InitialPos_10_e_0.0.png\" />\n",
    "    <certercaption></certercaption>\n",
    "</center>"
   ]
  },
  {
   "cell_type": "markdown",
   "id": "216f2c90-b9ec-45bd-a3f5-672863a70dc8",
   "metadata": {
    "jp-MarkdownHeadingCollapsed": true
   },
   "source": [
    "## e = 0.5"
   ]
  },
  {
   "cell_type": "markdown",
   "id": "1a7569a2-ebbf-4fad-9c30-70460d509195",
   "metadata": {},
   "source": [
    "<center>\n",
    "    <img src=\"Images/0.5/Delta_r_tidal_1000_InitialPos_10_e_0.5.png\" />\n",
    "    <certercaption></certercaption>\n",
    "</center>"
   ]
  },
  {
   "cell_type": "markdown",
   "id": "d74a2df9-8dd5-49f2-abec-bc51c980b348",
   "metadata": {},
   "source": [
    "<center>\n",
    "    <img src=\"Images/0.0/r_perc_mass_1000_InitialPos_10_e_0.0.png\" />\n",
    "    <certercaption></certercaption>\n",
    "</center>"
   ]
  },
  {
   "cell_type": "markdown",
   "id": "c7615ac3-272f-477f-90dc-576fdbc79202",
   "metadata": {},
   "source": [
    "<center>\n",
    "    <img src=\"Images/0.0/MassLoss_1000_InitialPos_10_e_0.0.png\" />\n",
    "    <certercaption></certercaption>\n",
    "</center>"
   ]
  },
  {
   "cell_type": "markdown",
   "id": "c09a9a0b-855d-4e26-8247-452cd2da2d91",
   "metadata": {},
   "source": [
    "<center>\n",
    "    <img src=\"Images/0.0/Density_profile_1000_InitialPos_10_e_0.0.png\" />\n",
    "    <certercaption></certercaption>\n",
    "</center>"
   ]
  },
  {
   "cell_type": "markdown",
   "id": "6cf39a5d-71a2-4c90-bb24-9a8e9fbe6ade",
   "metadata": {},
   "source": [
    "<center>\n",
    "    <img src=\"Images/0.0/Velocity_dispersion_profile_1000_InitialPos_10_e_0.0.png\" />\n",
    "    <certercaption></certercaption>\n",
    "</center>"
   ]
  },
  {
   "cell_type": "markdown",
   "id": "8db9b9fd-0a01-4e06-836e-7727e805c1d4",
   "metadata": {},
   "source": [
    "<center>\n",
    "    <img src=\"Images/0.0/Velocity_dispersion_halfmass_1000_InitialPos_10_e_0.0.png\" />\n",
    "    <certercaption></certercaption>\n",
    "</center>"
   ]
  },
  {
   "cell_type": "markdown",
   "id": "9b50fbee-b117-41a3-8ff0-51f79550fc78",
   "metadata": {},
   "source": [
    "<center>\n",
    "    <img src=\"Images/0.0/Orbit_1000_InitialPos_10_e_0.0.png\" />\n",
    "    <certercaption></certercaption>\n",
    "</center>"
   ]
  },
  {
   "cell_type": "markdown",
   "id": "ed3ecef8-778b-406d-bc6c-b31900fb4d66",
   "metadata": {},
   "source": [
    "<center>\n",
    "    <img src=\"Images/0.0/ProjectionXY_1000_InitialPos_10_e_0.0.png\" />\n",
    "    <certercaption></certercaption>\n",
    "</center>"
   ]
  },
  {
   "cell_type": "markdown",
   "id": "78680278-6e76-4cde-babb-6b6941d47b53",
   "metadata": {},
   "source": [
    "<center>\n",
    "    <img src=\"Images/0.0/Tidal_stream_density_1000_InitialPos_10_e_0.0.png\" />\n",
    "    <certercaption></certercaption>\n",
    "</center>"
   ]
  },
  {
   "cell_type": "markdown",
   "id": "dfa73447-81e8-4e84-8094-064dd65c7f44",
   "metadata": {},
   "source": [
    "<center>\n",
    "    <img src=\"Images/0.0/TanVel_1000_InitialPos_10_e_0.0.png\" />\n",
    "    <certercaption></certercaption>\n",
    "</center>"
   ]
  },
  {
   "cell_type": "markdown",
   "id": "c319eae8-7ab0-402a-bcb4-e439f280416a",
   "metadata": {},
   "source": [
    "<center>\n",
    "    <img src=\"Images/0.0/HistTidalVel_1000_InitialPos_10_e_0.0.png\" />\n",
    "    <certercaption></certercaption>\n",
    "</center>"
   ]
  },
  {
   "cell_type": "markdown",
   "id": "84a26a3f-15c3-4d4c-ba5d-b61350d71a96",
   "metadata": {},
   "source": [
    "<center>\n",
    "    <img src=\"Images/0.0/EtotPlummer_1000_InitialPos_10_e_0.0.png\" />\n",
    "    <certercaption></certercaption>\n",
    "</center>"
   ]
  }
 ],
 "metadata": {
  "kernelspec": {
   "display_name": "Python 3 (ipykernel)",
   "language": "python",
   "name": "python3"
  },
  "language_info": {
   "codemirror_mode": {
    "name": "ipython",
    "version": 3
   },
   "file_extension": ".py",
   "mimetype": "text/x-python",
   "name": "python",
   "nbconvert_exporter": "python",
   "pygments_lexer": "ipython3",
   "version": "3.10.12"
  }
 },
 "nbformat": 4,
 "nbformat_minor": 5
}
