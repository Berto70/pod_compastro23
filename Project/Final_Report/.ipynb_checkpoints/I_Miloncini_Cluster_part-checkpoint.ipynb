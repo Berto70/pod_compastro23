{
 "cells": [
  {
   "cell_type": "markdown",
   "id": "dd633679",
   "metadata": {},
   "source": [
    "# Computational Astrophysics 23-24\n",
    "## Project track: Collisionless N-body simulations \n",
    "### Project-3: Tidal disruptions of a Plummer model "
   ]
  },
  {
   "cell_type": "markdown",
   "id": "41ab1349",
   "metadata": {},
   "source": [
    "## I Miloncini \n",
    "\n",
    "| Last Name | First Name | Student Number |\n",
    "|-----------|------------|----------------|\n",
    "|Bertinelli |Gabriele    |2103359         |\n",
    "|Bonato     |Diego       |2091250         |\n",
    "|Di Prima   |Giacomo     |2086992         |\n",
    "|Viterbo    |Giuseppe    |2086516         |\n"
   ]
  },
  {
   "cell_type": "markdown",
   "id": "99cf5dea",
   "metadata": {},
   "source": [
    "# Part 2 - Data Analysis"
   ]
  },
  {
   "cell_type": "markdown",
   "id": "4f5e1f04",
   "metadata": {},
   "source": [
    "## The N-body Problem\n",
    "\n",
    "The N-body problem refers to the challenge of predicting the movement of a collection of celestial bodies that are gravitationally interacting. This issue holds significant relevance in the field of astrophysics due to its wide application across various astrophysical contexts and scales.\\\n",
    "The N-body problem is an extension of Newton's law of universal gravitation problem.\n",
    "<!-- two bodies with mass $m_1$ and $m_2$ at a distance $\\vec{r}_{12}$ from each other are subjected to a mutual force\n",
    "$$\n",
    "\\begin{equation*}\n",
    "    \\vec{F}_{1,2} = m_1 \\vec{a}_1 = - G \\frac{m_1 m_2}{r_{12}^2} \\frac{ \\vec{r}_{12} }{ r_{12} } .\n",
    "\\end{equation*}\n",
    "$$\n",
    "Then, extending this to a system of N-body, -->\n",
    "The acceleration of the body $i$ due to all the other bodies $j$ is expressed by\n",
    "$$\n",
    "\\begin{equation*}\n",
    "    \\frac{ d^2 \\vec{x}_i } {dt^2} = - G \\sum^N_{j=1, j\\neq i} m_j \\frac{ \\vec{x}_i - \\vec{x}_j }{ | \\vec{x}_i - \\vec{x}_j |^3  } .\n",
    "\\end{equation*}\n",
    "$$\n",
    "  \n",
    "Each N-body system possesses six constants of motion, comprising the position and velocity of the center of mass, along with four integrals of motion encompassing energy and the three components of angular momentum. \n",
    "\n",
    "While an analytic solution exists for N=2, extending it to a general N-body system remains elusive. Adding just a third particle increases the unknowns to 18, necessitating constraints for an analytic solution, which is only feasible for specific cases like the circular restricted three-body problem.  \n",
    "Numerical methods are indispensable for integrating the system's differential equations. Notably, the problem's numerical complexity scales at O(N^2), posing a significant hurdle in system modeling due to rapid growth with increasing N."
   ]
  },
  {
   "cell_type": "markdown",
   "id": "0cb00b2d",
   "metadata": {},
   "source": [
    "### N-body Units\n",
    "\n",
    "N-body units offer a practical framework for N-body simulations, simplifying calculations by setting $G=1$. Conversion to physical units can be done retroactively, incorporating typical values relevant to the astrophysical system under study. However, this approach becomes inadequate when incorporating data on stars' physical parameters, stellar evolution, supernova explosions, etc. Nonetheless, treating stars as point masses allows for exploiting the scale invariance of N-body simulations.  \n",
    "\n",
    "#### Henon Units\n",
    "Additionally, Henon Units provide another set of normalized units used in N-body simulations.  \n",
    "In Henon Units, several fundamental physical quantities are set to unity, simplifying the equations of motion and standardizing the numerical treatment of N-body systems. \n",
    "- $G=1$: this simplifies the gravitational force equation, as the force between two masses is directly proportional to their product.\n",
    "\n",
    "- The total mass of the N-body system is also set to 1: this normalization simplifies mass-related calculations and eliminates the need to account for varying masses across different bodies.\n",
    "\n",
    "- With this scaling the total energy of the system is set to $-0.25$: this normalization allows for straightforward comparison of energy-related quantities and ensures consistency across simulations. Specifically, the kinetic energy is set to $0.25$ and the potential energy to $-0.5$.\n",
    "\n",
    "By normalizing these fundamental quantities the equations of motion for the N-body system become simpler, facilitating numerical integration and analysis. With all simulations using the same normalized units, it becomes easier to compare results across different studies and simulations.\n",
    "\n",
    "<!-- In order to convert N-body units into physical units a scale lenght $L_{scale}$ and a scale mass $M_{scale}$ need to be defined. Then:\n",
    "$$\n",
    "\\begin{equation}\n",
    "    T_{scale} = \\sqrt{  \\frac{L_{scale}^3}{G M_{scale}}   }   ,\n",
    "\\end{equation}\\tag{3}\n",
    "$$\n",
    "$$\n",
    "\\begin{equation}\n",
    "    V_{scale} = \\frac{L_{scale}}{T_{scale}} = \\sqrt{  \\frac{G M_{scale}}{L_{scale}}   } ,\n",
    "\\end{equation}\\tag{4}\n",
    "$$\n",
    "and from here physical units can be recovered\n",
    "$$\n",
    "\\begin{gather}\n",
    "    L_{phys}= L_{Nbody} L_{scale}  ,     \\\\\n",
    "\n",
    "    M_{phys}= M_{Nbody} M_{scale}  ,     \\\\\n",
    "\n",
    "    T_{phys}= T_{Nbody} T_{scale}  ,     \\\\\n",
    "\n",
    "    V_{phys}= V_{Nbody} V_{scale} .\n",
    "\\end{gather}\\tag{5}\n",
    "$$ -->\n",
    "In our analysis we worked in these units, anyway, physical units can be easily recovered with the functions included in the module `fireworks.nunits`."
   ]
  },
  {
   "cell_type": "markdown",
   "id": "7c5d8564",
   "metadata": {},
   "source": [
    "## Project Description\n",
    "\n",
    "Stellar clusters orbiting in and around a galaxy are subject to the tidal field of that galaxy. Comparing the potential field generated by the galaxy and the one generated by the stellar cluster it is possible to define a tidal radius\n",
    "$$\n",
    "\\begin{equation}\n",
    "r_t \\approx r_G \\biggl(\\frac{m_{cl}}{M_G}\\biggr)^{\\frac{1}{3}}\n",
    "\\end{equation}\n",
    "$$\n",
    "where $r_G$ is the distance of the stellar cluster from the center of the galaxy, $M_G$ is the mass of the galaxy within $r_G$ and $m_{cl}$ is the mass of the stellar cluster. At $r > 2r_t$ the potential generated by the galaxy starts to dominate over the potential of the cluster, therefore we can consider the star escaped by the stellar system. Therefore, along the orbit, the stellar cluster loses mass creating stellar streams. In some cases, the stellar cluster is destroyed.  \n",
    "\n",
    "#### Plummer Sphere\n",
    "In this work, we run different simulations of a stellar cluster losing mass while orbiting around a point-mass external potential.  \n",
    "The initial conditions have been drawn from a self-gravitating Plummer Profile in virial equilibrium composed of a different number of stars. All units are Henon Units.  \n",
    "We tested different configurations of the system:\n",
    "- 500, 1000, 5000 stars\n",
    "- eccentricity: 0.0, 0.5, 0.9\n",
    "\n",
    "We then decided to analyze and present in this report the realization with 1000 stars and eccentricity equal to 0.0 and 0.5.\n",
    "\n",
    "#### Point-mass Potential\n",
    "We included in the simulation a simple external potential available in `Fireworks`: `fireworks.nbodylib.potentials.Point_Mass`. We set the mass of the point-mass to $10^3$, in this way, the total mass of the external potential is $10^3$ times larger than the stellar cluster mass."
   ]
  },
  {
   "cell_type": "markdown",
   "id": "1d6f29a3",
   "metadata": {},
   "source": [
    "## The Fireworks Python Package\n",
    "\n",
    "Fireworks is a Python library that contains tools to initialize and evolve N-body systems and it can be used to simulate collisionless systems, collisional systems and orbit integration. It also contains some other useful tools as `pyfalcon` and `TSUNAMI`. \\\n",
    "Fireworks contains the following submodules: \n",
    "- `particles`: it contains the class `Particles` in which all the information about the particles can be stored (position, velocity, mass), and it provides useful tools to retrieve physical quantities of the system (e.g. CoM quantities, potential, kinetic and total energies);\n",
    "\n",
    "- `ic`: it contains functions through which initial conditions can be generated. The module contains two functions: `ic_random_normal`, which draws initial conditions from a normal distribution, and `ic_two_body`, which generates initial conditions for the case of a two-body system;\n",
    "\n",
    "- `Nbodylib`: it contains functions to estimate the gravitational forces and accelerations. It is divided into other four modules:\n",
    "    - `dynamics`: it contains functions to estimate accelerations due to gravitational forces. `acceleration_pyfalcon`, used in our work, is a function of this module. In this module we can find our ad hoc built acceleration estimate functions: `acceleration_direct` and `acceleration_direct_vectorized`. The first computes gravitational acceleration between particles using a direct method (i.e. for loops), while the latter leverages the broadcasting operations of `numpy.array`.\n",
    "\n",
    "    - `integrators`: it contains integrators used to integrate the ODE equations of the motion and evolve the system in time. `integrator_leapfrog`, used in our work, is a function of this module;\n",
    "  \n",
    "    - `nunits`: it contains the class `Nbody_units`, necessary to transform the data from physical units to N-body units or vice-versa;\n",
    "\n",
    "    - `potentials`: it contains a collection of classes and functions to estimate acceleration due to gravitational forces of a fixed potential. In this module, we can find some classes among them `Potential_Base`, used to initialize new potentials, and `Point_Mass`, which assumes the presence of a point of mass M fixed at the center of the frame of reference.\n",
    "  \n",
    "    - `timesteps`: it contains functions to estimate the adaptive timestep for the N-body integrations."
   ]
  },
  {
   "cell_type": "markdown",
   "id": "81659f24",
   "metadata": {},
   "source": [
    "## Simulations\n",
    "\n",
    "The ad-hoc function built for the project can be found in the file `simulation.ipynb`. Here we present some key points.  \n",
    "\n",
    "First, we had to put the stellar clusters in orbit around the external potential. After having moved the stars to the frame of reference of the center of mass (CoM) of the cluster, we moved the stars to the initial position\n",
    "```python\n",
    "particles.pos[:, 0] += initial_position * np.ones(len(particles))\n",
    "```\n",
    "so that the center of mass coordinates were $x=$ `initial_position`/2 and $y=z=0$.  \n",
    "Then we used the function `ic_two_body` to calculate the velocity of the cluster based on the eccentricity of the orbit, updating the velocity of the stars along the y-axis\n",
    "```python\n",
    "particles.vel[:, 1] += vel_cluster\n",
    "```\n",
    "\n",
    "We implemented the function `softening` to calculate the softening length as the mean distance between the stars. We passed this value to the function that generates the point-mass potential\n",
    "\n",
    "```python\n",
    "potential_PointMass = fnp.Point_Mass(Mass=M_G, softening = mean_distance)\n",
    "```\n",
    "\n",
    "We choose as parameters for the simulation:\n",
    "```python\n",
    "\n",
    "initial_position = 10   # Initial position along x direction \n",
    "tstep = 0.01        # Time step for integration\n",
    "N_orbit = 2         # (or 3) Number of orbits to integrate\n",
    "```"
   ]
  },
  {
   "cell_type": "markdown",
   "id": "75497348",
   "metadata": {},
   "source": [
    "## Analysis\n",
    "\n",
    "The code used to produce the plots below can be found in the file `Analysis.ipynb`.  \n",
    "\n",
    "Here below we present a description and an analysis of the results found for two different systems:\n",
    "\n",
    "- Number of stars = 1000, initial position = 10 (along x direction)\n",
    "  - eccentricity = 0.0\n",
    "  - eccentricity = 0.5"
   ]
  },
  {
   "cell_type": "markdown",
   "id": "a3582d3a",
   "metadata": {},
   "source": [
    "## a) N=1000, e=0.0"
   ]
  },
  {
   "cell_type": "markdown",
   "id": "c3dea028-d9db-4f51-b4c2-84d74bd520d4",
   "metadata": {},
   "source": [
    "<center>\n",
    "    <img src=\"./0.0/Delta_r_tidal_1000_InitialPos_10_e_0.0.png\"/>\n",
    "    <certercaption></certercaption>\n",
    "</center>"
   ]
  },
  {
   "cell_type": "markdown",
   "id": "640aeb77",
   "metadata": {},
   "source": [
    "**Figure a.1.** This plot shows the distance between the \"true\" center of mass (CoM) $r_{CoM}$ of the particles and the iterative one $r_{CoM, tidal}$. The first is the CoM found taking the mean of the position of each particle. The latter is found iteratively in the following way: use the stars considered bounded in the previous snapshot to calculate the CoM, update the tidal radius in the new position of the center of mass and consider as bounded stars only those within 2 tidal radii, $2\\, r_t$, and repeat this process till convergence.  \n",
    "\n",
    "We see that the two centers of mass deviate greatly as the simulation time passes. This is because when the mass loss starts to be significant the center of mass can be not centered in the density peak of the system."
   ]
  },
  {
   "cell_type": "markdown",
   "id": "6b273e87",
   "metadata": {},
   "source": [
    "--------------------"
   ]
  },
  {
   "cell_type": "markdown",
   "id": "cd00a7c2",
   "metadata": {},
   "source": [
    "<center>\n",
    "    <img src=\"./0.0/Orbit_1000_InitialPos_10_e_0.0.png\" />\n",
    "    <certercaption></certercaption>\n",
    "</center>"
   ]
  },
  {
   "cell_type": "markdown",
   "id": "86fde7db",
   "metadata": {},
   "source": [
    "**Figure a.2.** In this plot, a projection of the orbit on the X-Y plane (left) and on the Y-Z plane (right) is presented. In the center (i.e. in $(0,0)$), indicated by the green cross, there is the origin of Point Mass (PM) potential.\n",
    "On the left side, we can see how the \"true\" CoM (small star) and the iterative CoM (small circle) deviate along the orbit and as the simulation time passes, indicated by the colorbar. The integrated orbit, relative to the iterative CoM, is pretty stable on the X-Y plane.  \n",
    "On the right side, some small fluctuations are visible, but the orbit can anyway be considered as planar.  \n",
    "From now on, the iterative CoM will be referred as CoM."
   ]
  },
  {
   "cell_type": "markdown",
   "id": "ee78bafa",
   "metadata": {},
   "source": [
    "--------------------"
   ]
  },
  {
   "cell_type": "markdown",
   "id": "e5c8c4a6",
   "metadata": {},
   "source": [
    "<center>\n",
    "    <img src=\"./0.0/MassLoss_1000_InitialPos_10_e_0.0.png\" />\n",
    "    <certercaption></certercaption>\n",
    "</center>"
   ]
  },
  {
   "cell_type": "markdown",
   "id": "c5776329",
   "metadata": {},
   "source": [
    "**Figure a.3.** On the left, we can see the mass loss at each time step. On the right, is the cumulative mass loss.  \n",
    "We can see that the cluster loses almost all the mass ($>80\\%$) within 500 time steps, due to tidal effects. "
   ]
  },
  {
   "cell_type": "markdown",
   "id": "f43e3553",
   "metadata": {},
   "source": [
    "--------------------"
   ]
  },
  {
   "cell_type": "markdown",
   "id": "35dec438-e870-4dbf-b807-2fc21f212418",
   "metadata": {},
   "source": [
    "<center>\n",
    "    <img src=\"./0.0/r_perc_mass_1000_InitialPos_10_e_0.0.png\" />\n",
    "    <certercaption></certercaption>\n",
    "</center>"
   ]
  },
  {
   "cell_type": "markdown",
   "id": "36b83040",
   "metadata": {},
   "source": [
    "**Figure a.4.** In this plot, the radii within which 10%, 50% and 90% of the mass is contained are displayed. For this plot we considered the mass contained inside $2\\, r_t$, at each snapshot.  \n",
    "It is clear that until time step 380, the internal region $r<$ 10% mass radius and the more external ones are decoupled. This means that while the external regions expand due to tidal forces and lose mass (making the 90% mass radius shrink as time passes), the internal region remains roughly the same size. "
   ]
  },
  {
   "cell_type": "markdown",
   "id": "a7479fb2",
   "metadata": {},
   "source": [
    "--------------------"
   ]
  },
  {
   "cell_type": "markdown",
   "id": "ba6e4c8b",
   "metadata": {},
   "source": [
    "<center>\n",
    "    <img src=\"./0.0/Density_profile_1000_InitialPos_10_e_0.0.png\" />\n",
    "    <certercaption></certercaption>\n",
    "</center>"
   ]
  },
  {
   "cell_type": "markdown",
   "id": "b8a3f4d5",
   "metadata": {},
   "source": [
    "**Figure a.5.** In this plot, we show the density profile inside 5 radial shells of volume. For the mass, we considered only the stars within $2\\, r_t$. We show different time steps using different colors.  \n",
    "As time passes, the peak of the density profile stays pretty much at the same radii position, until the major mass loss event at $>300$ time steps occurs. The peak shifts towards smaller radius values because a lot of mass is lost from the external regions and thus the density peaks end to coincide with the 10% mass distribution, ~ 0.18 $|r-r_{CoM}|_{shell}$."
   ]
  },
  {
   "cell_type": "markdown",
   "id": "78cd7e38",
   "metadata": {},
   "source": [
    "--------------------"
   ]
  },
  {
   "cell_type": "markdown",
   "id": "795a033f",
   "metadata": {},
   "source": [
    "<center>\n",
    "    <img src=\".\\0.0\\Velocity_dispersion_halfmass_1000_InitialPos_10_e_0.0.png\" />\n",
    "    <certercaption></certercaption>\n",
    "</center>"
   ]
  },
  {
   "cell_type": "markdown",
   "id": "24ca60f2",
   "metadata": {},
   "source": [
    "**Figure a.6.** In this figure, we plot the tangential velocity dispersion w.r.t. the CoM, contained in the corresponding half mass radius. We show In different colors the integration time steps.  \n",
    "We can see in the top right corner, before 300 time steps, three distinct phases: \n",
    "- In the first one, until ~ 100 time steps, the dispersion grows very rapidly in the inner region;\n",
    "- In the second phase, until ~250 time steps, the inner region starts to become more homogeneous in the tangential direction, because it expands due to the tidal forces, but the stars are still within $2\\, r_t$.;\n",
    "- In the third one, until ~400 time steps, the half mass radius shrinks due to mass loss while velocity dispersion remains almost the same because only the outer layers are stripped."
   ]
  },
  {
   "cell_type": "markdown",
   "id": "9c2958f4",
   "metadata": {},
   "source": [
    "--------------------"
   ]
  },
  {
   "cell_type": "markdown",
   "id": "4ed10d80",
   "metadata": {},
   "source": [
    "<center>\n",
    "    <img src=\"./0.0/ProjectionXY_1000_InitialPos_10_e_0.0.png\" />\n",
    "    <certercaption></certercaption>\n",
    "</center>"
   ]
  },
  {
   "cell_type": "markdown",
   "id": "a2786274",
   "metadata": {},
   "source": [
    "**Figure a.7.** Here we show some snapshots of the evolution of the system on the X-Y plane. We highlight in orange the stars within $2\\, r_t$ at each snapshot. We see that when the massive mass loss occurs, at ~400 time steps, and further the stars distribute along the orbit becoming the actual stellar stream. Towards the end of the evolution, the stars fall in a smaller on average orbit around the PM."
   ]
  },
  {
   "cell_type": "markdown",
   "id": "dc41bab5",
   "metadata": {},
   "source": [
    "--------------------"
   ]
  },
  {
   "cell_type": "markdown",
   "id": "1e2550c8",
   "metadata": {},
   "source": [
    "<center>\n",
    "    <img src=\"./0.0/Tidal_stream_density_1000_InitialPos_10_e_0.0.png\" />\n",
    "    <certercaption></certercaption>\n",
    "</center>"
   ]
  },
  {
   "cell_type": "markdown",
   "id": "f38f060b",
   "metadata": {},
   "source": [
    "**Figure a.8.** Here we show some snapshots of the evolution of the system on the X-Y plane, selecting only the stars belonging to the tidal stream (i.e. $r>2\\,r_t$). We highlight with colors the number density of the stars, found with a 2D kernel density estimation. In red the region with the highest density. Until before the total disruption of the cluster, before ~500 time steps, the density peaks are closer to the CoM because that is where the stripped stars are coming from. In the final snapshot, when the cluster is already disrupted, the density is almost homogeneous along the tidal streams. "
   ]
  },
  {
   "cell_type": "markdown",
   "id": "ad863515",
   "metadata": {},
   "source": [
    "--------------------"
   ]
  },
  {
   "cell_type": "markdown",
   "id": "48b03411",
   "metadata": {},
   "source": [
    "<center>\n",
    "    <img src=\"./0.0/TanVel_1000_InitialPos_10_e_0.0.png\" />\n",
    "    <certercaption></certercaption>\n",
    "</center>"
   ]
  },
  {
   "cell_type": "markdown",
   "id": "f2253df5",
   "metadata": {},
   "source": [
    "**Figure a.9.** Here we show some snapshots of the evolution of the system on the X-Y plane. We highlight with colors the differential tangential velocity of each star, w.r.t the CoM. Due to the tidal forces, stars from the inner and outer parts, from the center of the cluster, leave the cluster with faster and slower velocities w.r.t. the CoM respectively. Thus, the inner stars become a leading arm of the stellar stream while the outer stars form a trailing arm.  \n",
    "Higher velocities are shown in bluer colors, while lower ones are in redder colors, highlighting the structure of the stellar stream."
   ]
  },
  {
   "cell_type": "markdown",
   "id": "72ddba19",
   "metadata": {},
   "source": [
    "--------------------"
   ]
  },
  {
   "cell_type": "markdown",
   "id": "2f525820",
   "metadata": {},
   "source": [
    "<center>\n",
    "    <img src=\"./0.0/HistTidalVel_1000_InitialPos_10_e_0.0.png\" />\n",
    "    <certercaption></certercaption>\n",
    "</center>"
   ]
  },
  {
   "cell_type": "markdown",
   "id": "2125d4b6",
   "metadata": {},
   "source": [
    "**Figure a.10.** This plot is similar to the one above (Fig. 9). There are two main differences:\n",
    "- In the left plots, we show only stars in the stellar stream (i.e. those having $r>2\\, r_t$).\n",
    "- On the right, we describe the distribution of the velocities of the two arms (Leading in blue, Trailing in red), comparing them with the velocities distribution of the stars inside $2\\, r_t$.  \n",
    "\n",
    "In order to separate the arms, we used the following selection rule:\n",
    "- Leading stream: $\\phi > \\phi_{CoM}$ `and` $\\rho < \\rho_{CoM}$\n",
    "- Trailing stream: $\\phi < \\phi_{CoM}$ `and` $\\rho > \\rho_{CoM}$\n",
    "The reference system for the cylindrical coordinates $(\\rho, \\phi)$ is centered in $(X,Y)=(0,0)$. $\\phi$ grows anti-clockwise, while $\\rho$ is the usual radial distance from the center of the reference frame."
   ]
  },
  {
   "cell_type": "markdown",
   "id": "2c6d57db",
   "metadata": {},
   "source": [
    "--------------------"
   ]
  },
  {
   "cell_type": "markdown",
   "id": "4ef03ca9",
   "metadata": {},
   "source": [
    "<center>\n",
    "    <img src=\"./0.0/EtotPlummer_1000_InitialPos_10_e_0.0.png\" />\n",
    "    <certercaption></certercaption>\n",
    "</center>"
   ]
  },
  {
   "cell_type": "markdown",
   "id": "1bd02337",
   "metadata": {},
   "source": [
    "<center>\n",
    "    <img src=\"./0.0/EstimateError_1000_InitialPos_10_e_0.0_.png\" />\n",
    "    <certercaption></certercaption>\n",
    "</center>"
   ]
  },
  {
   "cell_type": "markdown",
   "id": "f059c8d9",
   "metadata": {},
   "source": [
    "**Figure a.11.**\n",
    "Top panel: Here we show some snapshots of the evolution of the system on the X-Y plane. We plotted all the stars in the system.  \n",
    "The solid (ticked) black line shows the region inside $2\\,r_t$ ($r_t$). The colorbar indicates the total mutual energy between stars inside $2\\,r_t$ (without considering the external PM potential). The total energy is defined as $E_{tot}=E_{kin}+E_{pot, mutual}$.  \n",
    "\n",
    "In the legend, we added two estimates of the percentual errors, defined as follows\n",
    "\n",
    "$$\n",
    "\\begin{equation*}\n",
    "\n",
    "Err_{\\%} = \\frac{N_{R<(\\alpha\\cdot\\,r_t)} - N_{E_{tot}<0}}{N_{E_{tot}<0}} \\quad , \\quad \\alpha \\in \\{1, 2\\}\n",
    "\n",
    "\\end{equation*}\n",
    "$$\n",
    "\n",
    "With $N_{E_{tot}<0}$ the number of all the stars with a negative total energy and $N_{R<(\\alpha\\cdot\\,r_t)}$ the number of stars inside 1 (or 2) $r_t$.  \n",
    "A negative value of $Err_{\\%}$ means we are underestimating the number of stars still dynamically bound to the cluster.  \n",
    "\n",
    "Botto panel: \n",
    "\n",
    "As we can see from the histogram, one $r_t$, on average, underestimates the number of stars still bound to the cluster. While $2\\,r_t$ both underestimates and overestimates the number of stars. \n",
    "So we can conclude that the conservative condition of $2\\,r_t$, in a simulation setup where energies are available, is not proper in defining the limit inside which a cluster is gravitationally bounded. A more precise limit is given by the particles' total energy."
   ]
  },
  {
   "cell_type": "markdown",
   "id": "ce5400f5",
   "metadata": {},
   "source": [
    "## b) N=1000, e=0.5\n",
    "\n",
    "In this Section, we propose a comparison of the results with the ones discussed above. Therefore the plots will be not described again."
   ]
  },
  {
   "cell_type": "markdown",
   "metadata": {},
   "source": [
    "<center>\n",
    "    <img src=\"./0.5/Delta_r_tidal_1000_InitialPos_10_e_0.5.png\"/>\n",
    "    <certercaption></certercaption>\n",
    "</center>"
   ]
  },
  {
   "cell_type": "markdown",
   "id": "e44d5853",
   "metadata": {},
   "source": [
    "**Figure b.1.** As is Fig. a.1 we can see how the \"true\" CoM deviates from the iterative CoM."
   ]
  },
  {
   "cell_type": "markdown",
   "id": "8f4b8dfb",
   "metadata": {},
   "source": [
    "--------------------"
   ]
  },
  {
   "cell_type": "markdown",
   "id": "a6841d21",
   "metadata": {},
   "source": [
    "<center>\n",
    "    <img src=\"./0.5/Orbit_1000_InitialPos_10_e_0.5.png\" />\n",
    "    <certercaption></certercaption>\n",
    "</center>"
   ]
  },
  {
   "cell_type": "markdown",
   "id": "6e3b3e83",
   "metadata": {},
   "source": [
    "**Figure b.2.** The system stays stable and planar for all the evolution time. The iterative CoM traces the correct evolution of the cluster along the orbit, around the PM."
   ]
  },
  {
   "cell_type": "markdown",
   "id": "a48e6b11",
   "metadata": {},
   "source": [
    "--------------------"
   ]
  },
  {
   "cell_type": "markdown",
   "id": "570b6f3a",
   "metadata": {},
   "source": [
    "<center>\n",
    "    <img src=\"./0.5/MassLoss_1000_InitialPos_10_e_0.5.png\" />\n",
    "    <certercaption></certercaption>\n",
    "</center>"
   ]
  },
  {
   "cell_type": "markdown",
   "id": "7f3a1a01",
   "metadata": {},
   "source": [
    "**Figure b.3.** In this system the cumulative mass loss is less steep because the cluster loses mass in a longer time range due to the fact that is along a more eccentric orbit."
   ]
  },
  {
   "cell_type": "markdown",
   "id": "8ff81ab8",
   "metadata": {},
   "source": [
    "--------------------"
   ]
  },
  {
   "cell_type": "markdown",
   "id": "8f7ff7a0",
   "metadata": {},
   "source": [
    "<center>\n",
    "    <img src=\"./0.5/r_perc_mass_1000_InitialPos_10_e_0.5.png\" />\n",
    "    <certercaption></certercaption>\n",
    "</center>"
   ]
  },
  {
   "cell_type": "markdown",
   "id": "764e57da",
   "metadata": {},
   "source": [
    "**Figure b.4.** We can see, similarly to the case above, that the inner layers are decoupled from the outer layers until the cumulative mass loss starts to be significant (i.e. above 1400 time steps).  \n",
    "We are looking at the same phenomenon, as in the case $e=0.0$, but on a longer timescale."
   ]
  },
  {
   "cell_type": "markdown",
   "id": "be5ad032",
   "metadata": {},
   "source": [
    "--------------------"
   ]
  },
  {
   "cell_type": "markdown",
   "id": "5bcd4ba8",
   "metadata": {},
   "source": [
    "<center>\n",
    "    <img src=\"./0.5/Density_profile_1000_InitialPos_10_e_0.5.png\" />\n",
    "    <certercaption></certercaption>\n",
    "</center>"
   ]
  },
  {
   "cell_type": "markdown",
   "id": "d7d175ce",
   "metadata": {},
   "source": [
    "**Figure b.5.** In this case, the density peak moves towards outer shells. This effect is because the stars in the cluster move toward outer shells but are not stripped from the host body, as fast as in the case of $e=0.0$ (i.e. the cluster retains its mass for longer time). "
   ]
  },
  {
   "cell_type": "markdown",
   "id": "90c999b9",
   "metadata": {},
   "source": [
    "--------------------"
   ]
  },
  {
   "cell_type": "markdown",
   "id": "ef0237e0",
   "metadata": {},
   "source": [
    "<center>\n",
    "    <img src=\".\\0.5\\Velocity_dispersion_halfmass_1000_InitialPos_10_e_0.5.png\" />\n",
    "    <certercaption></certercaption>\n",
    "</center>"
   ]
  },
  {
   "cell_type": "markdown",
   "id": "9bf90dde",
   "metadata": {},
   "source": [
    "**Figure b.6.** We see the same situation as the case $e=0.0$ until time step 400. It's the same result just on another timescale."
   ]
  },
  {
   "cell_type": "markdown",
   "id": "09da3a66",
   "metadata": {},
   "source": [
    "--------------------"
   ]
  },
  {
   "cell_type": "markdown",
   "id": "e312c2ca",
   "metadata": {},
   "source": [
    "<center>\n",
    "    <img src=\"./0.5/ProjectionXY_1000_InitialPos_10_e_0.5.png\" />\n",
    "    <certercaption></certercaption>\n",
    "</center>"
   ]
  },
  {
   "cell_type": "markdown",
   "id": "a9d26890",
   "metadata": {},
   "source": [
    "**Figure b.7.** Here we show some snapshots of the evolution of the system on the X-Y plane. We highlight in orange the stars within $2\\, r_t$ at each snapshot. Thanks to the eccentric orbit, the cluster retains its mass for a longer time, surviving almost until the end of the simulation (after time step ~1400, almost all the mass is lost)."
   ]
  },
  {
   "cell_type": "markdown",
   "id": "d8f9fb46",
   "metadata": {},
   "source": [
    "--------------------"
   ]
  },
  {
   "cell_type": "markdown",
   "id": "a6ccf175",
   "metadata": {},
   "source": [
    "<center>\n",
    "    <img src=\"./0.5/Tidal_stream_density_1000_InitialPos_10_e_0.5.png\" />\n",
    "    <certercaption></certercaption>\n",
    "</center>"
   ]
  },
  {
   "cell_type": "markdown",
   "id": "f4b42ef7",
   "metadata": {},
   "source": [
    "**Figure b.8.** Here we show some snapshots of the evolution of the system on the X-Y plane, selecting only the stars belonging to the tidal stream (i.e. $r>2\\,r_t$). We highlight with colors the number density of the stars, found with a 2D kernel density estimation.  \n",
    "As said above, the cluster retains more mass almost until the end of the simulation."
   ]
  },
  {
   "cell_type": "markdown",
   "id": "5af65803",
   "metadata": {},
   "source": [
    "--------------------"
   ]
  },
  {
   "cell_type": "markdown",
   "id": "39d5749f",
   "metadata": {},
   "source": [
    "<center>\n",
    "    <img src=\"./0.5/TanVel_1000_InitialPos_10_e_0.5.png\" />\n",
    "    <certercaption></certercaption>\n",
    "</center>"
   ]
  },
  {
   "cell_type": "markdown",
   "id": "67398083",
   "metadata": {},
   "source": [
    "**Figure b.9.** There are no meaningful differences in the results w.r.t. the case above, except for the fact that the cluster remains visible almost until the end of the simulation."
   ]
  },
  {
   "cell_type": "markdown",
   "id": "f7b46921",
   "metadata": {},
   "source": [
    "--------------------"
   ]
  },
  {
   "cell_type": "markdown",
   "id": "8a6e63e1",
   "metadata": {},
   "source": [
    "<center>\n",
    "    <img src=\"./0.5/HistTidalVel_1000_InitialPos_10_e_0.5.png\" />\n",
    "    <certercaption></certercaption>\n",
    "</center>"
   ]
  },
  {
   "cell_type": "markdown",
   "id": "ab461a0b",
   "metadata": {},
   "source": [
    "**Figure b.10.** From the plots above, we can appreciate the fact that leading and trailing differential tangential velocity distributions start to separate significantly from the cluster distribution only towards the end of the simulation.  \n",
    "A statistical analysis should be run in order to study the overlapping of the distributions, considering, for example, the 95% credibility interval."
   ]
  },
  {
   "cell_type": "markdown",
   "id": "25499fdc",
   "metadata": {},
   "source": [
    "--------------------"
   ]
  },
  {
   "cell_type": "markdown",
   "id": "4fdcfb81",
   "metadata": {},
   "source": [
    "<center>\n",
    "    <img src=\"./0.5/EtotPlummer_1000_InitialPos_10_e_0.5.png\" />\n",
    "    <certercaption></certercaption>\n",
    "</center>"
   ]
  },
  {
   "cell_type": "markdown",
   "id": "1d9b3c41",
   "metadata": {},
   "source": [
    "<center>\n",
    "    <img src=\"./0.5/EstimateError_1000_InitialPos_10_e_0.5_.png\" />\n",
    "    <certercaption></certercaption>\n",
    "</center>"
   ]
  },
  {
   "cell_type": "markdown",
   "id": "92e29981",
   "metadata": {},
   "source": [
    "**Figure b.11.** In the case of an eccentric orbit we see that the limit $r_t$ underestimates the number of stars, while $2\\,r_t$ overestimates it. So an intermediated radius  \n",
    "$r_t<r<2\\,r_t$ can be found in order to estimate which stars are bound to a cluster."
   ]
  },
  {
   "cell_type": "markdown",
   "id": "212be712",
   "metadata": {},
   "source": [
    "## Conclusions\n",
    "From the comparison of the two cases we can draw several conclusions:\n",
    "- Eccentric systems can retain more mass for longer times;\n",
    "- For circular orbits, the conservative condition of $2\\,r_t$ gives a lower bound for the gravitationally bound condition. A more precise limit is given by the particles' total energy.  \n",
    "  While for eccentric orbits, $r_t$ and $2\\, r_t$ give a lower and an upper bound respectively, so an intermediated radius $r_t<r<2\\,r_t$ can be found as a proxy for the gravitationally bound condition.  \n",
    "\n",
    "- In both cases, the inner layers are decoupled from the external ones. This means that while the external regions expand due to tidal forces and lose mass (making the 90% mass radius shrink as time passes), the internal regions remain roughly the same size. The process is the same but with different timescales, depending on the moment the cumulative mass loss becomes to be significant (i.e. $>80\\%$). \n",
    "- The dispersion of the tangential velocity, in Fig. 6, presents a similar behavior in both cases, only on different timescales. The three phases, that we identified, are a fast increase in velocity dispersion, a mixing of the inner layers' velocities and a stripping of the outer layers.  \n",
    "\n",
    "- Future works should investigate the dependencies of using the tidal radius condition for electing gravitationally bound stars, depending on the eccentricities of the orbits.  \n",
    "  A more robust statistical analysis should be run in order to study the overlapping of the tangential velocities distribution, considering, for example, the 95% credibility interval."
   ]
  },
  {
   "cell_type": "markdown",
   "id": "7b9d9cb0",
   "metadata": {},
   "source": []
  }
 ],
 "metadata": {
  "kernelspec": {
   "display_name": "Python 3 (ipykernel)",
   "language": "python",
   "name": "python3"
  },
  "language_info": {
   "codemirror_mode": {
    "name": "ipython",
    "version": 3
   },
   "file_extension": ".py",
   "mimetype": "text/x-python",
   "name": "python",
   "nbconvert_exporter": "python",
   "pygments_lexer": "ipython3",
   "version": "3.10.12"
  }
 },
 "nbformat": 4,
 "nbformat_minor": 5
}
