{
 "cells": [
  {
   "cell_type": "code",
   "execution_count": null,
   "id": "3706d7cd-c9c0-4a2e-b938-894d18c38065",
   "metadata": {},
   "outputs": [],
   "source": [
    "import numpy as np\n",
    "from matplotlib import pyplot as plt, animation as animation, ticker as mticker\n",
    "from matplotlib.pyplot import cm\n",
    "import matplotlib as mpl\n",
    "from matplotlib.patches import Ellipse, Circle\n",
    "import matplotlib.transforms as transforms\n",
    "import pandas as pd\n",
    "import scipy as sp\n",
    "import astropy as ap\n",
    "from tqdm.notebook import tqdm\n",
    "from sklearn.cluster import DBSCAN\n",
    "from scipy.interpolate import splprep, splev\n",
    "from scipy.stats import gaussian_kde\n",
    "\n",
    "\n",
    "from fireworks.particles import Particles\n",
    "import fireworks.nbodylib.nunits as NU\n",
    "import fireworks.nbodylib.potentials as fnp\n",
    "import fireworks.nbodylib.dynamics as fnd\n",
    "import fireworks.nbodylib.integrators as fni"
   ]
  },
  {
   "cell_type": "code",
   "execution_count": null,
   "id": "96a304cf-4eed-478c-8f70-dad5e971cdcf",
   "metadata": {},
   "outputs": [],
   "source": [
    "def cartesian2spherical(rectangular_coordinates: list, out_type:str='rad'):\n",
    "    \"\"\"\n",
    "    Converts Cartesian coordinates to spherical coordinates.\n",
    "    Parameters\n",
    "    ----------\n",
    "    rectangular_coordinates : list\n",
    "        A list of coordinates of the point in Cartesian space.\n",
    "    out_type : str, optional\n",
    "        Whether the theta and phi arguments in output should be in degree or\n",
    "        radian units. The default is 'rad'.\n",
    "    Returns\n",
    "    -------\n",
    "    rho, theta, phi\n",
    "    \"\"\"\n",
    "    # initialize the coordinates\n",
    "    x, y, z = rectangular_coordinates\n",
    "    # calculate rho\n",
    "    rho = np.sqrt(x**2 + y**2 + z**2)\n",
    "    # calculate theta\n",
    "    theta = np.arccos(z / rho)\n",
    "    # calculate phi, the reason for using arctan2 is that the range of theta\n",
    "    # parameter is -180 < theta < 180.\n",
    "    phi = np.arctan2(y, x)\n",
    "    if out_type == 'deg':\n",
    "        theta, phi = np.degrees([theta, phi])\n",
    "    return rho, theta, phi"
   ]
  },
  {
   "cell_type": "code",
   "execution_count": null,
   "id": "d088b333-5791-45c8-a3c2-44aaa6b83423",
   "metadata": {},
   "outputs": [],
   "source": [
    "N = 1000\n",
    "initial_position = 10    #pos del \n",
    "M_G = 1e3    # mass of the galaxy\n",
    "e=0.0\n",
    "t=0.01\n",
    "\n",
    "semi_major_axis = np.sqrt( initial_position/(1-e**2)  )\n",
    "data = np.load(f'Orbit/Galactic_FoR/{N}_InitialPos_{initial_position}_e_{e}_t_{t}.npy')\n",
    "position = data[:, :, :3]\n",
    "velocity = data[:, :, 3:6]\n",
    "mass = data[:, :, 6]\n",
    "\n"
   ]
  },
  {
   "cell_type": "markdown",
   "id": "1128b843-f454-4637-a105-505e3a2d1971",
   "metadata": {},
   "source": [
    "# Tidal radius and iterative calculation of the center of mass "
   ]
  },
  {
   "cell_type": "code",
   "execution_count": null,
   "id": "1648ff86-f8d4-4d29-a1ba-892646e527db",
   "metadata": {},
   "outputs": [],
   "source": [
    "def flag_cluster(position: npt.NDArray[np.float64], velocity: npt.NDArray[np.float64], mass: npt.NDArray[np.float64], N: int, M_G: float):\n",
    "    \n",
    "    \"\"\"\n",
    "    Function to find the stars that are bound to the cluster. Create a flag array with the same length as the number of stars\n",
    "    in the cluster. The flag array is set to True for the stars that are bound to the cluster and False for the stars that are\n",
    "    unbound. The function returns the flag array, the center of mass of the cluster and the tidal radius of the cluster.\n",
    "\n",
    "    Parameters\n",
    "    ----------\n",
    "    position : npt.NDArray[np.float64]\n",
    "        Array with the positions of the stars at each snapshot\n",
    "\n",
    "    velocity : npt.NDArray[np.float64]\n",
    "        Array with the velocities of the stars at each snapshot\n",
    "\n",
    "    mass : npt.NDArray[np.float64]\n",
    "        Array with the mass of the stars at each snapshot\n",
    "\n",
    "    N : int\n",
    "        Number of stars in the cluster\n",
    "\n",
    "    M_G : float\n",
    "        Mass of the galaxy\n",
    "    \"\"\"\n",
    "\n",
    "    flag_history = []\n",
    "    com_history = []\n",
    "    vel_com_history = []\n",
    "    rt_history = []\n",
    "\n",
    "    flag = np.ones(N, dtype=bool)\n",
    "    for snapshot in range(len(position)):\n",
    "        pos_snap, vel_snap = position[snapshot], velocity[snapshot]\n",
    "\n",
    "        current_flag = np.zeros(N, dtype=bool)\n",
    "\n",
    "        while not np.array_equal(flag, current_flag):\n",
    "            current_flag = flag.copy()\n",
    "\n",
    "            # Calculate center of mass\n",
    "            if np.any(flag):\n",
    "                pos_com_snap = np.average(pos_snap[flag], axis=0, weights=mass[snapshot][flag])\n",
    "                vel_com_snap = np.average(vel_snap[flag], axis=0, weights=mass[snapshot][flag])\n",
    "            else:\n",
    "                pos_com_snap = np.zeros_like(pos_snap[0])\n",
    "                vel_com_snap = np.zeros_like(vel_snap[0])\n",
    "\n",
    "            # Calculate distances to the center of mass\n",
    "            distances_to_com = np.sqrt(np.sum((pos_snap - pos_com_snap)**2, axis=1))\n",
    "\n",
    "            # Calculate tidal radius\n",
    "            r_t = np.linalg.norm(pos_com_snap) * (np.sum(mass[snapshot][flag]) / M_G) ** (1 / 3)\n",
    "\n",
    "            # Update flag based on tidal radius\n",
    "            flag = distances_to_com < 2 * r_t\n",
    "\n",
    "        flag_history.append(flag)\n",
    "        com_history.append(pos_com_snap)\n",
    "        rt_history.append(r_t)\n",
    "        vel_com_history.append(vel_com_snap)\n",
    "\n",
    "    return flag_history, com_history, rt_history, vel_com_history\n"
   ]
  },
  {
   "cell_type": "code",
   "execution_count": null,
   "id": "3b49cc32-abc7-4817-9fd6-6db8b296dac9",
   "metadata": {},
   "outputs": [],
   "source": [
    "tidal2_history = []\n",
    "flag_history = []\n",
    "com_history = []\n",
    "vel_com_history = []\n",
    "flag = np.ones(N, dtype=bool)\n",
    "for snapshot in range(len(position)):\n",
    "    current_flag = np.zeros(N, dtype=bool)   #this condition is used to enter the while loop\n",
    "    while flag.sum() - current_flag.sum() != 0: \n",
    "        current_flag = flag.copy()\n",
    "        pos_snap, vel_snap = position[snapshot], velocity[snapshot]\n",
    "        pos_snap_flag, vel_snap_flag = position[snapshot][flag], velocity[snapshot][flag]\n",
    "        pos_com_snap, vel_com_snap = np.mean(pos_snap_flag, axis=0), np.mean(vel_snap_flag, axis=0)\n",
    "        \n",
    "        pos_FoR = pos_snap - pos_com_snap\n",
    "        vel_FoR = vel_snap - vel_com_snap\n",
    "        \n",
    "        r_t = np.linalg.norm(pos_com_snap) * (np.sum(mass[snapshot][flag])/M_G)**(1/3)\n",
    "        flag = (np.linalg.norm(pos_FoR, axis=1) < 2*r_t) #in of the Cluster\n",
    "        # print(snapshot, flag.sum())\n",
    "    flag_history.append(flag)\n",
    "    com_history.append(pos_com_snap)\n",
    "    vel_com_history.append(vel_com_snap)\n",
    "    tidal2_history.append(r_t)"
   ]
  },
  {
   "cell_type": "markdown",
   "id": "9331c992-715f-418f-91f1-c0586dca4282",
   "metadata": {
    "jp-MarkdownHeadingCollapsed": true
   },
   "source": [
    "## Some plots and gif"
   ]
  },
  {
   "cell_type": "markdown",
   "id": "c989192e-9a76-4714-a353-5c3c3a47fa37",
   "metadata": {
    "jp-MarkdownHeadingCollapsed": true
   },
   "source": [
    "### Distance between true CoM and iterative CoM in tidal radius"
   ]
  },
  {
   "cell_type": "code",
   "execution_count": null,
   "id": "d0bec7e8-2618-49f2-8308-b0118fb67bb0",
   "metadata": {},
   "outputs": [],
   "source": [
    "fig = plt.figure()\n",
    "ax = fig.add_subplot()\n",
    "ax.plot(np.linalg.norm(np.array(com_history) - position[:].mean(axis=1), axis=1))\n",
    "ax.set_xlabel('Time')\n",
    "ax.set_ylabel(r'$\\Delta (r_{CoM} - r_{tidalCoM})$')"
   ]
  },
  {
   "cell_type": "markdown",
   "id": "a3cc565e-db93-4593-bfed-f95aeb5915de",
   "metadata": {
    "jp-MarkdownHeadingCollapsed": true
   },
   "source": [
    "### Tidal Center of Mass gif"
   ]
  },
  {
   "cell_type": "code",
   "execution_count": null,
   "id": "6f7f92aa-9d96-425a-b4e7-4e38df352df3",
   "metadata": {},
   "outputs": [],
   "source": [
    "# ### downsampling\n",
    "# m = 2\n",
    "\n",
    "# pos_array_plot = position.copy() #the copy is useful to not overwrite pos_array (otherwise you would need to rerun the integration, we don't want that)\n",
    "\n",
    "# fig = plt.figure(figsize=(15,15))\n",
    "# ax = fig.add_subplot(projection='3d')\n",
    "# plt.rcParams['font.size'] = '16'\n",
    "# plt.rcParams['lines.linewidth'] = '4'\n",
    "# plt.rcParams['axes.titlesize'] = '20'\n",
    "# plt.rcParams['axes.titlepad'] = '17'\n",
    "# plt.rcParams['axes.labelsize'] = '24'\n",
    "# plt.rcParams['legend.fontsize'] = '20'\n",
    "# plt.rcParams['axes.labelpad'] = '12'\n",
    "# plt.rcParams['axes.titleweight'] = '600'\n",
    "# plt.rcParams['axes.labelweight'] = '500'\n",
    "# plt.rcParams['xtick.labelsize'] = '20'\n",
    "# plt.rcParams['ytick.labelsize'] = '20'\n",
    "# plt.rcParams['xtick.major.size'] = '10'\n",
    "# plt.rcParams['ytick.major.size'] = '10'\n",
    "# plt.rcParams['ytick.minor.size'] = '4'\n",
    "\n",
    "# # Calculate the number of extra frames to add at the beginning and the end\n",
    "# pause_duration = 5  # pause duration in seconds start\n",
    "# pause_duration_end = 1  # pause duration in seconds end\n",
    "# frame_rate = 15  # frame rate of the animation\n",
    "# extra_frames = pause_duration * frame_rate\n",
    "# extra_frames_end = pause_duration_end * frame_rate\n",
    "\n",
    "# # Create an array of frame indices\n",
    "# frames = np.concatenate([\n",
    "#     np.full(int(extra_frames), 0),  # initial frame (pause\n",
    "#     np.arange(0, len(pos_array_plot[:])-1, m),  # original frames\n",
    "#     np.full(int(extra_frames_end), len(pos_array_plot[:])-2)  # extra frames at the end\n",
    "# ])\n",
    "\n",
    "# snapshot = 0\n",
    "# pos_snap = position[snapshot] - com_history[snapshot]\n",
    "# flag = flag_history[snapshot]\n",
    "# ax.scatter(pos_snap[flag, 0], pos_snap[flag, 1], pos_snap[flag, 2], label=r'$r < 2r_{t}$', s=1, alpha=0.5, zorder=-1)\n",
    "# ax.scatter(pos_snap[~flag, 0], pos_snap[~flag, 1], pos_snap[~flag, 2], label=r'$r> 2r_{t}$', s=1, alpha=0.5, zorder=-1)\n",
    "# ax.scatter(com_history[snapshot][0] - com_history[snapshot][0], com_history[snapshot][1]-com_history[snapshot][1], com_history[snapshot][2]-com_history[snapshot][2], s=15, label='iterative CoM', zorder=1)\n",
    "# ax.scatter(position[snapshot].mean(axis=0)[0]- com_history[snapshot][0], position[snapshot].mean(axis=0)[1]- com_history[snapshot][1], position[snapshot].mean(axis=0)[2]- com_history[snapshot][2], s=15, label='true CoM', zorder=1)\n",
    "# ax.set_xlim(-initial_position, initial_position)\n",
    "# ax.set_ylim(-initial_position, initial_position)\n",
    "# ax.set_zlim(-initial_position, initial_position)\n",
    "# ax.set_xlabel('X')\n",
    "# ax.set_ylabel('Y')\n",
    "# ax.set_zlabel('Z')\n",
    "# ax.legend('upper left')\n",
    "\n",
    "\n",
    "# def update_pos(frame): \n",
    "#     ax.clear()\n",
    "    \n",
    "#     pos_snap = position[frame] - com_history[frame]\n",
    "#     flag = flag_history[frame]\n",
    "#     ax.scatter(pos_snap[flag, 0], pos_snap[flag, 1], pos_snap[flag, 2], label=r'$r < 2r_{t}$', s=1, alpha=0.5, zorder=-1)\n",
    "#     ax.scatter(pos_snap[~flag, 0], pos_snap[~flag, 1], pos_snap[~flag, 2], label=r'$r> 2r_{t}$', s=1, alpha=0.5, zorder=-1)\n",
    "#     ax.scatter(com_history[frame][0] - com_history[frame][0], com_history[frame][1]-com_history[frame][1], com_history[frame][2]-com_history[frame][2], s=15, label='iterative CoM', zorder=1)\n",
    "#     ax.scatter(position[frame].mean(axis=0)[0]- com_history[frame][0], position[frame].mean(axis=0)[1]- com_history[frame][1], position[frame].mean(axis=0)[2]- com_history[frame][2], s=15, label='true CoM', zorder=1)\n",
    "\n",
    "    \n",
    "#     ax.set_xlim(-initial_position, initial_position)\n",
    "#     ax.set_ylim(-initial_position, initial_position)\n",
    "#     ax.set_zlim(-initial_position, initial_position)\n",
    "#     ax.set_xlabel('X')\n",
    "#     ax.set_ylabel('Y')\n",
    "#     ax.set_zlabel('Z')\n",
    "#     ax.legend('upper left')\n",
    "#     ax.set_title(f'Tidal distruption of Plummer spehere, recursive tidal radius approach, \\n {N} stars, initial position:{initial_position}, FoR recursive tidal CoM')\n",
    "#     ax.legend(loc='upper left')\n",
    "    \n",
    "#     # fig.suptitle(f'Tidal distruption of Plummer spehere, recursive tidal radius approach', \n",
    "#     #              fontsize=24, fontweight='600')\n",
    "\n",
    "# print(f\"Starting Position Animation: {N}_InitialPos_{initial_position}.gif \")\n",
    "\n",
    "# gif_pos = animation.FuncAnimation(fig=fig, func=update_pos, frames=frames, interval=10)\n",
    "# gif_pos.save(f\"./gif/Cluster_FoR_recursive_tidalCoM/{N}_InitialPos_{initial_position}.gif\", writer=\"pillow\")\n",
    "\n",
    "# print(f\"Position Animation Saved: {N}_InitialPos_{initial_position}.gif\")"
   ]
  },
  {
   "cell_type": "markdown",
   "id": "bac95df4-da8a-4d94-bdc7-4397c9d15d96",
   "metadata": {},
   "source": [
    "# Analysis considering all the stars not just the one in the tidal radius"
   ]
  },
  {
   "cell_type": "markdown",
   "id": "23aae6b8-7ad1-47b8-bb82-1743a3700eec",
   "metadata": {
    "jp-MarkdownHeadingCollapsed": true
   },
   "source": [
    "### %_mass_radius\n",
    "For N=5000 and initial_position=10 before T=50 it is possible to appriciate the negative heat capacity   "
   ]
  },
  {
   "cell_type": "code",
   "execution_count": null,
   "id": "a9bbfb5c-b7d5-487a-8757-27811e1b0ff6",
   "metadata": {},
   "outputs": [],
   "source": [
    "position_comFoR = np.zeros_like(position)\n",
    "for i in range(len(position)):\n",
    "    position_comFoR[i] = position[i] - np.array(com_history[i])\n",
    "\n",
    "tenperc_mass_radius = []\n",
    "half_mass_radius = []\n",
    "ninethyperc_mass_radius = []\n",
    "\n",
    "for i in range(int(len(position_comFoR))):\n",
    "    current_radius = np.linalg.norm(position_comFoR[i], axis=1)\n",
    "    sorted_radius = sorted(current_radius)\n",
    "    tenperc_mass_radius.append(sorted_radius[int(N/10)])\n",
    "    half_mass_radius.append(sorted_radius[int(N/2)])\n",
    "    ninethyperc_mass_radius.append(sorted_radius[int(9*N/10)])\n",
    "fig = plt.figure(figsize=(10, 10))\n",
    "ax = fig.add_subplot()\n",
    "ax.plot(tenperc_mass_radius, label='10% mass radius')\n",
    "ax.plot(half_mass_radius, label='half mass radius')\n",
    "ax.plot(ninethyperc_mass_radius, label='90% mass radius')\n",
    "ax.axvline(x=50, linestyle='--', c='r', linewidth=1, label='T=50')\n",
    "\n",
    "ax.legend()\n",
    "ax.grid(linestyle='dotted')\n",
    "ax.set_xlabel('Time [Henon unit]')\n",
    "ax.set_ylabel('Radius [Henon unit]') \n",
    "# ax.set_xlim((0, 60))\n",
    "# ax.set_ylim((0, 2))"
   ]
  },
  {
   "cell_type": "markdown",
   "id": "5bb5c435-b689-49df-9010-59c4e85dc14e",
   "metadata": {
    "jp-MarkdownHeadingCollapsed": true
   },
   "source": [
    "### Density profile "
   ]
  },
  {
   "cell_type": "code",
   "execution_count": null,
   "id": "f03a987a-496b-40cd-8026-afbb8bb810a5",
   "metadata": {},
   "outputs": [],
   "source": [
    "n_bins=10\n",
    "time = 2\n",
    "pos_snapshot = position_comFoR[time][flag_history[time]]\n",
    "radius_snapshot = np.linalg.norm(pos_snapshot, axis=1)\n",
    "counts, bin_edges = np.histogram(radius_snapshot, bins=n_bins)\n",
    "Vol_shell = 4/3 *np.pi* (bin_edges[1:]**3 - bin_edges[:-1]**3)\n",
    "density = counts / Vol_shell\n",
    "radius_shell = 1/2 * (bin_edges[1:] + bin_edges[:-1])\n",
    "\n",
    "fig = plt.figure(figsize=(7, 5))\n",
    "ax = fig.add_subplot()\n",
    "ax.plot(radius_shell, density)\n",
    "ax.set_xlabel(r'$R_{shell}$ [Henon units]')\n",
    "ax.set_ylabel(r'$\\rho [\\frac{Mass}{R_{shell}}]$ ')\n",
    "ax.set_title(f'Time: {time}')"
   ]
  },
  {
   "cell_type": "code",
   "execution_count": null,
   "id": "7a177e4e-240d-4dd1-bcac-89db0062573f",
   "metadata": {},
   "outputs": [],
   "source": [
    "fig = plt.figure(figsize=(10, 7))\n",
    "ax = fig.add_subplot()\n",
    "time_to_plot = [0, 1, 10, 50, 100, 150, 300]\n",
    "color = cm.rainbow(np.linspace(0, 1, len(time_to_plot)))\n",
    "\n",
    "for k, c in enumerate(color):\n",
    "    time = time_to_plot[k]\n",
    "    pos_snapshot = position_comFoR[time][flag_history[time]]\n",
    "    radius_snapshot = np.linalg.norm(pos_snapshot, axis=1)\n",
    "    counts, bin_edges = np.histogram(radius_snapshot, bins=10)\n",
    "    Vol_shell = 4/3 *np.pi* (bin_edges[1:]**3 - bin_edges[:-1]**3)\n",
    "    density = counts / Vol_shell\n",
    "    radius_shell = 1/2 * (bin_edges[1:] + bin_edges[:-1])\n",
    "    \n",
    "    ax.plot(radius_shell, density, color=c, label=f'Time:{time}', linewidth=2)\n",
    "    ax.set_xlabel(r'$R_{shell}$ [Henon units]')\n",
    "    ax.set_ylabel(r'$\\rho [\\frac{Mass}{R_{shell}}]$ ')\n",
    "    ax.set_xlim(0, 2)\n",
    "    ax.legend(loc='upper right', fontsize=10)\n",
    "    ax.set_title(f'Density across time')"
   ]
  },
  {
   "cell_type": "markdown",
   "id": "dac62fe2-92c2-4a12-a56c-c8c2013ef231",
   "metadata": {
    "jp-MarkdownHeadingCollapsed": true
   },
   "source": [
    "### Kinematics "
   ]
  },
  {
   "cell_type": "markdown",
   "id": "5d73e03f-0da5-450c-b3b4-4d4758a4773a",
   "metadata": {},
   "source": [
    "#### Bin the radius into shell, for each shell count the velocioty dispersion"
   ]
  },
  {
   "cell_type": "code",
   "execution_count": null,
   "id": "b9f635b1-1bd8-4da1-86f2-efd41273fd96",
   "metadata": {},
   "outputs": [],
   "source": [
    "fig = plt.figure(figsize=(10, 7))\n",
    "ax = fig.add_subplot()\n",
    "for k, time in enumerate([0, 1, 2, 5, 7, 10, 25, 50]):\n",
    "    pos_snapshot = position_comFoR[time]\n",
    "    radius_snapshot = np.linalg.norm(pos_snapshot, axis=1)\n",
    "    counts, bin_edges = np.histogram(radius_snapshot, bins=10)\n",
    "    radius_shell = 1/2 * (bin_edges[1:] + bin_edges[:-1]) #needed to plot\n",
    "    \n",
    "    bins_index = np.digitize(radius_snapshot, bins=bin_edges) #return the index of the bin for each radius\n",
    "    \n",
    "    vel_snapshot = velocity_comFoR[time]\n",
    "    vel_modul_snapshot = np.linalg.norm(vel_snapshot, axis=1)\n",
    "    \n",
    "    vel_modul_snaphost_binned = [vel_modul_snapshot[bins_index==i].tolist() for i in range(1, len(bin_edges)) ] #binning the velocity as the radius\n",
    "    \n",
    "    velocity_dispersion = []\n",
    "    for i in range(len(bin_edges)-1):\n",
    "        velocity_dispersion.append(np.array(vel_modul_snaphost_binned[i]).std())\n",
    "    \n",
    "    ax.plot(radius_shell, np.array(velocity_dispersion)-5*k, label=f'Time: {time}')\n",
    "    ax.set_xlabel('Radius')\n",
    "    ax.set_ylabel('Velocity dispersion in the Shell')\n",
    "    ax.legend()"
   ]
  },
  {
   "cell_type": "markdown",
   "id": "a3ecc3c6-78c7-43d0-9bb4-8efc37c023bd",
   "metadata": {},
   "source": [
    "#### Instead of shell uses sphere (cumulative of the shell)"
   ]
  },
  {
   "cell_type": "code",
   "execution_count": null,
   "id": "3128df76-a1fd-4e63-84b1-b2536cb189f8",
   "metadata": {},
   "outputs": [],
   "source": [
    "fig = plt.figure(figsize=(10, 7))\n",
    "ax = fig.add_subplot()\n",
    "for k, time in enumerate([0, 1, 2, 5, 7, 10, 25, 50]):\n",
    "    pos_snapshot = position_comFoR[time]\n",
    "    radius_snapshot = np.linalg.norm(pos_snapshot, axis=1)\n",
    "    counts, bin_edges = np.histogram(radius_snapshot, bins=5)\n",
    "    radius_shell = 1/2 * (bin_edges[1:] + bin_edges[:-1]) #needed to plot\n",
    "    \n",
    "    bins_index = np.digitize(radius_snapshot, bins=bin_edges) #return the index of the bin for each radius\n",
    "    \n",
    "    vel_snapshot = velocity_comFoR[time]\n",
    "    vel_modul_snapshot = np.linalg.norm(vel_snapshot, axis=1)\n",
    "    \n",
    "    comulative_vel_modul_snaphost_binned = [vel_modul_snapshot[bins_index<=i].tolist() for i in range(1, len(bin_edges)) ] #binning the velocity as the radius\n",
    "    \n",
    "    comulative_velocity_dispersion = []\n",
    "    for i in range(len(bin_edges)-1):\n",
    "        comulative_velocity_dispersion.append(np.array(comulative_vel_modul_snaphost_binned[i]).std())\n",
    "    \n",
    "    ax.plot(radius_shell, np.array(comulative_velocity_dispersion)-2*k, label=f'Time: {time}')\n",
    "    ax.set_xlabel('Radius')\n",
    "    ax.set_ylabel('Velocity dispersion in the Sphere')\n",
    "    ax.legend()"
   ]
  },
  {
   "cell_type": "markdown",
   "id": "c3abce62-ba06-471d-a85f-f436af255215",
   "metadata": {},
   "source": [
    "# Analysis considering only the stars inside the tidal radius"
   ]
  },
  {
   "cell_type": "markdown",
   "id": "f25b29f1-1abd-4c7f-97f8-81bb625d240c",
   "metadata": {},
   "source": [
    "### %_mass_radius\n",
    "For N=5000 and initial_position=10 before T=50 it is possible to appriciate the negative heat capacity   "
   ]
  },
  {
   "cell_type": "code",
   "execution_count": null,
   "id": "d68a5771-9697-475f-9282-5f27a798c381",
   "metadata": {},
   "outputs": [],
   "source": [
    "position_comFoR = np.zeros_like(position)\n",
    "for i in range(len(position)):\n",
    "    position_comFoR[i] = position[i] - np.array(com_history[i])\n",
    "\n",
    "\n",
    "tenperc_mass_radius = []\n",
    "half_mass_radius = []\n",
    "ninethyperc_mass_radius = []\n",
    "\n",
    "for time in range(int(len(position_comFoR))):\n",
    "    position_comFoR_flagged = position_comFoR[time][flag_history[time]]\n",
    "    N_flagged = len(position_comFoR_flagged)\n",
    "    current_radius = np.linalg.norm(position_comFoR[time], axis=1)\n",
    "    sorted_radius = sorted(current_radius)\n",
    "    tenperc_mass_radius.append(sorted_radius[int(N_flagged/10)])\n",
    "    half_mass_radius.append(sorted_radius[int(N_flagged/2)])\n",
    "    ninethyperc_mass_radius.append(sorted_radius[int(9*N_flagged/10)])\n",
    "fig = plt.figure(figsize=(10, 6))\n",
    "ax = fig.add_subplot()\n",
    "ax.plot(tenperc_mass_radius, label='10% mass radius')\n",
    "ax.plot(half_mass_radius, label='half mass radius')\n",
    "ax.plot(ninethyperc_mass_radius, label='90% mass radius')\n",
    "\n",
    "ax.legend()\n",
    "ax.grid(linestyle='dotted')\n",
    "ax.set_xlabel('Time [Henon unit]')\n",
    "ax.set_ylabel('Radius [Henon unit]') \n",
    "# ax.set_xlim((0, 60))\n",
    "# ax.set_ylim((0, 2))"
   ]
  },
  {
   "cell_type": "markdown",
   "id": "4dd1277f-c54d-4073-b4c4-1f57bc8fb6ba",
   "metadata": {
    "jp-MarkdownHeadingCollapsed": true
   },
   "source": [
    "### Density profile n_bins is the number of shell considered"
   ]
  },
  {
   "cell_type": "code",
   "execution_count": null,
   "id": "bd9ac360-44ef-4639-a047-cc14588f5e72",
   "metadata": {},
   "outputs": [],
   "source": [
    "n_bins=5\n",
    "\n",
    "fig = plt.figure(figsize=(10, 7))\n",
    "ax = fig.add_subplot()\n",
    "time_to_plot = [0, 1, 2, 5, 10, 50]\n",
    "color = cm.rainbow(np.linspace(0, 1, len(time_to_plot)))\n",
    "\n",
    "for k, c in enumerate(color):\n",
    "    time = time_to_plot[k]\n",
    "    position_comFoR_flagged = position_comFoR[time][flag_history[time]]\n",
    "    radius_snapshot = np.linalg.norm(position_comFoR_flagged, axis=1)\n",
    "    counts, bin_edges = np.histogram(radius_snapshot, bins=n_bins)\n",
    "    Vol_shell = 4/3 *np.pi* (bin_edges[1:]**3 - bin_edges[:-1]**3)\n",
    "    density = counts / Vol_shell\n",
    "    radius_shell = 1/2 * (bin_edges[1:] + bin_edges[:-1])\n",
    "    \n",
    "    ax.plot(radius_shell, density, color=c, label=f'Time:{time}', linewidth=2)\n",
    "    ax.set_xlabel(r'$R_{shell}$ [Henon units]')\n",
    "    ax.set_ylabel(r'$\\rho [\\frac{Mass}{R_{shell}}]$ ')\n",
    "    ax.set_xlim(0, 2)\n",
    "    ax.legend(loc='upper right', fontsize=10)\n",
    "    ax.set_title(f'Density across time')"
   ]
  },
  {
   "cell_type": "markdown",
   "id": "302f7b0f-88a9-4ee6-86de-22ec3893da3f",
   "metadata": {
    "jp-MarkdownHeadingCollapsed": true
   },
   "source": [
    "### Kinematics  with velocity dispersion in shell and cumulative till the half mass radius"
   ]
  },
  {
   "cell_type": "markdown",
   "id": "3794d740-a10a-4925-afa9-a7bb2487bd17",
   "metadata": {
    "jp-MarkdownHeadingCollapsed": true
   },
   "source": [
    "#### Bin the radius into shell, for each shell count the velocioty dispersion"
   ]
  },
  {
   "cell_type": "code",
   "execution_count": null,
   "id": "1e184129-1370-45e4-9d9e-e79cc40111e3",
   "metadata": {},
   "outputs": [],
   "source": [
    "fig = plt.figure(figsize=(10, 7))\n",
    "ax = fig.add_subplot()\n",
    "time_to_plot = np.arange(0, len(position_comFoR), 5)\n",
    "color = cm.rainbow(np.linspace(0, 1, len(time_to_plot)))\n",
    "n_bins=10\n",
    "\n",
    "for k, c in enumerate(color):\n",
    "    time = time_to_plot[k]\n",
    "    position_comFoR_flagged = position_comFoR[time][flag_history[time]]\n",
    "    radius_snapshot = np.linalg.norm(position_comFoR_flagged, axis=1)\n",
    "    counts, bin_edges = np.histogram(radius_snapshot, bins=n_bins)\n",
    "    radius_shell = 1/2 * (bin_edges[1:] + bin_edges[:-1]) #needed to plot\n",
    "    \n",
    "    bins_index = np.digitize(radius_snapshot, bins=bin_edges) #return the index of the bin for each radius\n",
    "    \n",
    "    vel_snapshot = velocity[time][flag_history[time]]-np.linalg.norm(vel_com_history[time]) #- vel_com_history[time]\n",
    "    vel_modul_snapshot = np.linalg.norm(vel_snapshot, axis=1)\n",
    "    \n",
    "    vel_modul_snaphost_binned = [vel_modul_snapshot[bins_index==i].tolist() for i in range(1, len(bin_edges)) ] #binning the velocity as the radius\n",
    "    \n",
    "    velocity_dispersion = []\n",
    "    for i in range(len(bin_edges)-1):\n",
    "        velocity_dispersion.append(np.array(vel_modul_snaphost_binned[i]).std())\n",
    "    \n",
    "    ax.plot(radius_shell, np.array(velocity_dispersion), label=f'Time: {time}', color=c)\n",
    "    ax.set_xlabel('Radius')\n",
    "    ax.set_ylabel('Velocity dispersion in the Shell')\n",
    "    # ax.legend()"
   ]
  },
  {
   "cell_type": "markdown",
   "id": "d763db4a-cccf-49f6-826a-895881221032",
   "metadata": {
    "jp-MarkdownHeadingCollapsed": true
   },
   "source": [
    "#### velocity dispersion at the r_h"
   ]
  },
  {
   "cell_type": "code",
   "execution_count": null,
   "id": "3ebdac39-4751-4beb-9221-0ed20737a46a",
   "metadata": {},
   "outputs": [],
   "source": [
    "fig = plt.figure(figsize=(10, 7))\n",
    "ax = fig.add_subplot()\n",
    "time_to_plot = np.arange(0, len(position_comFoR), 5)\n",
    "color = cm.rainbow(np.linspace(0, 1, len(time_to_plot)))\n",
    "n_bins=10\n",
    "\n",
    "velocity_dispersion_half_mass_radius = []\n",
    "\n",
    "for k, c in enumerate(color):\n",
    "    time = time_to_plot[k]\n",
    "    position_comFoR_flagged = position_comFoR[time][flag_history[time]]\n",
    "    radius_snapshot = np.linalg.norm(position_comFoR_flagged, axis=1)\n",
    "    half_mass_radius = np.sort(radius_snapshot)[int(len(radius_snapshot)/2)]\n",
    "    \n",
    "    vel_snapshot = velocity[time][flag_history[time]]-np.linalg.norm(vel_com_history[time]) #- vel_com_history[time]\n",
    "    vel_modul_snapshot = np.linalg.norm(vel_snapshot, axis=1)\n",
    "    \n",
    "    vel_half_mass_radius =  vel_modul_snapshot[np.argsort(radius_snapshot)]\n",
    "    vel_half_mass_radius =  vel_half_mass_radius[:int(len(vel_half_mass_radius/2))]\n",
    "    std_half_mass_radius = vel_half_mass_radius.std()\n",
    "    velocity_dispersion_half_mass_radius.append(std_half_mass_radius)\n",
    "    \n",
    "    ax.scatter(half_mass_radius, std_half_mass_radius, label=f'Time: {time}', color=c)\n",
    "    ax.set_xlabel('Radius')\n",
    "    ax.set_ylabel('Velocity dispersion in the Shell')"
   ]
  },
  {
   "cell_type": "markdown",
   "id": "9c70592e-4201-43f8-b05f-dc22a3c8cb3f",
   "metadata": {
    "jp-MarkdownHeadingCollapsed": true
   },
   "source": [
    "## Mass loss"
   ]
  },
  {
   "cell_type": "code",
   "execution_count": null,
   "id": "fbf55fef-f08c-47b4-bade-c5d2b5378323",
   "metadata": {},
   "outputs": [],
   "source": [
    "flag_history = np.array(flag_history)\n",
    "mass_loss = abs(flag_history[1:, :].sum(axis=1) - flag_history[:-1, :].sum(axis=1))\n",
    "mass_loss_cum = np.cumsum(mass_loss)\n",
    "\n",
    "fig = plt.figure(figsize=(10, 5), layout='tight')\n",
    "ax = fig.add_subplot(121)\n",
    "ax.plot(mass_loss)\n",
    "ax.set_xlabel('Time')\n",
    "ax.set_ylabel('Mass Loss')\n",
    "ax = fig.add_subplot(122)\n",
    "ax.plot(mass_loss_cum)\n",
    "ax.set_xlabel('Time')\n",
    "ax.set_ylabel('Cum Mass Loss')"
   ]
  },
  {
   "cell_type": "markdown",
   "id": "fa00fcb4-28a0-4687-9178-656d2b75b58e",
   "metadata": {
    "jp-MarkdownHeadingCollapsed": true
   },
   "source": [
    "## Tidal Radius"
   ]
  },
  {
   "cell_type": "code",
   "execution_count": null,
   "id": "89a779f2-7157-4fb6-ad52-6742f620cd7c",
   "metadata": {},
   "outputs": [],
   "source": [
    "plt.plot(tidal2_history, label='tidal radius')\n",
    "plt.plot(0.14*np.linalg.norm(com_history, axis=1), label=r'0.14$R_G$')\n",
    "plt.legend()"
   ]
  },
  {
   "cell_type": "markdown",
   "id": "7fbe1230-cd9f-494d-a1c5-dee163508202",
   "metadata": {
    "jp-MarkdownHeadingCollapsed": true
   },
   "source": [
    "# Orbit of the two center of mass (true vs iterative) "
   ]
  },
  {
   "cell_type": "code",
   "execution_count": null,
   "id": "041f3cdb-a7e2-44c2-b575-0241b72787e1",
   "metadata": {},
   "outputs": [],
   "source": [
    "m = 2\n",
    "cmap = plt.colormaps['magma']\n",
    "cmap2 = plt.colormaps['viridis']\n",
    "com_history = np.array(com_history)\n",
    "step = np.arange(0, len(com_history), m)\n",
    "\n",
    "fig = plt.figure(figsize=(15, 5))\n",
    "ax = fig.add_subplot(121)\n",
    "ax.scatter(position[::m, :, 0].mean(axis=1), position[::m, :, 1].mean(axis=1), c=step,  marker='x', label='center of mass', cmap=cmap)\n",
    "ax.scatter(com_history[::m, 0], com_history[::m, 1], c=step, marker='.', label='iterative center of mass', cmap=cmap2)\n",
    "ax.scatter(position[0, :, 0].mean(), position[0, :, 1].mean(), marker='X', s=100, label='starting point', color='black')\n",
    "ax.scatter(0, 0, marker='.', s=100, label='Point Mass', color='red')\n",
    "\n",
    "ax.set_xlabel('X [Henon Unit]')\n",
    "ax.set_ylabel('Y [Henon Unit]')\n",
    "ax.legend(loc='best')\n",
    "\n",
    "ax2 = fig.add_subplot(122)\n",
    "ax2.scatter(position[::m, :, 0].mean(axis=1), position[::m, :, 2].mean(axis=1), c=step,  marker='x', label='center of mass', cmap=cmap)\n",
    "ax2.scatter(com_history[::m, 0], com_history[::m, 2], c=step, marker='.', label='iterative center of mass', cmap=cmap2)\n",
    "ax2.scatter(position[0, :, 0].mean(), position[0, :, 2].mean(), marker='X', s=100, label='starting point', color='black')\n",
    "ax2.scatter(0, 0, marker='.', s=100, label='Point Mass', color='red')\n",
    "ax2.set_xlabel('Y [Henon Unit]')\n",
    "ax2.set_ylabel('Z [Henon Unit]')\n",
    "ax2.set_ylim(-initial_position, initial_position)\n",
    "ax2.legend(loc='lower right')"
   ]
  },
  {
   "cell_type": "markdown",
   "id": "ac130065-334a-4d40-99dd-d4095ec82171",
   "metadata": {},
   "source": [
    "# Projection on two planes (X vs Y) and (X vs Z)"
   ]
  },
  {
   "cell_type": "markdown",
   "id": "7b793541-7071-4995-86ce-bb24ea50224d",
   "metadata": {
    "jp-MarkdownHeadingCollapsed": true
   },
   "source": [
    "## Projection on all the particles"
   ]
  },
  {
   "cell_type": "code",
   "execution_count": null,
   "id": "e0fea363-6414-4c89-a43b-ed913a78f40b",
   "metadata": {},
   "outputs": [],
   "source": [
    "important_time = np.linspace(0, len(position)-1, 6, dtype=int)\n",
    "important_time"
   ]
  },
  {
   "cell_type": "code",
   "execution_count": null,
   "id": "05240260-80c2-42ae-9546-98e854b1fe09",
   "metadata": {},
   "outputs": [],
   "source": [
    "cmap = plt.colormaps['magma']\n",
    "com_history = np.array(com_history)\n",
    "step = np.arange(0, len(com_history), 1)\n",
    "\n",
    "\n",
    "for k, time in enumerate(important_time): \n",
    "    fig = plt.figure(figsize=(15, 5))\n",
    "    ax = fig.add_subplot(121)\n",
    "    ax2 = fig.add_subplot(122)\n",
    "\n",
    "\n",
    "    if k>0:\n",
    "        ax.scatter(position[important_time[k-1], :, 0], position[important_time[k-1], :, 1],  marker='.', color='black', alpha=0.5, label=f'Time={important_time[k-1]}')\n",
    "        ax.scatter(com_history[important_time[k-1], 0], com_history[important_time[k-1], 1],  marker='*', color='red', alpha=0.5, label=f'iterative CoM Time={important_time[k-1]}')\n",
    "        ax2.scatter(position[important_time[k-1], :, 0], position[important_time[k-1], :, 2],  marker='.', color='black', alpha=0.5, label=f'Time={important_time[k-1]}')\n",
    "        ax2.scatter(com_history[important_time[k-1], 0], com_history[important_time[k-1], 2],  marker='*', color='red', alpha=0.5, label=f'iterative CoM Time={important_time[k-1]}')\n",
    "        ax.set_xlim(-initial_position-1, initial_position+1)\n",
    "        ax.set_ylim(-initial_position-5, initial_position+5)\n",
    "\n",
    "    ax.scatter(position[time, :, 0], position[time, :, 1],  marker='.', label=f'Time={time}')\n",
    "    ax.scatter(com_history[time, 0], com_history[time, 1],  marker='*', label=f'iterative CoM Time={time}')\n",
    "    ax.scatter(0,0)\n",
    "    ax.set_xlabel('X [Henon Unit]')\n",
    "    ax.set_ylabel('Y [Henon Unit]')\n",
    "    ax.legend()\n",
    "\n",
    "        \n",
    "    ax2.scatter(position[time, :, 0], position[time, :, 2],  marker='.', label=f'Time={time}')\n",
    "    ax2.scatter(com_history[time, 0], com_history[time, 2],  marker='*', label=f'iterative CoM Time={time}')\n",
    "    ax2.set_xlabel('X [Henon Unit]')\n",
    "    ax2.set_ylabel('Z [Henon Unit]')\n",
    "    ax2.legend()"
   ]
  },
  {
   "cell_type": "markdown",
   "id": "4bca6699-bb44-4f8c-b24b-bd45d631897f",
   "metadata": {
    "jp-MarkdownHeadingCollapsed": true
   },
   "source": [
    "## Projection on all the flag"
   ]
  },
  {
   "cell_type": "code",
   "execution_count": null,
   "id": "3132aa6a-69ba-49f2-a00d-8b339750b50f",
   "metadata": {},
   "outputs": [],
   "source": [
    "cmap = plt.colormaps['magma']\n",
    "com_history = np.array(com_history)\n",
    "step = np.arange(0, len(com_history), 1)\n",
    "\n",
    "\n",
    "for k, time in enumerate(important_time): \n",
    "    flag = flag_history[time]\n",
    "    fig = plt.figure(figsize=(15, 5))\n",
    "    ax = fig.add_subplot(121)\n",
    "    ax2 = fig.add_subplot(122)\n",
    "\n",
    "\n",
    "    if k>0:\n",
    "        ax.scatter(0,0)\n",
    "        ax.scatter(position[important_time[k-1], :, 0][flag_history[important_time[k-1]]], position[important_time[k-1], :, 1][flag_history[important_time[k-1]]],  marker='.', color='black', alpha=0.5, label=f'Time={important_time[k-1]}')\n",
    "        ax.scatter(com_history[important_time[k-1], 0], com_history[important_time[k-1], 1],  marker='X', color='red', alpha=0.5, label=f'iterative CoM Time={important_time[k-1]}')\n",
    "        ax2.scatter(position[important_time[k-1], :, 0][flag_history[important_time[k-1]]], position[important_time[k-1], :, 2][flag_history[important_time[k-1]]],  marker='.', color='black', alpha=0.5, label=f'Time={important_time[k-1]}')\n",
    "        ax2.scatter(com_history[important_time[k-1], 0], com_history[important_time[k-1], 2],  marker='X', color='red', alpha=0.5, label=f'iterative CoM Time={important_time[k-1]}')\n",
    "        ax.set_xlim(-initial_position-1, initial_position+1)\n",
    "        ax.set_ylim(-initial_position-1, initial_position+1)\n",
    "        ax.grid()\n",
    "        \n",
    "    ax.scatter(position[time, :, 0][flag], position[time, :, 1][flag],  marker='.', label=f'Time={time}')\n",
    "    ax.scatter(com_history[time, 0], com_history[time, 1],  marker='*', label=f'iterative CoM Time={time}')\n",
    "    ax.set_xlabel('X [Henon Unit]')\n",
    "    ax.set_ylabel('Y [Henon Unit]')\n",
    "    ax.legend()\n",
    "\n",
    "        \n",
    "    ax2.scatter(position[time, :, 0][flag], position[time, :, 2][flag],  marker='.', label=f'Time={time}')\n",
    "    ax2.scatter(com_history[time, 0], com_history[time, 2],  marker='*', label=f'iterative CoM Time={time}')\n",
    "    ax2.set_xlabel('X [Henon Unit]')\n",
    "    ax2.set_ylabel('Z [Henon Unit]')\n",
    "    ax2.set_xlim(-initial_position-1, initial_position+1)\n",
    "    ax2.set_ylim(-initial_position-1, initial_position+1)\n",
    "    ax2.legend()"
   ]
  },
  {
   "cell_type": "markdown",
   "id": "400b6929-d4c7-451a-a281-ab508548717e",
   "metadata": {
    "jp-MarkdownHeadingCollapsed": true
   },
   "source": [
    "## Projection on all the non flag (the stream)"
   ]
  },
  {
   "cell_type": "code",
   "execution_count": null,
   "id": "2eaab329-f041-489c-92b9-72d5b64a60a4",
   "metadata": {},
   "outputs": [],
   "source": [
    "cmap = plt.colormaps['magma']\n",
    "com_history = np.array(com_history)\n",
    "step = np.arange(0, len(com_history), 1)\n",
    "\n",
    "\n",
    "for k, time in enumerate(important_time): \n",
    "    flag = flag_history[time]\n",
    "    no_flag = ~flag\n",
    "    fig = plt.figure(figsize=(15, 5))\n",
    "    ax = fig.add_subplot(121)\n",
    "    ax2 = fig.add_subplot(122)\n",
    "\n",
    "\n",
    "    if k>0:\n",
    "        ax.scatter(position[important_time[k-1], :, 0][no_flag], position[important_time[k-1], :, 1][no_flag],  marker='.', color='black', alpha=0.5, label=f'Time={important_time[k-1]}')\n",
    "        ax.scatter(com_history[important_time[k-1], 0], com_history[important_time[k-1], 1],  marker='X', color='red', alpha=0.5, label=f'iterative CoM Time={important_time[k-1]}')\n",
    "        ax2.scatter(position[important_time[k-1], :, 0][no_flag], position[important_time[k-1], :, 2][no_flag],  marker='.', color='black', alpha=0.5, label=f'Time={important_time[k-1]}')\n",
    "        ax2.scatter(com_history[important_time[k-1], 0], com_history[important_time[k-1], 2],  marker='X', color='red', alpha=0.5, label=f'iterative CoM Time={important_time[k-1]}')\n",
    "        ax.set_xlim(-initial_position-1, initial_position+1)\n",
    "        ax.set_ylim(-initial_position-5, initial_position+5)\n",
    "        ax2.set_xlim(-initial_position-1, initial_position+1)\n",
    "        ax2.set_ylim(-initial_position-5, initial_position+5)\n",
    "\n",
    "    ax.scatter(position[time, :, 0][no_flag], position[time, :, 1][no_flag],  marker='.', label=f'Time={time}')\n",
    "    ax.scatter(com_history[time, 0], com_history[time, 1],  marker='*', label=f'iterative CoM Time={time}')\n",
    "    ax.set_xlabel('X [Henon Unit]')\n",
    "    ax.set_ylabel('Y [Henon Unit]')\n",
    "    ax.legend()\n",
    "    circle = plt.Circle((com_history[time][0], com_history[time][1]), tidal2_history[time], color='r', fill=False, label=r'R< $2r_t$')\n",
    "\n",
    "    ax.add_patch(circle)\n",
    "\n",
    "        \n",
    "    ax2.scatter(position[time, :, 0][no_flag], position[time, :, 2][no_flag],  marker='.', label=f'Time={time}')\n",
    "    ax2.scatter(com_history[time, 0], com_history[time, 2],  marker='*', label=f'iterative CoM Time={time}')\n",
    "    ax2.set_xlabel('X [Henon Unit]')\n",
    "    ax2.set_ylabel('Z [Henon Unit]')\n",
    "    ax2.legend()"
   ]
  },
  {
   "cell_type": "markdown",
   "id": "ad01636b-8385-442c-abdb-d121a48dec98",
   "metadata": {
    "jp-MarkdownHeadingCollapsed": true
   },
   "source": [
    "# Tidal stream: Rotation on CoM position and polar coordinates, test with DBSCAN"
   ]
  },
  {
   "cell_type": "code",
   "execution_count": null,
   "id": "956c6d9f-ce5e-4d5e-9e40-0c1288eba65a",
   "metadata": {},
   "outputs": [],
   "source": [
    "fig=plt.figure(figsize=(15, 7), layout='tight')\n",
    "for i, time in enumerate(important_time[1:]):\n",
    "    com = com_history[time]\n",
    "    flag=flag_history[time]\n",
    "    no_flag=~flag\n",
    "    X = np.stack((position[time, :, 0][no_flag], position[time, :, 1][no_flag], np.zeros_like(position[time, :, 1][no_flag])), axis=1)\n",
    "    avg_distance = np.linalg.norm((position[time][flag]-com_history[time]), axis=1).mean()\n",
    "    \n",
    "    clustering = DBSCAN(eps=avg_distance, min_samples=2).fit(X)\n",
    "    cluster = clustering.fit_predict(X)\n",
    "    name_cluster, num_part = np.unique(cluster, return_counts=True)\n",
    "    cluster[cluster!=name_cluster[np.argmax(num_part)]] = name_cluster[np.argmin(num_part)]\n",
    "    \n",
    "    r_com, theta_com, phi_com = cartesian2spherical([com[0], com[1], com[2]], out_type='rad')\n",
    "    c, s = np.cos(phi_com), np.sin(phi_com)\n",
    "    R = np.array(((c, -s), (s, c)))\n",
    "    X[:, :2] = np.dot(X[:, :2], R)\n",
    "    r, phi, theta = cartesian2spherical([X[:, 0], X[:, 1], X[:, 2]], out_type='rad')\n",
    "    ax = fig.add_subplot(2, 4, i+1)\n",
    "    ax.scatter(r, theta, c=cluster, s=1)\n",
    "    ax.set_xlim(0, 20)\n",
    "    ax.set_title(f'Time:{time}, fraction in main cluster:{num_part.max()/len(X):.2f}')\n",
    "    ax.set_xlabel(r'R')\n",
    "    ax.set_ylabel(r'$\\theta$')\n",
    "    "
   ]
  },
  {
   "cell_type": "markdown",
   "id": "67f4452b-bbd7-4ad6-82dc-d107ffd57460",
   "metadata": {},
   "source": [
    "## Spline to get the length of the tidal structure "
   ]
  },
  {
   "cell_type": "code",
   "execution_count": null,
   "id": "e3311185-4dd4-428e-b5e0-78cbeeff4f8c",
   "metadata": {},
   "outputs": [],
   "source": [
    "fig=plt.figure(figsize=(15, 7), layout='tight')\n",
    "for i, time in enumerate(important_time[1:]):\n",
    "    flag=flag_history[time]\n",
    "    no_flag=~flag\n",
    "    X = np.stack((position[time, :, 0][no_flag], position[time, :, 1][no_flag], np.zeros_like(position[time, :, 1][no_flag])), axis=1)\n",
    "    avg_distance = np.linalg.norm((position[time][flag]-com_history[time]), axis=1).mean()\n",
    "    \n",
    "    clustering = DBSCAN(eps=avg_distance, min_samples=2).fit(X)\n",
    "    cluster = clustering.fit_predict(X)\n",
    "    name_cluster, num_part = np.unique(cluster, return_counts=True)\n",
    "    max = name_cluster[np.argmax(num_part)]\n",
    "    min = np.argmin(num_part)\n",
    "    cluster[cluster!=max] = min\n",
    "\n",
    "    #spline interpolation of dense point\n",
    "    x = sorted(X[:, 0][cluster==max])/np.max(abs(X[:, 0][cluster==max]))\n",
    "    y = X[:, 1][cluster==max][np.argsort(X[:, 0][cluster==max])]/np.max(abs(X[:, 1][cluster==max]))\n",
    "    (tck, u) = splprep([x, y], k=3) #s = optional parameter (default used here)\n",
    "    x_new, y_new = splev(u, tck)\n",
    "    x_new *=np.max(abs(X[:, 0][cluster==max]))\n",
    "    y_new *=np.max(abs(X[:, 1][cluster==max]))\n",
    "    \n",
    "\n",
    "    ax = fig.add_subplot(2, 4, i+1)\n",
    "    ax.plot(sorted(x_new), y_new[np.argsort(x_new)], linewidth=1, c='r', label='spline')\n",
    "    ax.scatter(X[:, 0], X[:, 1], c=cluster, s=1)\n",
    "    ax.set_xlim(-20, 20)\n",
    "    ax.set_ylim(-10, 20)\n",
    "    ax.set_title(f'Time:{time}, fraction in main cluster:{num_part.max()/len(X):.2f}')\n",
    "    ax.set_xlabel('X')\n",
    "    ax.set_ylabel('Y')\n",
    "    ax.legend()\n",
    "    "
   ]
  },
  {
   "cell_type": "markdown",
   "id": "75fd39f9-4541-4fec-98f9-ade93c5f1c2e",
   "metadata": {
    "jp-MarkdownHeadingCollapsed": true
   },
   "source": [
    "# Density plot on X, Y"
   ]
  },
  {
   "cell_type": "code",
   "execution_count": null,
   "id": "ce7a2851-85a6-451e-9e7b-e8d19223a567",
   "metadata": {},
   "outputs": [],
   "source": [
    "def confidence_ellipse(x, y, ax, n_std=3.0, facecolor='none', **kwargs):\n",
    "    \"\"\"\n",
    "    Create a plot of the covariance confidence ellipse of *x* and *y*.\n",
    "\n",
    "    Parameters\n",
    "    ----------\n",
    "    x, y : array-like, shape (n, )\n",
    "        Input data.\n",
    "\n",
    "    ax : matplotlib.axes.Axes\n",
    "        The axes object to draw the ellipse into.\n",
    "\n",
    "    n_std : float\n",
    "        The number of standard deviations to determine the ellipse's radiuses.\n",
    "\n",
    "    **kwargs\n",
    "        Forwarded to `~matplotlib.patches.Ellipse`\n",
    "\n",
    "    Returns\n",
    "    -------\n",
    "    matplotlib.patches.Ellipse\n",
    "    \"\"\"\n",
    "    if x.size != y.size:\n",
    "        raise ValueError(\"x and y must be the same size\")\n",
    "\n",
    "    cov = np.cov(x, y)\n",
    "    pearson = cov[0, 1]/np.sqrt(cov[0, 0] * cov[1, 1])\n",
    "    # Using a special case to obtain the eigenvalues of this\n",
    "    # two-dimensional dataset.\n",
    "    ell_radius_x = np.sqrt(1 + pearson)\n",
    "    ell_radius_y = np.sqrt(1 - pearson)\n",
    "    ellipse = Ellipse((0, 0), width=ell_radius_x * 2, height=ell_radius_y * 2,\n",
    "                      facecolor=facecolor, **kwargs)\n",
    "\n",
    "    # Calculating the standard deviation of x from\n",
    "    # the squareroot of the variance and multiplying\n",
    "    # with the given number of standard deviations.\n",
    "    scale_x = np.sqrt(cov[0, 0]) * n_std\n",
    "    mean_x = np.mean(x)\n",
    "\n",
    "    # calculating the standard deviation of y ...\n",
    "    scale_y = np.sqrt(cov[1, 1]) * n_std\n",
    "    mean_y = np.mean(y)\n",
    "\n",
    "    transf = transforms.Affine2D() \\\n",
    "        .rotate_deg(45) \\\n",
    "        .scale(scale_x, scale_y) \\\n",
    "        .translate(mean_x, mean_y)\n",
    "\n",
    "    ellipse.set_transform(transf + ax.transData)\n",
    "    return ax.add_patch(ellipse)"
   ]
  },
  {
   "cell_type": "code",
   "execution_count": null,
   "id": "f2876c9c-32e5-4e08-92db-73435e9094cd",
   "metadata": {},
   "outputs": [],
   "source": [
    "fig=plt.figure(figsize=(15, 7), layout='tight')\n",
    "for i, time in enumerate(important_time[1:]):\n",
    "    flag=flag_history[time]\n",
    "    no_flag=~flag\n",
    "    X = np.stack((position[time, :, 0][no_flag], position[time, :, 1][no_flag], np.zeros_like(position[time, :, 1][no_flag])), axis=1)\n",
    "\n",
    "    xy = np.vstack([X[:,0], X[:,1]])\n",
    "    z = gaussian_kde(xy)(xy)\n",
    "    cov = gaussian_kde(xy).covariance\n",
    "    \n",
    "\n",
    "    ax = fig.add_subplot(2, 4, i+1)\n",
    "    ax.scatter(X[:, 0], X[:, 1], c=z, s=1)\n",
    "    confidence_ellipse(X[:, 0], X[:, 1], ax, n_std=1, edgecolor='red')\n",
    "    ax.set_xlim(-20, 20)\n",
    "    ax.set_ylim(-10, 20)\n",
    "    ax.set_xlabel('X')\n",
    "    ax.set_ylabel('Y')\n",
    "    "
   ]
  },
  {
   "cell_type": "markdown",
   "id": "f898bfc1-e585-4471-86b0-105fc6d5bb67",
   "metadata": {
    "jp-MarkdownHeadingCollapsed": true
   },
   "source": [
    "## density plot using DBSCAN to reduce dimensionality "
   ]
  },
  {
   "cell_type": "code",
   "execution_count": null,
   "id": "96c9a908-e78d-44d8-be73-eeb4d1396b64",
   "metadata": {},
   "outputs": [],
   "source": [
    "fig=plt.figure(figsize=(15, 7), layout='tight')\n",
    "for i, time in enumerate(important_time[1:]):\n",
    "    flag=flag_history[time]\n",
    "    no_flag=~flag\n",
    "    X = np.stack((position[time, :, 0][no_flag], position[time, :, 1][no_flag], np.zeros_like(position[time, :, 1][no_flag])), axis=1)\n",
    "\n",
    "    avg_distance = np.linalg.norm((position[time][flag]-com_history[time]), axis=1).mean()\n",
    "    \n",
    "    clustering = DBSCAN(eps=avg_distance, min_samples=2).fit(X)\n",
    "    cluster = clustering.fit_predict(X)\n",
    "    name_cluster, num_part = np.unique(cluster, return_counts=True)\n",
    "    cluster[cluster!=name_cluster[np.argmax(num_part)]] = name_cluster[np.argmin(num_part)]\n",
    "\n",
    "    \n",
    "    x = X[:, 0][cluster==max]\n",
    "    y = X[:, 1][cluster==max]\n",
    "\n",
    "    xy = np.vstack([x,y])\n",
    "    z = gaussian_kde(xy)(xy)\n",
    "    cov = gaussian_kde(xy).covariance\n",
    "\n",
    "    ax = fig.add_subplot(2, 4, i+1)\n",
    "    ax.scatter(x, y, c=z, s=1)\n",
    "    confidence_ellipse(x, y, ax, n_std=1, edgecolor='red')\n",
    "    ax.set_xlim(-20, 20)\n",
    "    ax.set_ylim(-10, 20)\n",
    "    ax.set_xlabel('X')\n",
    "    ax.set_ylabel('Y')\n",
    "    ax.set_title(f'time:{time}')\n",
    "    "
   ]
  },
  {
   "cell_type": "markdown",
   "id": "f4622f92-6c4e-44b2-aaa9-0190804519f2",
   "metadata": {
    "jp-MarkdownHeadingCollapsed": true
   },
   "source": [
    "# Drift of the stars according to their velocity"
   ]
  },
  {
   "cell_type": "code",
   "execution_count": null,
   "id": "6110ad61-e054-477b-be0b-20a79d252efb",
   "metadata": {},
   "outputs": [],
   "source": [
    "len(position)"
   ]
  },
  {
   "cell_type": "code",
   "execution_count": null,
   "id": "e5b2e8c7-3c05-40c8-95c5-ea99932fff73",
   "metadata": {},
   "outputs": [],
   "source": [
    "important_time = [0, 15, 50, 100, 200, 315]"
   ]
  },
  {
   "cell_type": "code",
   "execution_count": null,
   "id": "bc82c816-1fc6-4b22-a3af-deab17b62013",
   "metadata": {},
   "outputs": [],
   "source": [
    "cmap = plt.colormaps['magma']\n",
    "com_history = np.array(com_history)\n",
    "step = np.arange(0, len(com_history), 1)\n",
    "\n",
    "fig = plt.figure(layout='tight', figsize=(20,5))\n",
    "for k, time in enumerate(important_time): \n",
    "    circle = plt.Circle((com_history[time][0], com_history[time][1]), tidal2_history[time], color='r', fill=False, label=r'R< $2r_t$')\n",
    "    \n",
    "    vel_wrt_com = np.linalg.norm(velocity[time, :, :], axis=1)**2 - np.linalg.norm(vel_com_history[time])**2\n",
    "    ax = fig.add_subplot(2, 3, k+1)\n",
    "\n",
    "    pcm = ax.scatter(position[time, :, 0], position[time, :, 1], s=1, c=vel_wrt_com,  marker='.', norm=mpl.colors.LogNorm(clip=True))\n",
    "    ax.scatter(com_history[time][0], com_history[time][1], marker='*', color='red')\n",
    "    ax.add_patch(circle)\n",
    "    fig.colorbar(pcm, ax=ax)\n",
    "    ax.set_xlabel('X [Henon Unit]')\n",
    "    ax.set_ylabel('Y [Henon Unit]')\n",
    "    ax.set_xlim(-initial_position-1, initial_position+1)\n",
    "    ax.set_ylim(-initial_position-5, initial_position+5)\n",
    "    ax.set_title(f'Time:{time}')\n",
    "    ax.legend()\n",
    "    fig.show()"
   ]
  },
  {
   "cell_type": "markdown",
   "id": "1468a664-e4b0-4ba0-9a16-28efe7ddedde",
   "metadata": {},
   "source": [
    "## moved to the frame of reference of the CoM"
   ]
  },
  {
   "cell_type": "code",
   "execution_count": null,
   "id": "cedc10c0-e11e-414b-b3ec-f250e8f8e75f",
   "metadata": {},
   "outputs": [],
   "source": [
    "cmap = plt.colormaps['magma']\n",
    "com_history = np.array(com_history)\n",
    "step = np.arange(0, len(com_history), 1)\n",
    "\n",
    "fig = plt.figure(layout='tight', figsize=(20,5))\n",
    "for k, time in enumerate(important_time): \n",
    "    circle = plt.Circle((0, 0), tidal2_history[time], color='r', fill=False, label=r'R< $2r_t$')\n",
    "    \n",
    "    vel_wrt_com = np.linalg.norm(velocity[time, :, :], axis=1) - np.linalg.norm(vel_com_history[time])\n",
    "    ax = fig.add_subplot(2, 3, k+1)\n",
    "\n",
    "    pcm = ax.scatter(position[time, :, 0]-com_history[time][0], position[time, :, 1]- com_history[time][1], s=1, c=vel_wrt_com,  marker='.', norm=mpl.colors.LogNorm(clip=True))\n",
    "    ax.scatter(0,0, marker='*', color='red')\n",
    "    ax.add_patch(circle)\n",
    "    fig.colorbar(pcm, ax=ax)\n",
    "    ax.set_xlabel('X [Henon Unit]')\n",
    "    ax.set_ylabel('Y [Henon Unit]')\n",
    "    ax.set_xlim(-initial_position-1, initial_position+1)\n",
    "    ax.set_ylim(-initial_position-5, initial_position+5)\n",
    "    ax.set_title(f'Time:{time}')\n",
    "    ax.legend()\n",
    "    fig.show()"
   ]
  },
  {
   "cell_type": "markdown",
   "id": "b0057b61-05ff-40bf-874d-68036ca74102",
   "metadata": {},
   "source": []
  },
  {
   "cell_type": "code",
   "execution_count": null,
   "id": "719512be-fca6-4d64-8e65-88fd4506cf0a",
   "metadata": {},
   "outputs": [],
   "source": [
    "#we select the 95% to remove the tail of the velocity distribution which is composed of outliers\n",
    "\n",
    "fig = plt.figure(layout='tight', figsize=(15,5))\n",
    "low_quin, high_quin = np.quantile(np.linalg.norm(velocity[time, :, :], axis=1)- np.linalg.norm(vel_com_history[0]), [0.025, 0.975])\n",
    "flag = ((np.linalg.norm(velocity[0, :, :], axis=1) - np.linalg.norm(vel_com_history[0]))<low_quin) | ((np.linalg.norm(velocity[0, :, :], axis=1) - np.linalg.norm(vel_com_history[0]))>high_quin)\n",
    "flag = np.zeros_like(np.linalg.norm(velocity[0, :, :], axis=1), dtype=bool) #no flag to check\n",
    "for i, time in enumerate(important_time):\n",
    "    vel_wrt_com = np.linalg.norm(velocity[time, :, :], axis=1) - np.linalg.norm(vel_com_history[time])\n",
    "    pos_wrt_com = np.linalg.norm(position[time], axis=1) - np.linalg.norm(com_history[time])\n",
    "    ax = fig.add_subplot(2, 3, i+1)\n",
    "    ax.scatter(pos_wrt_com, vel_wrt_com, s=1, label=f'Time:{time}')\n",
    "    ax.scatter(pos_wrt_com[flag], vel_wrt_com[flag], s=10)\n",
    "    ax.set_xlabel(r'$R-R_{com}$')\n",
    "    ax.set_ylabel(r'$|v|-|v_{com}|$')\n",
    "    ax.set_title(f'Time:{time}')"
   ]
  },
  {
   "cell_type": "code",
   "execution_count": null,
   "id": "c8980477-1f33-44ed-9b04-8e9b73de13b3",
   "metadata": {},
   "outputs": [],
   "source": [
    "fig = plt.figure(layout='tight', figsize=(15,5))\n",
    "for i, time in enumerate(important_time):\n",
    "    vel_wrt_com = np.linalg.norm(velocity[time, :, :], axis=1) - np.linalg.norm(vel_com_history[time])\n",
    "    pos_wrt_com = np.linalg.norm(position[time], axis=1) - np.linalg.norm(com_history[time])\n",
    "    ax = fig.add_subplot(2, 5, i+1)\n",
    "    ax.scatter(pos_wrt_com[~flag], vel_wrt_com[~flag], s=1)\n",
    "    ax.set_xlabel(r'$R-R_{com}$')\n",
    "    ax.set_ylabel(r'$|v|-|v_{com}|$')\n",
    "    ax.set_title(f'Time:{time}')"
   ]
  },
  {
   "cell_type": "code",
   "execution_count": null,
   "id": "aeb32922-fea4-4822-8920-f40009601527",
   "metadata": {},
   "outputs": [],
   "source": [
    "fig = plt.figure(layout='tight', figsize=(15,5))\n",
    "for i, time in enumerate(important_time):\n",
    "    vel_wrt_com = np.linalg.norm(velocity[time, :, :], axis=1) - np.linalg.norm(vel_com_history[time])\n",
    "    pos_wrt_com = np.linalg.norm(position[time], axis=1) - np.linalg.norm(com_history[time])\n",
    "    xy = np.vstack([pos_wrt_com[~flag],vel_wrt_com[~flag]])\n",
    "    z = gaussian_kde(xy)(xy)\n",
    "    \n",
    "    ax = fig.add_subplot(2, 5, i+1)\n",
    "    ax.scatter(pos_wrt_com[~flag], vel_wrt_com[~flag],c=z, s=1)\n",
    "    ax.plot([-tidal2_history[time], tidal2_history[time]], [0, 0], '--', color='red', label=r'R< $2r_t$')\n",
    "    ax.set_xlabel(r'$R-R_{com}$')\n",
    "    ax.set_ylabel(r'$|v|-|v_{com}|$')\n",
    "    ax.set_title(f'Time:{time}')\n",
    "    ax.legend()"
   ]
  },
  {
   "cell_type": "code",
   "execution_count": null,
   "id": "f24e4ba4-cb54-44c0-bbba-695e8e9dd02b",
   "metadata": {},
   "outputs": [],
   "source": []
  }
 ],
 "metadata": {
  "kernelspec": {
   "display_name": "Python 3 (ipykernel)",
   "language": "python",
   "name": "python3"
  },
  "language_info": {
   "codemirror_mode": {
    "name": "ipython",
    "version": 3
   },
   "file_extension": ".py",
   "mimetype": "text/x-python",
   "name": "python",
   "nbconvert_exporter": "python",
   "pygments_lexer": "ipython3",
   "version": "3.10.12"
  }
 },
 "nbformat": 4,
 "nbformat_minor": 5
}
