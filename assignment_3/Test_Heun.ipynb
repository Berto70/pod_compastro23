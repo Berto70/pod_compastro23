{
 "cells": [
  {
   "cell_type": "code",
   "execution_count": 1,
   "id": "07aa7160-8c2b-41b8-a377-c8998ea5aa2f",
   "metadata": {},
   "outputs": [],
   "source": [
    "import numpy as np\n",
    "from matplotlib import pyplot as plt, animation as animation, ticker as mticker\n",
    "from tqdm.notebook import tqdm\n",
    "\n",
    "from fireworks.particles import Particles\n",
    "import fireworks.ic as ic\n",
    "import fireworks.nbodylib.dynamics as fnd\n",
    "import fireworks.nbodylib.integrators as fni\n",
    "import fireworks.nbodylib.timesteps as fnt\n",
    "np.random.seed(9725)"
   ]
  },
  {
   "cell_type": "code",
   "execution_count": null,
   "id": "83314fc9-c2be-43d3-a88c-7080bf3058e8",
   "metadata": {},
   "outputs": [],
   "source": [
    "fig = plt.figure(figsize=(15, 15), layout='tight')\n",
    "iplot = 330\n",
    "# for e in [0.5, 0.9, 0.99]:\n",
    "for e in [0.5]:\n",
    "    rp = 1\n",
    "    a = rp / (1 - e)\n",
    "    particles = ic.ic_two_body(mass1=8., mass2=2, e=e, rp=rp)\n",
    "    Tperiod = 2 * np.pi * np.sqrt(a**3 / (particles.mass[0] + particles.mass[1]))\n",
    "    \n",
    "    dstep = 0.01\n",
    "    tintermediate=np.linspace(start=0, stop=10*Tperiod, num=int(10*Tperiod/dstep))\n",
    "    tcurrent=0\n",
    "    pos_list=[]\n",
    "    vel_list=[]\n",
    "    energy_list=[]\n",
    "    for t in tqdm(tintermediate):\n",
    "        tstep=t-tcurrent\n",
    "        if tstep <=0: continue # continue means go to the next step (i.e. next t in the array)\n",
    "        # particles, efftime,_,_,_= fni.integrator_tsunami(particles,tstep)\n",
    "        particles, efftime,_,_,_= fni.integrator_E(particles,tstep, acceleration_estimator=fnd.acceleration_direct_vectorized)\n",
    "\n",
    "        # Save the particles positions and velocities and energy\n",
    "        pos_list.append(particles.pos.copy())\n",
    "        vel_list.append(particles.vel.copy())\n",
    "        Etot, _, _ = particles.Etot()\n",
    "        energy_list.append(Etot)\n",
    "        # Here we can save stuff, plot stuff, etc.\n",
    "        tcurrent=tcurrent+efftime\n",
    "    \n",
    "    pos_x_1, pos_y_1 = np.array(pos_list)[:, 0][:, 0], np.array(pos_list)[:, 0][:, 1] \n",
    "    pos_x_2, pos_y_2 = np.array(pos_list)[:, 1][:, 0], np.array(pos_list)[:, 1][:, 1] \n",
    "\n",
    "    #position plot\n",
    "    iplot +=1\n",
    "    ax = fig.add_subplot(iplot)\n",
    "    ax.plot(pos_x_1, pos_y_1, label=f'Mass 1')\n",
    "    ax.plot(pos_x_2, pos_y_2, label=f'Mass 2')\n",
    "    ax.set_xlabel('X')\n",
    "    ax.set_ylabel('Y')\n",
    "    ax.set_title(f'e={e}')\n",
    "    ax.legend()\n",
    "    \n",
    "    #energy plot\n",
    "    iplot +=1\n",
    "    ax = fig.add_subplot(iplot)\n",
    "    ax.plot(energy_list, label='Tot energy')\n",
    "    ax.set_xlabel('time')\n",
    "    ax.set_ylabel('E')\n",
    "    ax.legend()\n",
    "    \n",
    "    #energy error\n",
    "    iplot +=1\n",
    "    ax = fig.add_subplot(iplot)\n",
    "    energy_array = np.array(energy_list)\n",
    "    error = np.abs(energy_array - energy_array[0])/energy_array[0]\n",
    "    ax.set_xlabel('time')\n",
    "    ax.plot(error, label='error')\n",
    "    ax.set_ylabel(r'$\\frac{|E-E_0|}{E_0}$')\n",
    "    ax.legend()"
   ]
  },
  {
   "cell_type": "code",
   "execution_count": 12,
   "id": "0444f098-670b-4713-9734-fd871c7db28d",
   "metadata": {},
   "outputs": [
    {
     "data": {
      "application/vnd.jupyter.widget-view+json": {
       "model_id": "bc64e0ad06a74a03a5f6ca285623c311",
       "version_major": 2,
       "version_minor": 0
      },
      "text/plain": [
       "  0%|          | 0/5619851 [00:00<?, ?it/s]"
      ]
     },
     "metadata": {},
     "output_type": "display_data"
    },
    {
     "ename": "KeyboardInterrupt",
     "evalue": "",
     "output_type": "error",
     "traceback": [
      "\u001b[0;31m---------------------------------------------------------------------------\u001b[0m",
      "\u001b[0;31mKeyboardInterrupt\u001b[0m                         Traceback (most recent call last)",
      "Cell \u001b[0;32mIn[12], line 32\u001b[0m\n\u001b[1;32m     30\u001b[0m energy_list\u001b[38;5;241m.\u001b[39mappend(Etot)\n\u001b[1;32m     31\u001b[0m tstep\u001b[38;5;241m.\u001b[39mappend(dt_copy)\n\u001b[0;32m---> 32\u001b[0m dt_copy \u001b[38;5;241m=\u001b[39m \u001b[43mfnt\u001b[49m\u001b[38;5;241;43m.\u001b[39;49m\u001b[43madaptive_timestep\u001b[49m\u001b[43m(\u001b[49m\u001b[43mintegrator\u001b[49m\u001b[38;5;241;43m=\u001b[39;49m\u001b[43mfni\u001b[49m\u001b[38;5;241;43m.\u001b[39;49m\u001b[43mintegrator_rk4\u001b[49m\u001b[43m,\u001b[49m\u001b[43m \u001b[49m\u001b[43mint_args\u001b[49m\u001b[38;5;241;43m=\u001b[39;49m\u001b[43m{\u001b[49m\u001b[38;5;124;43m'\u001b[39;49m\u001b[38;5;124;43mparticles\u001b[39;49m\u001b[38;5;124;43m'\u001b[39;49m\u001b[43m:\u001b[49m\u001b[43m \u001b[49m\u001b[43mpart\u001b[49m\u001b[43m,\u001b[49m\n\u001b[1;32m     33\u001b[0m \u001b[43m                                                                        \u001b[49m\u001b[38;5;124;43m'\u001b[39;49m\u001b[38;5;124;43mtstep\u001b[39;49m\u001b[38;5;124;43m'\u001b[39;49m\u001b[43m:\u001b[49m\u001b[43m \u001b[49m\u001b[43mdt_copy\u001b[49m\u001b[43m,\u001b[49m\n\u001b[1;32m     34\u001b[0m \u001b[43m                                                                        \u001b[49m\u001b[38;5;124;43m'\u001b[39;49m\u001b[38;5;124;43macceleration_estimator\u001b[39;49m\u001b[38;5;124;43m'\u001b[39;49m\u001b[43m:\u001b[49m\u001b[43m \u001b[49m\u001b[43mfnd\u001b[49m\u001b[38;5;241;43m.\u001b[39;49m\u001b[43macceleration_direct_vectorized\u001b[49m\u001b[43m}\u001b[49m\u001b[43m,\u001b[49m\u001b[43m \u001b[49m\u001b[43mint_rank\u001b[49m\u001b[38;5;241;43m=\u001b[39;49m\u001b[38;5;241;43m4\u001b[39;49m\u001b[43m,\u001b[49m\n\u001b[1;32m     35\u001b[0m \u001b[43m                            \u001b[49m\u001b[43mpredictor\u001b[49m\u001b[38;5;241;43m=\u001b[39;49m\u001b[43mfni\u001b[49m\u001b[38;5;241;43m.\u001b[39;49m\u001b[43mintegrator_heun\u001b[49m\u001b[43m,\u001b[49m\u001b[43m \u001b[49m\u001b[43mpred_args\u001b[49m\u001b[38;5;241;43m=\u001b[39;49m\u001b[43m{\u001b[49m\u001b[38;5;124;43m'\u001b[39;49m\u001b[38;5;124;43mparticles\u001b[39;49m\u001b[38;5;124;43m'\u001b[39;49m\u001b[43m:\u001b[49m\u001b[43m \u001b[49m\u001b[43mpart\u001b[49m\u001b[43m,\u001b[49m\n\u001b[1;32m     36\u001b[0m \u001b[43m                                                                        \u001b[49m\u001b[38;5;124;43m'\u001b[39;49m\u001b[38;5;124;43mtstep\u001b[39;49m\u001b[38;5;124;43m'\u001b[39;49m\u001b[43m:\u001b[49m\u001b[43m \u001b[49m\u001b[43mdt_copy\u001b[49m\u001b[43m,\u001b[49m\n\u001b[1;32m     37\u001b[0m \u001b[43m                                                                        \u001b[49m\u001b[38;5;124;43m'\u001b[39;49m\u001b[38;5;124;43macceleration_estimator\u001b[39;49m\u001b[38;5;124;43m'\u001b[39;49m\u001b[43m:\u001b[49m\u001b[43m \u001b[49m\u001b[43mfnd\u001b[49m\u001b[38;5;241;43m.\u001b[39;49m\u001b[43macceleration_direct_vectorized\u001b[49m\u001b[43m}\u001b[49m\u001b[43m,\u001b[49m\u001b[43m \u001b[49m\u001b[43mpred_rank\u001b[49m\u001b[38;5;241;43m=\u001b[39;49m\u001b[38;5;241;43m2\u001b[39;49m\u001b[43m,\u001b[49m\n\u001b[1;32m     38\u001b[0m \u001b[43m                            \u001b[49m\u001b[43mepsilon\u001b[49m\u001b[43m \u001b[49m\u001b[38;5;241;43m=\u001b[39;49m\u001b[43m \u001b[49m\u001b[38;5;241;43m1e-06\u001b[39;49m\u001b[43m)\u001b[49m\n\u001b[1;32m     39\u001b[0m \u001b[38;5;66;03m# Here we can save stuff, plot stuff, etc.\u001b[39;00m\n\u001b[1;32m     40\u001b[0m tot_time \u001b[38;5;241m+\u001b[39m\u001b[38;5;241m=\u001b[39m dt_copy\n",
      "File \u001b[0;32m~/miniconda3/lib/python3.10/site-packages/fireworks/nbodylib/timesteps.py:101\u001b[0m, in \u001b[0;36madaptive_timestep\u001b[0;34m(integrator, int_args, int_rank, predictor, pred_args, pred_rank, epsilon, tmin, tmax)\u001b[0m\n\u001b[1;32m     98\u001b[0m particles_pred, _, _, _, _ \u001b[38;5;241m=\u001b[39m predictor(\u001b[38;5;241m*\u001b[39m\u001b[38;5;241m*\u001b[39mpred_args)\n\u001b[1;32m    100\u001b[0m \u001b[38;5;28;01mdel\u001b[39;00m _ \n\u001b[0;32m--> 101\u001b[0m \u001b[43mgc\u001b[49m\u001b[38;5;241;43m.\u001b[39;49m\u001b[43mcollect\u001b[49m\u001b[43m(\u001b[49m\u001b[43m)\u001b[49m\n\u001b[1;32m    104\u001b[0m \u001b[38;5;66;03m# r_int = np.sqrt(np.sum(particles_int.pos*particles_int.pos, axis=1))\u001b[39;00m\n\u001b[1;32m    105\u001b[0m \u001b[38;5;66;03m# r_pred = np.sqrt(np.sum(particles_pred.pos*particles_pred.pos, axis=1))\u001b[39;00m\n\u001b[1;32m    107\u001b[0m eps_r \u001b[38;5;241m=\u001b[39m np\u001b[38;5;241m.\u001b[39mlinalg\u001b[38;5;241m.\u001b[39mnorm(particles_int\u001b[38;5;241m.\u001b[39mpos \u001b[38;5;241m-\u001b[39m particles_pred\u001b[38;5;241m.\u001b[39mpos, axis\u001b[38;5;241m=\u001b[39m\u001b[38;5;241m1\u001b[39m)\n",
      "\u001b[0;31mKeyboardInterrupt\u001b[0m: "
     ]
    },
    {
     "data": {
      "text/plain": [
       "<Figure size 1500x1500 with 0 Axes>"
      ]
     },
     "metadata": {},
     "output_type": "display_data"
    }
   ],
   "source": [
    "fig = plt.figure(figsize=(15, 15), layout='tight')\n",
    "iplot = 330\n",
    "# for e in [0.5, 0.9, 0.99]:\n",
    "for e in [0.5]:\n",
    "    rp = 1\n",
    "    a = rp / (1 - e)\n",
    "    part = ic.ic_two_body(mass1=8., mass2=2, e=e, rp=rp)\n",
    "    Tperiod = 2 * np.pi * np.sqrt(a**3 / (part.mass[0] + part.mass[1]))\n",
    "    N_end = 10\n",
    "    dt = 0.00001\n",
    "    tintermediate=np.linspace(start=0, stop=N_end*Tperiod, num=int(10*Tperiod/dt))\n",
    "    N_ts = int(np.floor(N_end*Tperiod/dt))\n",
    "    pos_list=[]\n",
    "    vel_list=[]\n",
    "    energy_list=[]\n",
    "    tstep = []\n",
    "    dt_copy = dt#.copy()\n",
    "    tot_time = 0\n",
    "    N_ts_cum = 0\n",
    "    for t in tqdm(tintermediate):\n",
    "        \n",
    "        # particles, efftime,_,_,_= fni.integrator_tsunami(particles,tstep)\n",
    "        part, dt_copy ,_,_,_= fni.integrator_rk4(part, dt_copy, acceleration_estimator=fnd.acceleration_direct_vectorized)\n",
    "\n",
    "\n",
    "        # Save the particles positions and velocities and energy\n",
    "        pos_list.append(part.pos.copy())\n",
    "        vel_list.append(part.vel.copy())\n",
    "        Etot, _, _ = part.Etot()\n",
    "        energy_list.append(Etot)\n",
    "        tstep.append(dt_copy)\n",
    "        dt_copy = fnt.adaptive_timestep(integrator=fni.integrator_rk4, int_args={'particles': part,\n",
    "                                                                                'tstep': dt_copy,\n",
    "                                                                                'acceleration_estimator': fnd.acceleration_direct_vectorized}, int_rank=4,\n",
    "                                    predictor=fni.integrator_heun, pred_args={'particles': part,\n",
    "                                                                                'tstep': dt_copy,\n",
    "                                                                                'acceleration_estimator': fnd.acceleration_direct_vectorized}, pred_rank=2,\n",
    "                                    epsilon = 1e-06)\n",
    "        # Here we can save stuff, plot stuff, etc.\n",
    "        tot_time += dt_copy\n",
    "        N_ts_cum += 1\n",
    "\n",
    "        if tot_time >= N_end*Tperiod:\n",
    "            print('Exceeded time limit')\n",
    "            break\n",
    "        elif N_ts_cum >= 10*N_ts:\n",
    "            print('Exceeded number of time steps')\n",
    "            break\n",
    "\n",
    "    \n",
    "    pos_x_1, pos_y_1 = np.array(pos_list)[:, 0][:, 0], np.array(pos_list)[:, 0][:, 1] \n",
    "    pos_x_2, pos_y_2 = np.array(pos_list)[:, 1][:, 0], np.array(pos_list)[:, 1][:, 1] \n",
    "\n",
    "    #position plot\n",
    "    iplot +=1\n",
    "    ax = fig.add_subplot(iplot)\n",
    "    ax.plot(pos_x_1, pos_y_1, label=f'Mass 1')\n",
    "    ax.plot(pos_x_2, pos_y_2, label=f'Mass 2')\n",
    "    ax.set_xlabel('X')\n",
    "    ax.set_ylabel('Y')\n",
    "    ax.set_title(f'e={e}')\n",
    "    ax.legend()\n",
    "    \n",
    "    #energy plot\n",
    "    iplot +=1\n",
    "    ax = fig.add_subplot(iplot)\n",
    "    ax.plot(energy_list, label='Tot energy')\n",
    "    ax.set_xlabel('time')\n",
    "    ax.set_ylabel('E')\n",
    "    ax.legend()\n",
    "    \n",
    "    #energy error\n",
    "    iplot +=1\n",
    "    ax = fig.add_subplot(iplot)\n",
    "    energy_array = np.array(energy_list)\n",
    "    error = np.abs(energy_array - energy_array[0])/energy_array[0]\n",
    "    ax.set_xlabel('time')\n",
    "    ax.plot(error, label='error')\n",
    "    ax.set_ylabel(r'$\\frac{|E-E_0|}{E_0}$')\n",
    "    ax.legend()"
   ]
  },
  {
   "cell_type": "code",
   "execution_count": 13,
   "id": "82d2f839-ee8a-448e-9427-d1f825e6bd52",
   "metadata": {},
   "outputs": [
    {
     "data": {
      "text/plain": [
       "[<matplotlib.lines.Line2D at 0x7feda4b5ed10>]"
      ]
     },
     "execution_count": 13,
     "metadata": {},
     "output_type": "execute_result"
    },
    {
     "data": {
      "image/png": "[encoded data removed]",
      "text/plain": [
       "<Figure size 640x480 with 1 Axes>"
      ]
     },
     "metadata": {},
     "output_type": "display_data"
    }
   ],
   "source": [
    "plt.plot(tstep)"
   ]
  },
  {
   "cell_type": "code",
   "execution_count": null,
   "id": "922dd648-e792-4069-8608-163fd6069651",
   "metadata": {},
   "outputs": [],
   "source": []
  }
 ],
 "metadata": {
  "kernelspec": {
   "display_name": "Python 3 (ipykernel)",
   "language": "python",
   "name": "python3"
  },
  "language_info": {
   "codemirror_mode": {
    "name": "ipython",
    "version": 3
   },
   "file_extension": ".py",
   "mimetype": "text/x-python",
   "name": "python",
   "nbconvert_exporter": "python",
   "pygments_lexer": "ipython3",
   "version": "3.10.12"
  }
 },
 "nbformat": 4,
 "nbformat_minor": 5
}
