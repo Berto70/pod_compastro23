{
 "cells": [
  {
   "cell_type": "code",
   "execution_count": 1,
   "id": "05382981-46a5-4913-957f-dae3a11a431b",
   "metadata": {},
   "outputs": [],
   "source": [
    "import numpy as np\n",
    "from matplotlib import pyplot as plt, animation as animation, ticker as mticker\n",
    "from tqdm.notebook import tqdm\n",
    "\n",
    "from fireworks.particles import Particles\n",
    "import fireworks.ic as ic\n",
    "import fireworks.nbodylib.dynamics as fnd\n",
    "import fireworks.nbodylib.integrators as fni\n",
    "np.random.seed(9725)"
   ]
  },
  {
   "cell_type": "code",
   "execution_count": 6,
   "id": "b2c50c7f-6502-45b0-9e39-51843d31b093",
   "metadata": {},
   "outputs": [],
   "source": [
    "part = ic.ic_two_body(mass1=1, mass2=2, e=0.2, rp=4)\n",
    "\n",
    "tspep = 0.1\n",
    "acc, jerk, _, _, _ = fni.integrator_hermite(particles=part, tstep=tspep, acceleration_estimator=fnd.acceleration_direct_vectorized, args={'return_jerk':True})"
   ]
  },
  {
   "cell_type": "code",
   "execution_count": 7,
   "id": "46b30348-1fab-4f9f-828a-41ac6ea9f966",
   "metadata": {},
   "outputs": [
    {
     "data": {
      "text/plain": [
       "Instance of the class Particles\n",
       "Number of particles: 2"
      ]
     },
     "execution_count": 7,
     "metadata": {},
     "output_type": "execute_result"
    }
   ],
   "source": [
    "acc"
   ]
  },
  {
   "cell_type": "code",
   "execution_count": null,
   "id": "a483d8f0-364f-4601-af88-545747bd9780",
   "metadata": {},
   "outputs": [],
   "source": []
  }
 ],
 "metadata": {
  "kernelspec": {
   "display_name": "Python 3 (ipykernel)",
   "language": "python",
   "name": "python3"
  },
  "language_info": {
   "codemirror_mode": {
    "name": "ipython",
    "version": 3
   },
   "file_extension": ".py",
   "mimetype": "text/x-python",
   "name": "python",
   "nbconvert_exporter": "python",
   "pygments_lexer": "ipython3",
   "version": "3.10.12"
  }
 },
 "nbformat": 4,
 "nbformat_minor": 5
}
