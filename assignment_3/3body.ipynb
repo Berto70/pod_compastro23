{
 "cells": [
  {
   "cell_type": "code",
   "execution_count": null,
   "id": "1cb575a0-3823-43e4-8507-4a3c64c79615",
   "metadata": {},
   "outputs": [],
   "source": [
    "import numpy as np\n",
    "from matplotlib import pyplot as plt, animation as animation, ticker as mticker\n",
    "from tqdm.notebook import tqdm\n",
    "\n",
    "from fireworks.particles import Particles\n",
    "import fireworks.ic as ic\n",
    "import fireworks.nbodylib.dynamics as fnd\n",
    "import fireworks.nbodylib.integrators as fni\n",
    "np.random.seed(9725)"
   ]
  },
  {
   "cell_type": "code",
   "execution_count": null,
   "id": "ac3c122b-b554-4078-85a2-707d4655d190",
   "metadata": {},
   "outputs": [],
   "source": [
    "fnd."
   ]
  },
  {
   "cell_type": "code",
   "execution_count": null,
   "id": "ab3e2242-cfe0-4155-8209-54ca2b5bb6b8",
   "metadata": {},
   "outputs": [],
   "source": [
    "pos = [[0,0,0],[0.5, 0.866, 0],[1, 0, 0]]\n",
    "vel = [[0,0,0], [0,0,0], [0,0,0]]\n",
    "mass = [3, 4, 5]\n",
    "particles = Particles(position=pos, velocity=vel, mass=mass)\n",
    "\n",
    "pos_list=[]\n",
    "vel_list=[]\n",
    "energy_list=[]\n",
    "\n",
    "tevolve=65\n",
    "tstep = 0.0001\n",
    "tcurrent=0\n",
    "tintermediate = np.linspace(0+0.00001, tevolve, int(tevolve/tstep))\n",
    "for t in tqdm(tintermediate):\n",
    "    tstep=t-tcurrent\n",
    "    if tstep <=0: continue # continue means go to the next step (i.e. next t in the array)\n",
    "    particles, efftime,_,_,_= fni.integrator_rk4(particles,tstep, acceleration_estimator=fnd.acceleration_pyfalcon)\n",
    "    # particles, efftime,_,_,_= fni.integrator_leapfrog(particles,tstep, acceleration_estimator=fnd.acceleration_direct_vectorized)\n",
    "    \n",
    "    # Save the particles positions and velocities and energy\n",
    "    pos_list.append(particles.pos.copy())\n",
    "    vel_list.append(particles.vel.copy())\n",
    "    Etot, _, _ = particles.Etot()\n",
    "    energy_list.append(Etot)\n",
    "    # Here we can save stuff, plot stuff, etc.\n",
    "    tcurrent=tcurrent+efftime"
   ]
  },
  {
   "cell_type": "code",
   "execution_count": null,
   "id": "d4e31417-8894-41f1-b08c-7f6520688b44",
   "metadata": {},
   "outputs": [],
   "source": [
    "pos_array = np.array(pos_list)\n",
    "x_1, y_1, z_1 = pos_array[:, 0][:, 0], pos_array[:, 0][:, 1], pos_array[:, 0][:, 2]\n",
    "x_2, y_2, z_2 = pos_array[:, 1][:, 0], pos_array[:, 1][:, 1], pos_array[:, 1][:, 2]\n",
    "x_3, y_3, z_3 = pos_array[:, 2][:, 0], pos_array[:, 2][:, 1], pos_array[:, 2][:, 2]\n",
    "\n",
    "fig = plt.figure()\n",
    "ax = fig.add_subplot(projection='3d')\n",
    "\n",
    "ax.scatter(x_1, y_1, z_1, s=1, label='Mass 1')\n",
    "ax.scatter(x_2, y_2, z_2, s=1, label='Mass 2')\n",
    "ax.scatter(x_3, y_3, z_3, s=1, label='Mass 3')\n",
    "\n",
    "ax.legend()"
   ]
  },
  {
   "cell_type": "code",
   "execution_count": null,
   "id": "40c98edb-c0c8-40a0-a97c-38f97de610a4",
   "metadata": {},
   "outputs": [],
   "source": []
  }
 ],
 "metadata": {
  "kernelspec": {
   "display_name": "Python 3 (ipykernel)",
   "language": "python",
   "name": "python3"
  },
  "language_info": {
   "codemirror_mode": {
    "name": "ipython",
    "version": 3
   },
   "file_extension": ".py",
   "mimetype": "text/x-python",
   "name": "python",
   "nbconvert_exporter": "python",
   "pygments_lexer": "ipython3",
   "version": "3.10.12"
  }
 },
 "nbformat": 4,
 "nbformat_minor": 5
}
