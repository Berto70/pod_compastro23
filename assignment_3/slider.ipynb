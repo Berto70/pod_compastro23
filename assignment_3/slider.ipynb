{
 "cells": [
  {
   "cell_type": "code",
   "execution_count": 3,
   "metadata": {},
   "outputs": [
    {
     "data": {
      "application/vnd.jupyter.widget-view+json": {
       "model_id": "b51e638807e0436f9966638d958407cc",
       "version_major": 2,
       "version_minor": 0
      },
      "text/plain": [
       "interactive(children=(IntSlider(value=30, description='angle1', max=360, step=10), IntSlider(value=30, descrip…"
      ]
     },
     "metadata": {},
     "output_type": "display_data"
    },
    {
     "data": {
      "application/vnd.jupyter.widget-view+json": {
       "model_id": "cd22989500e1408d94e8a7721711b2eb",
       "version_major": 2,
       "version_minor": 0
      },
      "text/plain": [
       "Container(children=[HBox(children=(Play(value=0, interval=200, max=40540), IntSlider(value=0, max=40540)))], f…"
      ]
     },
     "metadata": {},
     "output_type": "display_data"
    }
   ],
   "source": [
    "import numpy as np\n",
    "import ipyvolume as ipv\n",
    "from ipywidgets import interact, fixed\n",
    "\n",
    "path = '/home/bertinelli/pod_compastro23/Fireworks/fireworks_test'\n",
    "intr = np.load(path + '/data/ass_3/pos_i.npy', allow_pickle=True)\n",
    "\n",
    "# Increase the step size to speed up the lines\n",
    "step_size = 2\n",
    "x1 = intr[::step_size, 0, 0]\n",
    "x2 = intr[::step_size, 1, 0]\n",
    "x3 = intr[::step_size, 2, 0]\n",
    "y1 = intr[::step_size, 0, 1]\n",
    "y2 = intr[::step_size, 1, 1]\n",
    "y3 = intr[::step_size, 2, 1]\n",
    "z1 = intr[::step_size, 0, 2]\n",
    "z2 = intr[::step_size, 1, 2]\n",
    "z3 = intr[::step_size, 2, 2]\n",
    "\n",
    "fig = ipv.figure()\n",
    "scatter = ipv.scatter(x1, y1, z1, color=\"blue\", label=\"Body 1\")\n",
    "ipv.scatter(x2, y2, z2, color=\"orange\", label=\"Body 2\")\n",
    "ipv.scatter(x3, y3, z3, color=\"green\", label=\"Body 3\")\n",
    "ipv.xlim(-3, 6)\n",
    "ipv.ylim(-0.5,2)\n",
    "ipv.zlim(-3,6)\n",
    "\n",
    "# Create an animation control\n",
    "animation = ipv.animation_control(scatter, interval=200)\n",
    "\n",
    "# fig = ipv.figure()\n",
    "# ipv.plot(x1, y1, z1, color=\"blue\", label=\"Body 1\")\n",
    "# ipv.plot(x2, y2, z2, color=\"orange\", label=\"Body 2\")\n",
    "# ipv.plot(x3, y3, z3, color=\"green\", label=\"Body 3\")\n",
    "# ipv.xlim(-3, 6)\n",
    "# ipv.ylim(-0.5,2)\n",
    "# ipv.zlim(-3,6)\n",
    "\n",
    "def rotate_view(angle1=30, angle2=30):\n",
    "    ipv.view(angle1, angle2)\n",
    "\n",
    "interact(rotate_view, angle1=(0, 360, 10), angle2=(0, 360, 10))\n",
    "\n",
    "ipv.show()"
   ]
  },
  {
   "cell_type": "code",
   "execution_count": null,
   "metadata": {},
   "outputs": [],
   "source": []
  }
 ],
 "metadata": {
  "kernelspec": {
   "display_name": "base",
   "language": "python",
   "name": "python3"
  },
  "language_info": {
   "codemirror_mode": {
    "name": "ipython",
    "version": 3
   },
   "file_extension": ".py",
   "mimetype": "text/x-python",
   "name": "python",
   "nbconvert_exporter": "python",
   "pygments_lexer": "ipython3",
   "version": "3.10.10"
  }
 },
 "nbformat": 4,
 "nbformat_minor": 2
}
